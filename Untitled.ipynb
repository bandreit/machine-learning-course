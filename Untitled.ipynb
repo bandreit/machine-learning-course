{
 "cells": [
  {
   "cell_type": "code",
   "execution_count": 1,
   "id": "2f546032-c409-45a3-a1f2-21098d421956",
   "metadata": {},
   "outputs": [],
   "source": [
    "import pandas as pd\n",
    "#a\n",
    "FOLDER  = \"NYC_Flights/\"\n",
    "\n",
    "airlines_df = pd.read_csv(FOLDER + \"airlines.csv\")\n",
    "airports_df = pd.read_csv(FOLDER + \"airports.csv\")\n",
    "flights_df = pd.read_csv(FOLDER + \"flights.csv\")\n",
    "planes_df = pd.read_csv(FOLDER + \"planes.csv\")\n",
    "weather_df = pd.read_csv(FOLDER + \"weather.csv\")\n",
    "\n",
    "\n"
   ]
  },
  {
   "cell_type": "code",
   "execution_count": 2,
   "id": "58a29ac8-2195-4f75-984d-03a0e4715fd3",
   "metadata": {},
   "outputs": [
    {
     "name": "stdout",
     "output_type": "stream",
     "text": [
      "  carrier                      name\n",
      "0      9E         Endeavor Air Inc.\n",
      "1      AA    American Airlines Inc.\n",
      "2      AS      Alaska Airlines Inc.\n",
      "3      B6           JetBlue Airways\n",
      "4      DL      Delta Air Lines Inc.\n",
      "5      EV  ExpressJet Airlines Inc.\n"
     ]
    }
   ],
   "source": [
    "print(airlines_df.loc[0:5,:])"
   ]
  },
  {
   "cell_type": "code",
   "execution_count": 3,
   "id": "20b442c5-7d63-48ac-b073-134bd0ec5f76",
   "metadata": {},
   "outputs": [
    {
     "name": "stdout",
     "output_type": "stream",
     "text": [
      "   faa                            name        lat        lon   alt   tz dst  \\\n",
      "0  04G               Lansdowne Airport  41.130472 -80.619583  1044 -5.0   A   \n",
      "1  06A   Moton Field Municipal Airport  32.460572 -85.680028   264 -6.0   A   \n",
      "2  06C             Schaumburg Regional  41.989341 -88.101243   801 -6.0   A   \n",
      "3  06N                 Randall Airport  41.431912 -74.391561   523 -5.0   A   \n",
      "4  09J           Jekyll Island Airport  31.074472 -81.427778    11 -5.0   A   \n",
      "5  0A9  Elizabethton Municipal Airport  36.371222 -82.173417  1593 -5.0   A   \n",
      "\n",
      "              tzone  \n",
      "0  America/New_York  \n",
      "1   America/Chicago  \n",
      "2   America/Chicago  \n",
      "3  America/New_York  \n",
      "4  America/New_York  \n",
      "5  America/New_York  \n"
     ]
    }
   ],
   "source": [
    "print(airports_df.loc[0:5,:])"
   ]
  },
  {
   "cell_type": "code",
   "execution_count": 4,
   "id": "bd64cc8f-26a0-417d-a5b0-7db18992b1e3",
   "metadata": {},
   "outputs": [
    {
     "name": "stdout",
     "output_type": "stream",
     "text": [
      "    year  month  day  dep_time  dep_delay  arr_time  arr_delay carrier  \\\n",
      "0   2013      1    1     517.0        2.0     830.0       11.0      UA   \n",
      "1   2013      1    1     533.0        4.0     850.0       20.0      UA   \n",
      "2   2013      1    1     542.0        2.0     923.0       33.0      AA   \n",
      "3   2013      1    1     554.0       -6.0     812.0      -25.0      DL   \n",
      "4   2013      1    1     554.0       -4.0     740.0       12.0      UA   \n",
      "5   2013      1    1     558.0       -2.0     753.0        8.0      AA   \n",
      "6   2013      1    1     558.0       -2.0     924.0        7.0      UA   \n",
      "7   2013      1    1     558.0       -2.0     923.0      -14.0      UA   \n",
      "8   2013      1    1     559.0       -1.0     941.0       31.0      AA   \n",
      "9   2013      1    1     559.0       -1.0     854.0       -8.0      UA   \n",
      "10  2013      1    1     602.0       -8.0     812.0       -8.0      DL   \n",
      "11  2013      1    1     606.0       -4.0     858.0      -12.0      AA   \n",
      "12  2013      1    1     606.0       -4.0     837.0       -8.0      DL   \n",
      "13  2013      1    1     607.0        0.0     858.0      -17.0      UA   \n",
      "14  2013      1    1     611.0       11.0     945.0       14.0      UA   \n",
      "15  2013      1    1     615.0        0.0     833.0       -9.0      DL   \n",
      "16  2013      1    1     622.0       -8.0    1017.0        3.0      US   \n",
      "17  2013      1    1     623.0       13.0     920.0        5.0      AA   \n",
      "18  2013      1    1     623.0       -4.0     933.0        1.0      UA   \n",
      "19  2013      1    1     627.0       -3.0    1018.0        0.0      US   \n",
      "20  2013      1    1     628.0       -2.0    1137.0       -3.0      AA   \n",
      "\n",
      "   tailnum  flight origin dest  air_time  distance  hour  minute  \n",
      "0   N14228    1545    EWR  IAH     227.0      1400   5.0    17.0  \n",
      "1   N24211    1714    LGA  IAH     227.0      1416   5.0    33.0  \n",
      "2   N619AA    1141    JFK  MIA     160.0      1089   5.0    42.0  \n",
      "3   N668DN     461    LGA  ATL     116.0       762   5.0    54.0  \n",
      "4   N39463    1696    EWR  ORD     150.0       719   5.0    54.0  \n",
      "5   N3ALAA     301    LGA  ORD     138.0       733   5.0    58.0  \n",
      "6   N29129     194    JFK  LAX     345.0      2475   5.0    58.0  \n",
      "7   N53441    1124    EWR  SFO     361.0      2565   5.0    58.0  \n",
      "8   N3DUAA     707    LGA  DFW     257.0      1389   5.0    59.0  \n",
      "9   N76515    1187    EWR  LAS     337.0      2227   5.0    59.0  \n",
      "10  N971DL    1919    LGA  MSP     170.0      1020   6.0     2.0  \n",
      "11  N633AA    1895    EWR  MIA     152.0      1085   6.0     6.0  \n",
      "12  N3739P    1743    JFK  ATL     128.0       760   6.0     6.0  \n",
      "13  N53442    1077    EWR  MIA     157.0      1085   6.0     7.0  \n",
      "14  N532UA     303    JFK  SFO     366.0      2586   6.0    11.0  \n",
      "15  N326NB     575    EWR  ATL     120.0       746   6.0    15.0  \n",
      "16  N807AW     245    EWR  PHX     342.0      2133   6.0    22.0  \n",
      "17  N3EMAA    1837    LGA  MIA     153.0      1096   6.0    23.0  \n",
      "18  N459UA     496    LGA  IAH     229.0      1416   6.0    23.0  \n",
      "19  N535UW      27    JFK  PHX     330.0      2153   6.0    27.0  \n",
      "20  N3BAAA     413    JFK  SJU     192.0      1598   6.0    28.0  \n"
     ]
    }
   ],
   "source": [
    "print(flights_df.loc[0:20,:])"
   ]
  },
  {
   "cell_type": "code",
   "execution_count": 5,
   "id": "02a0cedd-58a1-4b82-965b-4b6c135b65f2",
   "metadata": {},
   "outputs": [
    {
     "name": "stdout",
     "output_type": "stream",
     "text": [
      "  tailnum    year                     type      manufacturer      model  \\\n",
      "0  N10156  2004.0  Fixed wing multi engine           EMBRAER  EMB-145XR   \n",
      "1  N102UW  1998.0  Fixed wing multi engine  AIRBUS INDUSTRIE   A320-214   \n",
      "2  N103US  1999.0  Fixed wing multi engine  AIRBUS INDUSTRIE   A320-214   \n",
      "3  N104UW  1999.0  Fixed wing multi engine  AIRBUS INDUSTRIE   A320-214   \n",
      "4  N10575  2002.0  Fixed wing multi engine           EMBRAER  EMB-145LR   \n",
      "5  N105UW  1999.0  Fixed wing multi engine  AIRBUS INDUSTRIE   A320-214   \n",
      "\n",
      "   engines  seats  speed     engine  \n",
      "0        2     55    NaN  Turbo-fan  \n",
      "1        2    182    NaN  Turbo-fan  \n",
      "2        2    182    NaN  Turbo-fan  \n",
      "3        2    182    NaN  Turbo-fan  \n",
      "4        2     55    NaN  Turbo-fan  \n",
      "5        2    182    NaN  Turbo-fan  \n"
     ]
    }
   ],
   "source": [
    "print(planes_df.loc[0:5,:])"
   ]
  },
  {
   "cell_type": "code",
   "execution_count": 6,
   "id": "e238ff39-b3a9-4913-a66e-9bd702b9ecc1",
   "metadata": {},
   "outputs": [
    {
     "name": "stdout",
     "output_type": "stream",
     "text": [
      "   origin  year  month  day  hour   temp   dewp  humid  wind_dir  wind_speed  \\\n",
      "0     EWR  2013      1    1     0  37.04  21.92  53.97     230.0    10.35702   \n",
      "1     EWR  2013      1    1     1  37.04  21.92  53.97     230.0    13.80936   \n",
      "2     EWR  2013      1    1     2  37.94  21.92  52.09     230.0    12.65858   \n",
      "3     EWR  2013      1    1     3  37.94  23.00  54.51     230.0    13.80936   \n",
      "4     EWR  2013      1    1     4  37.94  24.08  57.04     240.0    14.96014   \n",
      "5     EWR  2013      1    1     6  39.02  26.06  59.37     270.0    10.35702   \n",
      "6     EWR  2013      1    1     7  39.02  26.96  61.63     250.0     8.05546   \n",
      "7     EWR  2013      1    1     8  39.02  28.04  64.43     240.0    11.50780   \n",
      "8     EWR  2013      1    1     9  39.92  28.04  62.21     250.0    12.65858   \n",
      "9     EWR  2013      1    1    10  39.02  28.04  64.43     260.0    12.65858   \n",
      "10    EWR  2013      1    1    11  37.94  28.04  67.21     240.0    11.50780   \n",
      "11    EWR  2013      1    1    12  39.02  28.04  64.43     240.0    14.96014   \n",
      "12    EWR  2013      1    1    13  39.92  28.04  62.21     250.0    10.35702   \n",
      "13    EWR  2013      1    1    14  39.92  28.04  62.21     260.0    14.96014   \n",
      "14    EWR  2013      1    1    15  41.00  28.04  59.65     260.0    13.80936   \n",
      "15    EWR  2013      1    1    16  41.00  26.96  57.06     260.0    14.96014   \n",
      "16    EWR  2013      1    1    17  39.20  28.40  64.93     270.0    16.11092   \n",
      "17    EWR  2013      1    1    18  39.20  28.40  64.93     330.0    14.96014   \n",
      "18    EWR  2013      1    1    19  39.02  24.08  54.68     280.0    13.80936   \n",
      "19    EWR  2013      1    1    20  37.94  24.08  57.04     290.0     9.20624   \n",
      "20    EWR  2013      1    1    21  37.04  19.94  49.62     300.0    13.80936   \n",
      "\n",
      "    wind_gust  precip  pressure  visib             time_hour  \n",
      "0   11.918651     0.0    1013.9   10.0  2013-01-01T00:00:00Z  \n",
      "1   15.891535     0.0    1013.0   10.0  2013-01-01T01:00:00Z  \n",
      "2   14.567241     0.0    1012.6   10.0  2013-01-01T02:00:00Z  \n",
      "3   15.891535     0.0    1012.7   10.0  2013-01-01T03:00:00Z  \n",
      "4   17.215830     0.0    1012.8   10.0  2013-01-01T04:00:00Z  \n",
      "5   11.918651     0.0    1012.0   10.0  2013-01-01T06:00:00Z  \n",
      "6    9.270062     0.0    1012.3   10.0  2013-01-01T07:00:00Z  \n",
      "7   13.242946     0.0    1012.5   10.0  2013-01-01T08:00:00Z  \n",
      "8   14.567241     0.0    1012.2   10.0  2013-01-01T09:00:00Z  \n",
      "9   14.567241     0.0    1011.9   10.0  2013-01-01T10:00:00Z  \n",
      "10  13.242946     0.0    1012.4   10.0  2013-01-01T11:00:00Z  \n",
      "11  17.215830     0.0    1012.2   10.0  2013-01-01T12:00:00Z  \n",
      "12  11.918651     0.0    1012.2   10.0  2013-01-01T13:00:00Z  \n",
      "13  17.215830     0.0    1012.7   10.0  2013-01-01T14:00:00Z  \n",
      "14  15.891535     0.0    1012.4   10.0  2013-01-01T15:00:00Z  \n",
      "15  17.215830     0.0    1011.4   10.0  2013-01-01T16:00:00Z  \n",
      "16  18.540125     0.0       NaN   10.0  2013-01-01T17:00:00Z  \n",
      "17  17.215830     0.0       NaN   10.0  2013-01-01T18:00:00Z  \n",
      "18  15.891535     0.0    1010.8   10.0  2013-01-01T19:00:00Z  \n",
      "19  10.594357     0.0    1011.9   10.0  2013-01-01T20:00:00Z  \n",
      "20  15.891535     0.0    1012.1   10.0  2013-01-01T21:00:00Z  \n"
     ]
    }
   ],
   "source": [
    "print(weather_df.loc[0:20,:])"
   ]
  },
  {
   "cell_type": "code",
   "execution_count": 7,
   "id": "eb6535fe-f715-4382-bbe6-447ba4fd5de3",
   "metadata": {},
   "outputs": [],
   "source": [
    "#b\n",
    "weather_df['temp'] = weather_df.apply(lambda x: (x['temp']-32)* 5/9 ,axis=1)\n",
    "weather_df['dewp'] = weather_df.apply(lambda x: (x['dewp']-32)* 5/9 ,axis=1)"
   ]
  },
  {
   "cell_type": "code",
   "execution_count": 8,
   "id": "eb729423-be9b-4bda-9611-a59b59ad1d5c",
   "metadata": {},
   "outputs": [
    {
     "name": "stdout",
     "output_type": "stream",
     "text": [
      "        arr_delay  distance\n",
      "0            11.0      1400\n",
      "1            20.0      1416\n",
      "2            33.0      1089\n",
      "3           -25.0       762\n",
      "4            12.0       719\n",
      "...           ...       ...\n",
      "160749      -25.0      1400\n",
      "160750      -25.0      2475\n",
      "160751      -30.0      2475\n",
      "160752      -23.0       200\n",
      "160753       42.0      2565\n",
      "\n",
      "[160754 rows x 2 columns]\n"
     ]
    },
    {
     "data": {
      "text/plain": [
       "[]"
      ]
     },
     "execution_count": 8,
     "metadata": {},
     "output_type": "execute_result"
    },
    {
     "data": {
      "image/png": "[encoded data removed]",
      "text/plain": [
       "<Figure size 432x288 with 1 Axes>"
      ]
     },
     "metadata": {
      "needs_background": "light"
     },
     "output_type": "display_data"
    }
   ],
   "source": [
    "from sklearn.linear_model import LinearRegression\n",
    "from sklearn.preprocessing import StandardScaler\n",
    "import matplotlib.pyplot as plt\n",
    "from sklearn.model_selection import train_test_split\n",
    "\n",
    "data = flights_df.loc[:,[\"arr_delay\",\"distance\"]]\n",
    "print(data)\n",
    "data = data.fillna(0)\n",
    "X = data[\"distance\"]\n",
    "y = data[\"arr_delay\"]\n",
    "plt.scatter(X,y)\n",
    "plt.xlabel(\"DISTANCE\")\n",
    "plt.ylabel(\"ARR_DELAY\")\n",
    "plt.plot()"
   ]
  },
  {
   "cell_type": "code",
   "execution_count": 9,
   "id": "9cd7d119-bc0f-439e-8b5a-fc68c4580ec0",
   "metadata": {},
   "outputs": [
    {
     "data": {
      "text/plain": [
       "[]"
      ]
     },
     "execution_count": 9,
     "metadata": {},
     "output_type": "execute_result"
    },
    {
     "data": {
      "image/png": "[encoded data removed]",
      "text/plain": [
       "<Figure size 432x288 with 1 Axes>"
      ]
     },
     "metadata": {
      "needs_background": "light"
     },
     "output_type": "display_data"
    }
   ],
   "source": [
    "from sklearn.preprocessing import MinMaxScaler\n",
    "import numpy as np\n",
    "X1 = np.array(X).reshape(-1,1)\n",
    "y1 = np.array(y).reshape(-1,1)\n",
    "#Replace value lower than 0 with zero\n",
    "plt.scatter(X1,y1)\n",
    "plt.xlabel(\"DISTANCE\")\n",
    "plt.ylabel(\"ARR_DELAY\")\n",
    "plt.plot()\n"
   ]
  },
  {
   "cell_type": "code",
   "execution_count": 10,
   "id": "c7c42492-384b-41a1-96fe-a88b136e7605",
   "metadata": {},
   "outputs": [
    {
     "name": "stdout",
     "output_type": "stream",
     "text": [
      "0\n"
     ]
    }
   ],
   "source": [
    "X_train, X_test , y_train, y_test = train_test_split(X1, y1, test_size=0.2, random_state=69)\n",
    "print(np.isnan(y_train).sum())"
   ]
  },
  {
   "cell_type": "code",
   "execution_count": 11,
   "id": "1f692ada-70c2-4134-a37a-2eb2cfd24b18",
   "metadata": {},
   "outputs": [
    {
     "data": {
      "text/plain": [
       "LinearRegression()"
      ]
     },
     "execution_count": 11,
     "metadata": {},
     "output_type": "execute_result"
    }
   ],
   "source": [
    "ODS = LinearRegression()\n",
    "\n",
    "ODS.fit(X_train, y_train)"
   ]
  },
  {
   "cell_type": "code",
   "execution_count": 12,
   "id": "0f5e30dd-800a-4519-878f-8ee9bfcdeb44",
   "metadata": {},
   "outputs": [
    {
     "name": "stdout",
     "output_type": "stream",
     "text": [
      "R^2 on train data is 0.00042145898796930314 and on test data is 0.00040229581575046414\n"
     ]
    },
    {
     "data": {
      "image/png": "[encoded data removed]",
      "text/plain": [
       "<Figure size 432x288 with 1 Axes>"
      ]
     },
     "metadata": {
      "needs_background": "light"
     },
     "output_type": "display_data"
    }
   ],
   "source": [
    "print(\"R^2 on train data is {} and on test data is {}\".format(ODS.score(X_train, y_train), \n",
    "                                                              ODS.score(X_test,y_test)))\n",
    "plt.scatter(X1,y1)\n",
    "y_predict = ODS.predict(X_test)\n",
    "plt.xlabel(\"DISTANCE\")\n",
    "plt.ylabel(\"ARR_DELAY\")\n",
    "plt.plot(X_test,y_predict,color='red')\n",
    "plt.show()\n",
    "#SINCE R2 is quite low, we can say that departure distance does not predict arrival delay\n",
    "#NEGATIVE VALUES WERE not replaced since that gave worse prediction ability\n"
   ]
  },
  {
   "cell_type": "code",
   "execution_count": 13,
   "id": "7c719c3d-71dd-4701-b44d-772a7d35da1e",
   "metadata": {},
   "outputs": [
    {
     "data": {
      "text/plain": [
       "[]"
      ]
     },
     "execution_count": 13,
     "metadata": {},
     "output_type": "execute_result"
    },
    {
     "data": {
      "image/png": "[encoded data removed]",
      "text/plain": [
       "<Figure size 432x288 with 1 Axes>"
      ]
     },
     "metadata": {
      "needs_background": "light"
     },
     "output_type": "display_data"
    }
   ],
   "source": [
    "#d\n",
    "from sklearn.linear_model import LinearRegression\n",
    "from sklearn.preprocessing import StandardScaler\n",
    "import matplotlib.pyplot as plt\n",
    "from sklearn.model_selection import train_test_split\n",
    "\n",
    "data = flights_df.loc[:,[\"dep_delay\",\"arr_delay\"]]\n",
    "data = data.dropna()\n",
    "X = data[\"arr_delay\"]\n",
    "y = data[\"dep_delay\"]\n",
    "X[X<0] = 0\n",
    "y[y<0] = 0\n",
    "\n",
    "plt.scatter(X,y)\n",
    "plt.xlabel(\"arr_delay\")\n",
    "plt.ylabel(\"dep_delay\")\n",
    "plt.plot()"
   ]
  },
  {
   "cell_type": "code",
   "execution_count": 14,
   "id": "8ce77e48-62e4-47d6-8e70-f537904e44af",
   "metadata": {},
   "outputs": [
    {
     "data": {
      "text/plain": [
       "[]"
      ]
     },
     "execution_count": 14,
     "metadata": {},
     "output_type": "execute_result"
    },
    {
     "data": {
      "image/png": "[encoded data removed]",
      "text/plain": [
       "<Figure size 432x288 with 1 Axes>"
      ]
     },
     "metadata": {
      "needs_background": "light"
     },
     "output_type": "display_data"
    }
   ],
   "source": [
    "from sklearn.preprocessing import MinMaxScaler\n",
    "import numpy as np\n",
    "X1 = np.array(X).reshape(-1,1)\n",
    "y1 = np.array(y).reshape(-1,1)\n",
    "plt.scatter(X1,y1)\n",
    "plt.xlabel(\"ARR_DELAY\")\n",
    "plt.ylabel(\"DEP_DELAY\")\n",
    "plt.plot()\n"
   ]
  },
  {
   "cell_type": "code",
   "execution_count": 15,
   "id": "b86b81d8-8360-460a-bc9c-590554b373d9",
   "metadata": {},
   "outputs": [],
   "source": [
    "X_train, X_test , y_train, y_test = train_test_split(X1, y1, test_size=0.2, random_state=69)\n"
   ]
  },
  {
   "cell_type": "code",
   "execution_count": 16,
   "id": "13b73625-a45e-4bad-b683-6f4c1b35d7a4",
   "metadata": {},
   "outputs": [
    {
     "name": "stdout",
     "output_type": "stream",
     "text": [
      "R^2 on train data is 0.8668469275898878 and on test data is 0.8694998794928759\n"
     ]
    },
    {
     "data": {
      "image/png": "[encoded data removed]",
      "text/plain": [
       "<Figure size 432x288 with 1 Axes>"
      ]
     },
     "metadata": {
      "needs_background": "light"
     },
     "output_type": "display_data"
    }
   ],
   "source": [
    "ODS = LinearRegression()\n",
    "\n",
    "ODS.fit(X_train, y_train)\n",
    "print(\"R^2 on train data is {} and on test data is {}\".format(ODS.score(X_train, y_train), \n",
    "                                                              ODS.score(X_test,y_test)))\n",
    "#Departure \n",
    "\n",
    "plt.scatter(X1,y1)\n",
    "y_predict = ODS.predict(X_test)\n",
    "plt.xlabel(\"Dep_delay\")\n",
    "plt.ylabel(\"ARR_DELAY\")\n",
    "plt.plot(X_test,y_predict,color='red')\n",
    "plt.show()\n"
   ]
  },
  {
   "cell_type": "markdown",
   "id": "e97f6aa4-267a-40ec-9616-012d22b06fe7",
   "metadata": {},
   "source": [
    "**(e)** Investigate whether departure delay is associated with weather conditions\n",
    "   at the origin airport. This includes descriptives, plotting, regression modelling,\n",
    "   considering missing values etc. For regression, do OLS, Ridge, Lasso, and Elastic Net.\n",
    "   The analysis should also include seasonality trends as a \"weather condition\". You could,\n",
    "   for instance, plot the daily departure delay with the date (or monthly). What are the\n",
    "   three most important weather conditions when trying to predict departure delays?"
   ]
  },
  {
   "cell_type": "code",
   "execution_count": 17,
   "id": "a1778851-fe8b-4492-97b2-bbb37638ec6b",
   "metadata": {},
   "outputs": [],
   "source": [
    "#e\n",
    "y = flights_df.loc[:,\"dep_delay\"].values\n",
    "y[np.isnan(y)] = 0\n",
    "X = []"
   ]
  },
  {
   "cell_type": "code",
   "execution_count": 18,
   "id": "09179a31-38da-497c-bcaa-41bb55d9d982",
   "metadata": {},
   "outputs": [],
   "source": [
    "# # for i in range(len(y)):\n",
    "#     # print(flights_df['origin'].equals(weather_df['origin']))\n",
    "#     # print(flights_df['year'].equals(weather_df['year']))\n",
    "#     # print(flights_df['month'].equals(weather_df['month']))\n",
    "#     # print(flights_df['day'].equals(weather_df['day']))\n",
    "# # print(str(flights_df.loc[:,'dep_time'])[:-4])\n",
    "# # print(len(X))\n",
    "# # print(len(y))\n",
    "# arr = flights_df.values\n",
    "# print(int(str(arr[0][3])[:-4]))\n",
    "# for data in arr:\n",
    "#     data[3] = (str(data[3])[:-4])\n"
   ]
  },
  {
   "cell_type": "markdown",
   "id": "1ff0ad17-6922-48db-b9e8-38d71122ee40",
   "metadata": {},
   "source": [
    "\n",
    "**(f)** Is the age of the plane associated with delay? Do OLS, Ridge, Lasso, and Elastic Net."
   ]
  },
  {
   "cell_type": "code",
   "execution_count": 19,
   "id": "3a345ba3-75f1-4b6d-ba06-a707c918c45c",
   "metadata": {},
   "outputs": [
    {
     "name": "stdout",
     "output_type": "stream",
     "text": [
      "['N14228' 'N24211' 'N619AA' ... 'N335AA' 'N813UA' 'N578UA']\n"
     ]
    }
   ],
   "source": [
    "#X is arrival delay and departure delay\n",
    "#Y is plange age\n",
    "# X = flights_df.loc[:,[\"dep_delay\",'arr_delay']].values\n",
    "# X[X<0] = 0\n",
    "# X = X[~np.isnan(X).any(axis=1)]\n",
    "X = flights_df.values\n",
    "print(X[:,8])"
   ]
  },
  {
   "cell_type": "code",
   "execution_count": 20,
   "id": "49d17f2d-3cb4-4557-9eef-4db60cebf783",
   "metadata": {},
   "outputs": [
    {
     "data": {
      "text/plain": [
       "1999.0"
      ]
     },
     "execution_count": 20,
     "metadata": {},
     "output_type": "execute_result"
    }
   ],
   "source": [
    "arr = np.where(planes_df['tailnum']=='N105UW')\n",
    "arr[0][0]\n",
    "planes_df.loc[5][\"year\"]"
   ]
  },
  {
   "cell_type": "code",
   "execution_count": 27,
   "id": "68edd587-4545-4358-ba7c-f4871f1a32e6",
   "metadata": {},
   "outputs": [
    {
     "name": "stderr",
     "output_type": "stream",
     "text": [
      "C:\\Users\\ioncr\\AppData\\Local\\Temp/ipykernel_16268/1349011311.py:4: DeprecationWarning: elementwise comparison failed; this will raise an error in the future.\n",
      "  np.where(year[:,1] == X[:,8])\n"
     ]
    }
   ],
   "source": [
    "year = planes_df.loc[:,['year','tailnum']].values\n",
    "np.where(year[:,1] == 'N619AA')\n",
    "y=[]\n",
    "np.where(year[:,1] == X[:,8])\n",
    "for data in X:\n",
    "    index = np.where(year[:,1] == (data[8]))\n",
    "    #if index null add nan\n",
    "    if(len(index[0])>0):\n",
    "        y.append(planes_df.loc[index[0][0]][\"year\"])"
   ]
  },
  {
   "cell_type": "code",
   "execution_count": 30,
   "id": "c427ced0-a6a7-47b8-9672-54295eb9bc18",
   "metadata": {},
   "outputs": [
    {
     "name": "stdout",
     "output_type": "stream",
     "text": [
      "135694\n",
      "160754\n"
     ]
    }
   ],
   "source": [
    "print(len(y))\n",
    "print(len(X))"
   ]
  },
  {
   "cell_type": "code",
   "execution_count": null,
   "id": "ae52e03a-3705-4f8e-a736-6f4cac9603dc",
   "metadata": {},
   "outputs": [],
   "source": []
  }
 ],
 "metadata": {
  "kernelspec": {
   "display_name": "Python 3 (ipykernel)",
   "language": "python",
   "name": "python3"
  },
  "language_info": {
   "codemirror_mode": {
    "name": "ipython",
    "version": 3
   },
   "file_extension": ".py",
   "mimetype": "text/x-python",
   "name": "python",
   "nbconvert_exporter": "python",
   "pygments_lexer": "ipython3",
   "version": "3.9.7"
  }
 },
 "nbformat": 4,
 "nbformat_minor": 5
}
