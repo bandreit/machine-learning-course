{
 "cells": [
  {
   "cell_type": "code",
   "execution_count": null,
   "id": "4a20a57f-3792-4346-bcf7-1656ce5774bd",
   "metadata": {},
   "outputs": [],
   "source": [
    "import pandas as pd\n",
    "\n",
    "reviews = pd.read_csv('Sentiment Analysis/reviews.txt', header=None)\n",
    "labels = pd.read_csv('Sentiment Analysis/labels.txt', header=None)\n",
    "Y = (labels=='positive').astype(np.int_)\n",
    "\n",
    "print(type(reviews))\n",
    "print(reviews.head)\n",
    "# print(reviews.iloc[2].iloc[0])\n",
    "reviews[0][0]"
   ]
  }
 ],
 "metadata": {
  "kernelspec": {
   "display_name": "Python 3 (ipykernel)",
   "language": "python",
   "name": "python3"
  },
  "language_info": {
   "codemirror_mode": {
    "name": "ipython",
    "version": 3
   },
   "file_extension": ".py",
   "mimetype": "text/x-python",
   "name": "python",
   "nbconvert_exporter": "python",
   "pygments_lexer": "ipython3",
   "version": "3.9.13"
  }
 },
 "nbformat": 4,
 "nbformat_minor": 5
}
