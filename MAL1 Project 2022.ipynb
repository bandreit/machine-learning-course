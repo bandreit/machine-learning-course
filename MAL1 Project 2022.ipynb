{
 "cells": [
  {
   "cell_type": "markdown",
   "id": "d5450d0b",
   "metadata": {},
   "source": [
    "# Machine Learning Project"
   ]
  },
  {
   "cell_type": "markdown",
   "id": "37c2f32f",
   "metadata": {},
   "source": [
    "#### Student names and numbers:\n",
    "\n",
    "#####     Andrei Bostan   293104\n",
    "#####     Daniel Railean  294241\n",
    "#####     Ion Creciun     293166"
   ]
  },
  {
   "cell_type": "markdown",
   "id": "30aeca58",
   "metadata": {},
   "source": [
    "The assignments below should be solved and documented as a project that will form the basis for the\n",
    "examination. When solving the exercises it is important that you\n",
    "\n",
    "  * document all relevant results and analyses that you have obtained/performed during the exercises.\n",
    "  * try to relate your results to the theoretical background of the methods being applied.\n",
    "\n",
    "Feel free to add cells if you need to.\n",
    "\n",
    "Please hand in assignment 1-6 in a _**single**_ Jupyter notebook where you retain the questions outlined below. You are welcome to adapt code from the web (e.g. Kaggle kernels), but you **_must_** reference the original source in your notebook. In addition to _clean, well-documented code_ (i.e. functions with <a href=\"https://www.geeksforgeeks.org/python-docstrings/\">docstrings</a>, etc), your notebook will be judged according to how well each step is explained (using Markdown). \n",
    "\n",
    "In general, direct questions regarding assignments 1, 4, 5 and 6 to Frederik, and questions regarding assignments 2, 3, and 7 to Richard. \n",
    "\n",
    "Last, but not least:\n",
    "* Looking for an overview of the markdown language? The cheat sheet <a href=\"https://medium.com/ibm-data-science-experience/markdown-for-jupyter-notebooks-cheatsheet-386c05aeebed\">here</a> might help.\n",
    "* For the Python specific components of the exercises, you should not need constructs beyond those that are already included in the notebooks on the course's web-page (still you should not feel constrained by these, so feel free to be adventurous). You may, however, need to consult the documentation for some of the methods supplied by `sklearn`.\n",
    "\n",
    "**Groups:** Create your own groups. May be across teams. 2-4 students per group. No one-person groups.\n",
    "\n",
    "\n",
    "**Submission deadline:** Thursday, December 15 before 13.00 CET (Notebooks + presentation recording)\n",
    "\n",
    "**Expected workload:** Each student is expected to spend around around 50 hours on the project.\n",
    "\n",
    "### Deliverables\n",
    "The teams have to submit three deliverables before the submission deadline: 1) a notebook of assignments 1-6, 2) a notebook of assignment 7, and 3) presentation video uploaded to some online platform e.g. YouTube, Vimeo, etc.\n",
    "\n",
    "#### Notebook\n",
    "The notebook contains all the code to explore the dataset, train the final model and documents each step clearly. If code is copied from another codebase such as Github or Stack Overflow it **_must_** be properly referenced.\n",
    "\n",
    "\n",
    "#### Presentation\n",
    "The presentation video should be 15 min long and should highlight the problem you are solving, interesting things you found in the data and the step involved in building up your model. At the exam we will discuss the presentation and ask questions about your project and submissions. A link to the video must be placed in the notebook for assignment 7.\n",
    "\n",
    "### Randomness\n",
    "For ALL random states, choose state = 69 so we can replicate your work.\n"
   ]
  },
  {
   "cell_type": "code",
   "execution_count": 85,
   "id": "6ef49835",
   "metadata": {},
   "outputs": [
    {
     "name": "stderr",
     "output_type": "stream",
     "text": [
      "[nltk_data] Downloading package stopwords to\n",
      "[nltk_data]     C:\\Users\\ion\\AppData\\Roaming\\nltk_data...\n",
      "[nltk_data]   Package stopwords is already up-to-date!\n"
     ]
    }
   ],
   "source": [
    "# Import all necessary modules here:\n",
    "import sys\n",
    "import skimage.measure\n",
    "import matplotlib.pyplot as plt\n",
    "import numpy as np\n",
    "import cv2\n",
    "import imghdr\n",
    "import ast\n",
    "import json\n",
    "from PIL import Image\n",
    "import subprocess\n",
    "import os\n",
    "import pandas as pd\n",
    "import numpy as np\n",
    "# !{sys.executable} -m pip install difPy\n",
    "from difPy import dif\n",
    "\n",
    "import tensorflow as tf\n",
    "from sklearn.datasets import load_digits\n",
    "from sklearn.model_selection import train_test_split\n",
    "from sklearn.neighbors import KNeighborsClassifier\n",
    "from sklearn.linear_model import LinearRegression\n",
    "from sklearn.linear_model import Ridge, RidgeCV, Lasso, LassoCV,ElasticNet,ElasticNetCV\n",
    "from sklearn import (datasets, decomposition, ensemble, \n",
    "                     metrics, model_selection, preprocessing)\n",
    "\n",
    "from tensorflow.keras.models import Sequential\n",
    "from tensorflow.keras.layers import Dense\n",
    "from tensorflow.keras.layers import Conv2D,MaxPooling2D,Flatten\n",
    "\n",
    "from tensorflow.keras.utils import to_categorical\n",
    "from tensorflow.keras import optimizers\n",
    "from tensorflow.keras.layers import Dropout\n",
    "from tensorflow.keras import regularizers\n",
    "from sklearn.model_selection import train_test_split\n",
    "from sklearn.neighbors import KNeighborsClassifier\n",
    "from sklearn import (datasets, decomposition, ensemble, \n",
    "                     metrics, model_selection, preprocessing)\n",
    "from numpy.random import seed, randint\n",
    "from sklearn.feature_extraction.text import CountVectorizer\n",
    "import nltk\n",
    "nltk.download('stopwords')\n",
    "from nltk.corpus import stopwords\n",
    "\n",
    "import librosa\n",
    "import librosa.display\n",
    "\n",
    "%matplotlib inline\n"
   ]
  },
  {
   "cell_type": "markdown",
   "id": "7500606e",
   "metadata": {},
   "source": [
    "## 1. The IceCat Dataset\n",
    "\n",
    "__You should be able to do this exercise after Lecture 3.__"
   ]
  },
  {
   "cell_type": "markdown",
   "id": "58a32748",
   "metadata": {},
   "source": [
    "The IceCat Dataset, kindly provided to us by Stibo Systems, contains a large amount of data on different office products. As an example of \"real-world\" data, these data are imperfect and incomplete. As such, this exercise is not so much an exercise in creating a good machine learning model, but places a larger emphasis on \"cleaning the data\".\n",
    "\n",
    "We are going to work with a subset of the IceCat Dataset. In particular, you will be provided with a zip file of 5,854 images of office products, each with the name \"product ID\".jpg. You will also be provided with a list of colors, `colors.txt`, which, when imported using the code below, is a list of tuples of the form `[(\"product ID\", \"color\"), ...]`. (The code below assumes that `colors.txt` is in the same folder as the jupyter notebook. Feel free to change the code if you prefer a different organization of your files)."
   ]
  },
  {
   "cell_type": "markdown",
   "id": "a1e77fef",
   "metadata": {},
   "source": [
    "Your task is to clean up the data and construct a simple machine learning model (_e.g._, _k_-nearest neighbor) that can identify the color of a product. You have free hands - there is hardly any one \"correct answer\" - but you need to argue for your choices. Among other things, you probably need to think about the following as you work with the data:\n",
    "\n",
    "* All of the images have different sizes.\n",
    "\n",
    "* Some of the images are RGB images (3 layers), others are CMYK (4 layers), some might even be black-and-white (1 layer).\n",
    "\n",
    "* Some colors are only represented by very few products.\n",
    "\n",
    "* Some colors are very similar, such as \"Purple\" and \"Violet\".\n",
    "\n",
    "* A product may have a particular color, but a packaging of a different color. Similarly, the color of, say, a computer monitor may be black, while the image of it could show a monitor that is turned on with a green screensaver.\n",
    "\n",
    "* Many products are attributed to several colors, such as \"Black, Blue\" or even \"Blue, Green, Orange, Violet, Yellow\". Yet others are described as \"Multicolor\" or \"Assorted colors\".\n",
    "\n",
    "Again, you have free hands in how you are going to solve these (and other) challenges, but you must argue for and reflect on your choices as you progress."
   ]
  },
  {
   "cell_type": "markdown",
   "id": "7135a9da",
   "metadata": {},
   "source": [
    "### command to install ffmpeg in PowerShell\n",
    "\n",
    "#### first install choco by using instructions from below\n",
    "\n",
    "#### using powershell and open as admin\n",
    "``` console\n",
    "Set-ExecutionPolicy Bypass -Scope Process -Force; [System.Net.ServicePointManager]::SecurityProtocol = [System.Net.ServicePointManager]::SecurityProtocol -bor 3072; iex ((New-Object System.Net.WebClient).DownloadString('https://community.chocolatey.org/install.ps1'))\n",
    "```\n",
    "\n",
    "#### then install ffmpeg\n",
    "``` console\n",
    "choco install ffmpeg\n",
    "```"
   ]
  },
  {
   "cell_type": "code",
   "execution_count": null,
   "id": "4d2a9e2e",
   "metadata": {},
   "outputs": [],
   "source": [
    "#Resize all Images/ This can be skipped if you don't want to wait \n",
    "#Uncomment if you want to use this code\n",
    "\n",
    "\n",
    "originalDirectory = 'IceCat/images/'\n",
    "resizedDirectory = 'IceCatResized/'\n",
    "# creates a new folder for the resized images\n",
    "os.system('mkdir ' + resizedDirectory[:-1])\n",
    "\n",
    "# create list of all files in directory     \n",
    "folder_files = [filename for filename in os.listdir(originalDirectory)]  \n",
    "for filename in folder_files: \n",
    "    # check if the file is accesible\n",
    "    if not os.path.isdir(originalDirectory + filename):\n",
    "        # run ffmpeg to scale down to 100x100 preserving ratio\n",
    "        # add padding to non-square images to make them square\n",
    "        # adds them to the new folder\n",
    "        os.system('ffmpeg -i ' + originalDirectory + filename  + ' -vf \"scale=w=100:h=100:force_original_aspect_ratio=1,pad=100:100:(ow-iw)/2:(oh-ih)/2:color=white\" ' + resizedDirectory  + filename )        \n",
    "        "
   ]
  },
  {
   "cell_type": "code",
   "execution_count": null,
   "id": "365c6fa3",
   "metadata": {},
   "outputs": [],
   "source": [
    "# use difPy to find images that are higly similar and delete them\n",
    "# This step can be skipped as well since it takes a lot of time to process this\n",
    "# Uncomment if you want to use this code\n",
    "\n",
    "\n",
    "dif(resizedDirectory, similarity=\"high\", show_progress=True, show_output=False, delete=True, silent_del=True)"
   ]
  },
  {
   "cell_type": "code",
   "execution_count": null,
   "id": "ca7170ef",
   "metadata": {},
   "outputs": [],
   "source": [
    "# find the images that got deleted\n",
    "originalDirectory = 'IceCat/images/'\n",
    "resizedDirectory = 'IceCatResized/'\n",
    "resizedAndDeletedDirectoru = 'IceCatResizedWoSimmilar/Images'\n",
    "\n",
    "originalImages = []\n",
    "imagesAfterDeletion = []\n",
    "deleted = []\n",
    "\n",
    "# resizedDirectory = \"IceCatResizedWoSimmilar/Images/\"\n",
    "directories = [originalDirectory, resizedDirectory]\n",
    "\n",
    "for i in range(len(directories)):\n",
    "    directory = directories[i]\n",
    "    folder_files = [filename for filename in os.listdir(directory)]  \n",
    "    for filename in folder_files:\n",
    "        if not os.path.isdir(directory + filename):\n",
    "            file_number = filename.split('.')[0]\n",
    "            if i == 0:\n",
    "                originalImages.append(int(file_number))\n",
    "            else: \n",
    "                imagesAfterDeletion.append(int(file_number))\n",
    "        \n",
    "deleted = list(set(originalImages) - set(imagesAfterDeletion))\n"
   ]
  },
  {
   "cell_type": "code",
   "execution_count": null,
   "id": "50970296-f709-43c7-9e42-1a70ad57a2fb",
   "metadata": {},
   "outputs": [],
   "source": [
    "print(str(len(deleted)) + ' files got deleted')"
   ]
  },
  {
   "cell_type": "code",
   "execution_count": null,
   "id": "dc4b1e14",
   "metadata": {},
   "outputs": [],
   "source": [
    "import ast\n",
    "with open(\"IceCat/colors.txt\",\"r\") as file:\n",
    "    colors = ast.literal_eval(file.read())\n",
    "    \n",
    "# put colors and images in a dataframe\n",
    "# remove the color-image combinations that got deleted\n",
    "df = []\n",
    "for image in colors:\n",
    "    df.append(list(image))\n",
    "    \n",
    "df = pd.DataFrame(df, columns = [\"Name\",\"Color\"])\n",
    "df = df[~df[\"Name\"].isin(deleted)]\n",
    "\n",
    "# get unique colors\n",
    "# delete the color-image combinations that are represented by less then 10 images\n",
    "groups = df.groupby(\"Color\")['Name'].nunique()\n",
    "\n",
    "x = []\n",
    "y = []\n",
    "for (index,data) in enumerate(groups):\n",
    "    if(data < 10):\n",
    "        x.append(data)\n",
    "        y.append(groups.index[index])\n",
    "        \n",
    "df = df[~df[\"Color\"].isin(y)]\n",
    "\n",
    "# delete the transparent images\n",
    "df = df[~df[\"Color\"].isin(['Transparent'])]\n",
    "df = df[~df[\"Color\"].isin(['Multicolor'])]\n",
    "\n",
    "#delete all multiple colors\n",
    "df = df[~df[\"Color\"].str.contains(\",\")]\n",
    "df = df[~df[\"Color\"].str.contains(\"Multicolour\")]\n",
    "df = df[~df[\"Color\"].str.contains(\"Assorted colours\")]\n",
    "\n",
    "\n",
    "# figure out which similar dictionary do we use\n",
    "similar = {\n",
    "    \"Brown\" : [\"Beige\",\"Wood\"],\n",
    "    \"Blue\": [\"turquoise\"],\n",
    "    \"Purple\" : [ \"Violet\"],\n",
    "    \"Silver\" : [\"Aluminium\",\"Metallic\",\"Stainless steel\"],\n",
    "    \"Yellow\" : [\"Gold\"]\n",
    "}\n",
    "\n",
    "\n",
    "# # replace colors as dictated by the similarity dictionary above\n",
    "for key in similar:\n",
    "    for color in similar[key]:\n",
    "        df.loc[df[\"Color\"].str.lower() == color.lower(), 'Color'] = key.capitalize()\n",
    "\n",
    "print(df.groupby(\"Color\")['Name'].nunique())"
   ]
  },
  {
   "cell_type": "code",
   "execution_count": null,
   "id": "6d77a7e6",
   "metadata": {},
   "outputs": [],
   "source": [
    "# convert images to pixel arrays\n",
    "imagesAsPixelArrays = []\n",
    "\n",
    "folder_files = [filename for filename in os.listdir(resizedDirectory)]  \n",
    "\n",
    "for filename in df[\"Name\"]:\n",
    "    im = np.array(Image.open(resizedDirectory + str(filename) + '.jpg'))\n",
    "    arr = (im.flatten())\n",
    "    imagesAsPixelArrays.append(arr)\n",
    "    \n",
    "imagesAsPixelArrays = np.array(imagesAsPixelArrays)"
   ]
  },
  {
   "cell_type": "code",
   "execution_count": null,
   "id": "2e641c50",
   "metadata": {},
   "outputs": [],
   "source": [
    "from sklearn.model_selection import GridSearchCV\n",
    "from sklearn.model_selection import train_test_split\n",
    "from sklearn.neighbors import KNeighborsClassifier\n",
    "\n",
    "#Look only at odd numbers\n",
    "parameters = {'n_neighbors': range(1,10,2)}\n",
    "grid_search = GridSearchCV(KNeighborsClassifier(), parameters, cv=5, refit = True, return_train_score=True, verbose=4)\n",
    "\n",
    "# Load the data and divide into train and test\n",
    "X_train, X_test, y_train, y_test = train_test_split(imagesAsPixelArrays, df['Color'], random_state=69)\n",
    "X_train, X_val, y_train, y_val = train_test_split(X_train, y_train, random_state=69)\n",
    "print(parameters)\n",
    "print(len(X_train),len(X_test))\n",
    "grid_search.fit(X_train, y_train)\n",
    "\n",
    "print(\"Test score: {:.2f}\".format(grid_search.score(X_val, y_val)))\n",
    "\n",
    "print(\"Best parameter: {}\".format(grid_search.best_params_))\n",
    "\n",
    "print(\"Best cross-validation score: {}\".format(grid_search.best_score_))\n",
    "\n",
    "print(\"Best estimator: {}\".format(grid_search.best_estimator_))\n",
    "\n",
    "\n",
    "\n"
   ]
  },
  {
   "cell_type": "code",
   "execution_count": null,
   "id": "1921f09b",
   "metadata": {},
   "outputs": [],
   "source": [
    "from sklearn.neighbors import KNeighborsClassifier\n",
    "from sklearn.model_selection import train_test_split\n",
    "\n",
    "\n",
    "knn = KNeighborsClassifier(n_neighbors=21)\n",
    "knn.fit(X_train, y_train)\n",
    "#Add score for this \n",
    "print(\"Training Prediction: {}\".format(knn.score(X_train,y_train)))\n",
    "\n",
    "print(\"Test Prediction: {}\".format(knn.score(X_test,y_test)))\n"
   ]
  },
  {
   "cell_type": "markdown",
   "id": "12a60cbe",
   "metadata": {},
   "source": [
    "## 2. Flights Departing from NYC\n",
    "\n",
    "__You should be able to do this exercise after Lecture 4.__"
   ]
  },
  {
   "cell_type": "markdown",
   "id": "fef005cc",
   "metadata": {},
   "source": [
    "For this exercise we will be using the famous nycflights13 data which contains the `airlines`, `airports`, `flights`, `planes`, and `weather` datasets. Please see the documentation (`nycflights13.pdf`) for further information."
   ]
  },
  {
   "cell_type": "code",
   "execution_count": null,
   "id": "f62431df-9f89-44b0-89ef-c53e154e938f",
   "metadata": {},
   "outputs": [],
   "source": []
  },
  {
   "cell_type": "markdown",
   "id": "4441a327",
   "metadata": {},
   "source": [
    "**(a)** Load all files as pandas dataframes and display the first 5 rows of each dataset."
   ]
  },
  {
   "cell_type": "code",
   "execution_count": null,
   "id": "92d8575d-6609-419a-89c8-59bbd3c55592",
   "metadata": {},
   "outputs": [],
   "source": [
    "#a\n",
    "FOLDER  = \"NYC_Flights/\"\n",
    "\n",
    "airlines_df = pd.read_csv(FOLDER + \"airlines.csv\")\n",
    "airports_df = pd.read_csv(FOLDER + \"airports.csv\")\n",
    "flights_df = pd.read_csv(FOLDER + \"flights.csv\")\n",
    "planes_df = pd.read_csv(FOLDER + \"planes.csv\")\n",
    "weather_df = pd.read_csv(FOLDER + \"weather.csv\")"
   ]
  },
  {
   "cell_type": "code",
   "execution_count": null,
   "id": "a78fbb7e-ac54-4572-b602-1190fb5e1a7e",
   "metadata": {},
   "outputs": [],
   "source": [
    "airlines_df[0:5]"
   ]
  },
  {
   "cell_type": "code",
   "execution_count": null,
   "id": "51b6fbdf-56ca-46a4-beed-216fd955bcb9",
   "metadata": {},
   "outputs": [],
   "source": [
    "airports_df[0:5]"
   ]
  },
  {
   "cell_type": "code",
   "execution_count": null,
   "id": "eec6e2e4-2abf-4f31-bf28-2e84ee5a8455",
   "metadata": {},
   "outputs": [],
   "source": [
    "flights_df[0:5]"
   ]
  },
  {
   "cell_type": "code",
   "execution_count": null,
   "id": "1a683ef0-f347-40ee-ae2f-fdee8f6050e8",
   "metadata": {},
   "outputs": [],
   "source": [
    "planes_df[0:5]"
   ]
  },
  {
   "cell_type": "code",
   "execution_count": null,
   "id": "d9b92c76-7b44-4ffd-8f63-f3e1dc11d462",
   "metadata": {},
   "outputs": [],
   "source": [
    "weather_df[0:5]"
   ]
  },
  {
   "cell_type": "markdown",
   "id": "239cc0b3",
   "metadata": {},
   "source": [
    "**(b)** Convert all temperature attributes to degree Celsius. We will be using this in what follows."
   ]
  },
  {
   "cell_type": "code",
   "execution_count": null,
   "id": "7feb788f-fac6-477e-8860-1416f3868175",
   "metadata": {},
   "outputs": [],
   "source": [
    "weather_df['temp'] = weather_df.apply(lambda x: (x['temp']-32)* 5/9 ,axis=1)\n",
    "weather_df['dewp'] = weather_df.apply(lambda x: (x['dewp']-32)* 5/9 ,axis=1)"
   ]
  },
  {
   "cell_type": "markdown",
   "id": "7968e374",
   "metadata": {},
   "source": [
    "**(c)** Using OLS, investigate if flight distance is associated with arrival delay. You should be cautious regarding negative delays."
   ]
  },
  {
   "cell_type": "code",
   "execution_count": null,
   "id": "8dff5092-491d-4a6b-92ec-bcc17a0f74c6",
   "metadata": {},
   "outputs": [],
   "source": [
    "data = flights_df.loc[:,[\"arr_delay\",\"distance\"]].dropna()\n",
    "# data = data.fillna(0)\n",
    "X = data[\"distance\"]\n",
    "y = data[\"arr_delay\"]\n",
    "y[y<0] = 0\n",
    "# y = y.fillna(0)\n",
    "plt.scatter(X,y)\n",
    "plt.xlabel(\"DISTANCE\")\n",
    "plt.ylabel(\"ARR_DELAY\")\n",
    "plt.plot()"
   ]
  },
  {
   "cell_type": "code",
   "execution_count": null,
   "id": "3717a8cb-e458-4b89-bb30-0a972438b623",
   "metadata": {},
   "outputs": [],
   "source": [
    "X = np.array(X).reshape(-1,1)\n",
    "y = np.array(y).reshape(-1,1)"
   ]
  },
  {
   "cell_type": "code",
   "execution_count": null,
   "id": "380c1e21-d96b-435e-bc6b-7812520c09ec",
   "metadata": {},
   "outputs": [],
   "source": [
    "X_train, X_test , y_train, y_test = train_test_split(X, y, test_size=0.2, random_state=69)"
   ]
  },
  {
   "cell_type": "code",
   "execution_count": null,
   "id": "fdc78175-ac4c-4d45-b7d3-47bc9e51e120",
   "metadata": {},
   "outputs": [],
   "source": [
    "\n",
    "ODS = LinearRegression()\n",
    "\n",
    "ODS.fit(X_train, y_train)"
   ]
  },
  {
   "cell_type": "code",
   "execution_count": null,
   "id": "210d66c4-6ba1-4e30-93b7-6074ad9aedd5",
   "metadata": {},
   "outputs": [],
   "source": [
    "print(\"R^2 on train data is {} and on test data is {}\".format(ODS.score(X_train, y_train), \n",
    "                                                              ODS.score(X_test,y_test)))\n",
    "plt.scatter(X,y)\n",
    "y_predict = ODS.predict(X_test)\n",
    "plt.xlabel(\"DISTANCE\")\n",
    "plt.ylabel(\"ARR_DELAY\")\n",
    "plt.plot(X_test,y_predict,color='red')\n",
    "plt.show()\n",
    "# #SINCE R2 is quite low, we can say that departure distance does not predict arrival delay\n",
    "# When replacing negative values, a lower prediction is made"
   ]
  },
  {
   "cell_type": "markdown",
   "id": "c30e7bda",
   "metadata": {},
   "source": [
    "**(d)** Using OLS, investigate if departure delay is associated with arrival delay. Again,\n",
    "   consider what to do with negative delays."
   ]
  },
  {
   "cell_type": "code",
   "execution_count": null,
   "id": "cefd7f54-b433-4ab4-89d8-067e6e114f8f",
   "metadata": {},
   "outputs": [],
   "source": [
    "data = flights_df.loc[:,[\"dep_delay\",\"arr_delay\"]].dropna()\n",
    "\n",
    "#NA is most frequent and thus mode is not a solution\n",
    "\n",
    "X = data[\"arr_delay\"]\n",
    "y = data[\"dep_delay\"]\n",
    "X[X<0] = 0\n",
    "y[y<0] = 0\n",
    "\n",
    "plt.scatter(X,y)\n",
    "plt.xlabel(\"arr_delay\")\n",
    "plt.ylabel(\"dep_delay\")\n",
    "plt.plot()"
   ]
  },
  {
   "cell_type": "code",
   "execution_count": null,
   "id": "3a9bcb08-0770-4f89-b67e-98031ed87ee3",
   "metadata": {},
   "outputs": [],
   "source": [
    "X = np.array(X).reshape(-1,1)\n",
    "y = np.array(y).reshape(-1,1)\n",
    "X_train, X_test , y_train, y_test = train_test_split(X, y, test_size=0.2, random_state=69)\n"
   ]
  },
  {
   "cell_type": "code",
   "execution_count": null,
   "id": "30556f15-b963-4e87-b671-b24b443c3757",
   "metadata": {},
   "outputs": [],
   "source": [
    "ODS = LinearRegression()\n",
    "\n",
    "ODS.fit(X_train, y_train)\n",
    "print(\"R^2 on train data is {} and on test data is {}\".format(ODS.score(X_train, y_train), \n",
    "                                                              ODS.score(X_test,y_test)))\n",
    "\n",
    "plt.scatter(X,y)\n",
    "y_predict = ODS.predict(X_test)\n",
    "plt.xlabel(\"Dep_delay\")\n",
    "plt.ylabel(\"ARR_DELAY\")\n",
    "plt.plot(X_test,y_predict,color='red')\n",
    "plt.show()\n",
    "\n",
    "#Difference between replacing with mean and drop are not that big, 1 percent."
   ]
  },
  {
   "cell_type": "markdown",
   "id": "0b09f482",
   "metadata": {},
   "source": [
    "**(e)** Investigate whether departure delay is associated with weather conditions\n",
    "   at the origin airport. This includes descriptives, plotting, regression modelling,\n",
    "   considering missing values etc. For regression, do OLS, Ridge, Lasso, and Elastic Net.\n",
    "   The analysis should also include seasonality trends as a \"weather condition\". You could,\n",
    "   for instance, plot the daily departure delay with the date (or monthly). What are the\n",
    "   three most important weather conditions when trying to predict departure delays?"
   ]
  },
  {
   "cell_type": "code",
   "execution_count": null,
   "id": "dff3b5d4-3615-4163-8496-8f791eb789ad",
   "metadata": {},
   "outputs": [],
   "source": [
    "flights_copy = flights_df.copy()\n",
    "flights_copy.isnull().any()"
   ]
  },
  {
   "cell_type": "code",
   "execution_count": null,
   "id": "d47044fb",
   "metadata": {},
   "outputs": [],
   "source": [
    "# drop weather NAs, as they are too important to replace\n",
    "weather_df.dropna(inplace=True)\n",
    "ax = weather_df[['temp', 'humid', 'wind_dir']].plot(kind='box', title='boxplot')\n",
    "plt.show()"
   ]
  },
  {
   "cell_type": "code",
   "execution_count": null,
   "id": "dd799b31",
   "metadata": {},
   "outputs": [],
   "source": [
    "weather_df.boxplot(column=['wind_speed']) \n",
    "wind_speed_arr = weather_df.loc[:,\"wind_speed\"].values\n",
    "# finding the 1st quartile\n",
    "q1 = np.quantile(wind_speed_arr, 0.25)\n",
    "\n",
    "# finding the 3rd quartile\n",
    "q3 = np.quantile(wind_speed_arr, 0.75)\n",
    "med = np.median(wind_speed_arr)\n",
    " \n",
    "# finding the iqr region\n",
    "iqr = q3-q1\n",
    " \n",
    "# finding upper and lower whiskers\n",
    "upper_bound = q3+(1.5*iqr)\n",
    "lower_bound = q1-(1.5*iqr)\n",
    "print(iqr, upper_bound, lower_bound)\n",
    "\n",
    "outliers = wind_speed_arr[(wind_speed_arr < lower_bound) | (wind_speed_arr > upper_bound)]\n",
    "outliers.sort()\n",
    "weather_df = weather_df.loc[weather_df['wind_speed'] != outliers[-1]]\n",
    "# there is an obvious outlier that will ruin the plot visualisation, so we are deleting it"
   ]
  },
  {
   "cell_type": "code",
   "execution_count": null,
   "id": "826d5145",
   "metadata": {},
   "outputs": [],
   "source": [
    "weather_df.boxplot(column=['wind_speed']) \n",
    "# got rid of the outlier and redidd the boxlplot"
   ]
  },
  {
   "cell_type": "code",
   "execution_count": null,
   "id": "3421dda2",
   "metadata": {},
   "outputs": [],
   "source": [
    "weather_df.boxplot(column=['precip']) "
   ]
  },
  {
   "cell_type": "code",
   "execution_count": null,
   "id": "81a1f04a",
   "metadata": {},
   "outputs": [],
   "source": [
    "weather_df.boxplot(column=['pressure']) "
   ]
  },
  {
   "cell_type": "code",
   "execution_count": null,
   "id": "6729ad22",
   "metadata": {},
   "outputs": [],
   "source": [
    "weather_df.boxplot(column=['visib'])\n",
    "# interesting to see that any visibility outside the normal one is considered an outlier,\n",
    "# rerepsenting that on most ocassions, the visibility is normal at 10 miles"
   ]
  },
  {
   "cell_type": "code",
   "execution_count": null,
   "id": "da235484",
   "metadata": {},
   "outputs": [],
   "source": [
    "import math\n",
    "\n",
    "weather = weather_df.copy()\n",
    "new_time_hour = []\n",
    "\n",
    "# change R stuff to python date\n",
    "for i, row in weather.iterrows():\n",
    "    time_hour_val = np.datetime64(weather.at[i,'time_hour'])\n",
    "    new_time_hour.append(time_hour_val)\n",
    "    # weather.at[i,'time_hour'] = time_hour_val\n",
    "weather['time_hour'] = new_time_hour\n",
    "\n",
    "# get rid of NAs in date and time\n",
    "flights_copy.dropna(subset=['year', 'month', 'day', 'hour'], inplace=True)\n",
    "new_time_hour = []\n",
    "\n",
    "# create new date format for flights to coincide with weather\n",
    "for i, row in flights_copy.iterrows():\n",
    "    y = flights_copy.at[i,'year'].astype(str)\n",
    "    m = flights_copy.at[i,'month'].astype(str).zfill(2)\n",
    "    d = flights_copy.at[i,'day'].astype(str).zfill(2)\n",
    "    h = str(math.floor(flights_copy.at[i,'hour'])).zfill(2)\n",
    "\n",
    "    if h == \"24\" :\n",
    "        h = \"00\"\n",
    "\n",
    "    dateTimeFormat = y + '-' + m + '-' + d + 'T' + h\n",
    "    dt_time_hour = np.datetime64(dateTimeFormat)\n",
    "    new_time_hour.append(dt_time_hour)\n",
    "\n",
    "flights_copy['time_hour'] = new_time_hour\n",
    "\n"
   ]
  },
  {
   "cell_type": "code",
   "execution_count": null,
   "id": "17a1d0bc",
   "metadata": {},
   "outputs": [],
   "source": [
    "# merge flights with weather and plot the diferent phenomenones\n",
    "merged_flights_weather = flights_copy.merge(weather, how='inner', on=['origin', 'time_hour'])\n",
    "\n",
    "weather_phenomena = ['temp', 'dewp', 'humid', 'wind_dir', 'wind_speed', 'wind_gust', 'precip', 'pressure', 'visib']\n",
    "  \n",
    "fig = plt.figure(figsize=(10, 9))\n",
    "fig.subplots_adjust(hspace=0.4, wspace=0.3)\n",
    "\n",
    "# Plot data by looping through arrays of variables and list of colors\n",
    "y = merged_flights_weather[\"dep_delay\"]\n",
    "y = np.array(y).reshape(-1,1)\n",
    "\n",
    "whi = 0\n",
    "for i in range(3):\n",
    "  for j in range(3):\n",
    "    X = merged_flights_weather[weather_phenomena[whi]]\n",
    "    X = np.array(X).reshape(-1,1)\n",
    "    ax = fig.add_subplot(3, 3, whi+1)\n",
    "    ax.scatter(X, y)\n",
    "    ax.set_ylabel('dep_delay')\n",
    "    ax.set_xlabel(weather_phenomena[whi])\n",
    "\n",
    "    whi += 1"
   ]
  },
  {
   "cell_type": "code",
   "execution_count": null,
   "id": "57fb2beb",
   "metadata": {},
   "outputs": [],
   "source": [
    "all_features = merged_flights_weather.loc[:,['temp', 'dewp', 'humid', 'wind_dir', 'wind_speed', 'wind_gust', 'precip', 'pressure', 'visib']]\n",
    "all_features.values"
   ]
  },
  {
   "cell_type": "code",
   "execution_count": null,
   "id": "6fe0b90c",
   "metadata": {},
   "outputs": [],
   "source": [
    "from sklearn.linear_model import Ridge, RidgeCV, Lasso, LassoCV,ElasticNet,ElasticNetCV\n",
    "\n",
    "X = all_features.values\n",
    "\n",
    "# OLS\n",
    "X_train, X_test , y_train, y_test = train_test_split(X, y, test_size=0.2, random_state=69)\n",
    "ODS = LinearRegression()\n",
    "ODS.fit(X_train, y_train)\n",
    "print(\"R^2 on train data is {} and on test data is {}\".format( ODS.score(X_train, y_train), \n",
    "                                                                ODS.score(X_test,y_test)))"
   ]
  },
  {
   "cell_type": "code",
   "execution_count": null,
   "id": "0c8d491a",
   "metadata": {},
   "outputs": [],
   "source": [
    "# RIDGE\n",
    "alphas = 10**np.linspace(-10, 10, 100)\n",
    "ridge = Ridge(normalize = True)\n",
    "coefs = []\n",
    "y = y.flatten()\n",
    "for a in alphas:\n",
    "    ridge.set_params(alpha = a)\n",
    "    ridge.fit(X, y)\n",
    "    coefs.append(ridge.coef_)\n",
    "\n",
    "print(np.shape(coefs))\n",
    "weather_coefficients = [coef[0] for coef in coefs]\n",
    "depDelay_coefficients = [coef[1] for coef in coefs]\n",
    "print(np.shape(coefs))\n",
    "ax = plt.gca()\n",
    "ax.plot(alphas, coefs)\n",
    "ax.plot(alphas, weather_coefficients, label=\"Weather coefficient\")\n",
    "ax.plot(alphas, depDelay_coefficients, label=\"departure Delay coefficient\")\n",
    "ax.set_xscale('log')\n",
    "plt.legend()\n",
    "plt.axis('tight')\n",
    "plt.xlabel('alpha')\n",
    "plt.ylabel('weights')\n",
    "X_train, X_test , y_train, y_test = train_test_split(X, y, test_size=0.5, random_state=1)\n",
    "for alpha in [alphas[0], alphas[50], alphas[-1]]:\n",
    "    ridge = Ridge(normalize=True, alpha=alpha)\n",
    "    ridge.fit(X_train, y_train)\n",
    "    print(\"alhpa = {}\".format(alpha))\n",
    "    print(\"R^2 on train data is {} and on test data is {}\".format(ridge.score(X_train, y_train), \n",
    "                                                              ridge.score(X_test,y_test)))\n",
    "ridgecv = RidgeCV(alphas = alphas, normalize = True)\n",
    "ridgecv.fit(X_train, y_train)\n",
    "ridgecv.alpha_\n",
    "print(\"R^2 on train data is {} and on test data is {}\".format(ridgecv.score(X_train, y_train), \n",
    "                                                              ridgecv.score(X_test,y_test)))\n",
    "ridgecv.coef_"
   ]
  },
  {
   "cell_type": "code",
   "execution_count": null,
   "id": "73d7394c",
   "metadata": {},
   "outputs": [],
   "source": [
    "#LASSO\n",
    "# #Lasso\n",
    "lasso = Lasso(max_iter = 10000, normalize = True)\n",
    "coefs = []\n",
    "\n",
    "for a in alphas:\n",
    "    lasso.set_params(alpha = a)\n",
    "    lasso.fit(X_train, y_train)\n",
    "    coefs.append(lasso.coef_)\n",
    "    \n",
    "np.shape(coefs)\n",
    "weather_coefficients0 = [coef[0] for coef in coefs]\n",
    "weather_coefficients1 = [coef[1] for coef in coefs]\n",
    "weather_coefficients2 = [coef[2] for coef in coefs]\n",
    "weather_coefficients3 = [coef[3] for coef in coefs]\n",
    "weather_coefficients4 = [coef[4] for coef in coefs]\n",
    "weather_coefficients5 = [coef[5] for coef in coefs]\n",
    "weather_coefficients6 = [coef[6] for coef in coefs]\n",
    "weather_coefficients7 = [coef[7] for coef in coefs]\n",
    "weather_coefficients8 = [coef[8] for coef in coefs]\n",
    "\n",
    "print(np.shape(coefs))\n",
    "ax = plt.gca()\n",
    "ax.set_xscale('log')\n",
    "ax.plot(alphas, weather_coefficients0, label=\"temp\")\n",
    "ax.plot(alphas, weather_coefficients1, label=\"dewp\")\n",
    "ax.plot(alphas, weather_coefficients2, label=\"humid\")\n",
    "ax.plot(alphas, weather_coefficients3, label=\"wind_dir\")\n",
    "ax.plot(alphas, weather_coefficients4, label=\"wind_speed\")\n",
    "ax.plot(alphas, weather_coefficients5, label=\"wind_gust\")\n",
    "ax.plot(alphas, weather_coefficients6, label=\"precip\")\n",
    "ax.plot(alphas, weather_coefficients7, label=\"pressure\")\n",
    "ax.plot(alphas, weather_coefficients8, label=\"visib\")\n",
    "plt.legend()\n",
    "plt.axis('tight')\n",
    "plt.xlabel('alpha')\n",
    "plt.ylabel('weights')\n",
    "lassocv = LassoCV(alphas = alphas, cv = 10, max_iter = 100000, normalize = True)\n",
    "lassocv.fit(X_train, y_train)\n",
    "\n",
    "lasso.set_params(alpha=lassocv.alpha_)\n",
    "lasso.fit(X_train, y_train)\n",
    "print(\"R^2 on train data is {} and on test data is {}\".format(lassocv.score(X_train, y_train), \n",
    "                                                              lassocv.score(X_test,y_test)))\n",
    "pd.Series(lasso.coef_, index=weather_phenomena)"
   ]
  },
  {
   "cell_type": "code",
   "execution_count": null,
   "id": "e5518ad0",
   "metadata": {},
   "outputs": [],
   "source": [
    "#Elastic Net\n",
    "elasticNet = ElasticNet(alpha=1)\n",
    "elasticNet.fit(X_train, y_train)\n",
    "print(\"R^2 on train data is {} and on test data is {}\".format(elasticNet.score(X_train, y_train), \n",
    "                                                              elasticNet.score(X_test,y_test)))"
   ]
  },
  {
   "cell_type": "markdown",
   "id": "00af31a3",
   "metadata": {},
   "source": [
    "**(f)** Is the age of the plane associated with delay? Do OLS, Ridge, Lasso, and Elastic Net."
   ]
  },
  {
   "cell_type": "code",
   "execution_count": null,
   "id": "216b9292-aff9-4d72-abbc-2ba3b2b3dc2d",
   "metadata": {},
   "outputs": [],
   "source": [
    "data = flights_df.merge(planes_df, on='tailnum', how='left')\n",
    "data = data.loc[:,[\"year_y\",\"dep_delay\",\"arr_delay\"]]\n",
    "y = data.loc[:,[\"year_y\"]].values\n",
    "X = data.loc[:,[\"arr_delay\",\"dep_delay\"]].values\n",
    "X[X[:,0]<0] = 0\n",
    "X[X[:,0]<0] = 0\n",
    "y_mode = data.loc[:,['year_y']].mode()['year_y'][0]\n",
    "np.nan_to_num(y,copy=False,nan=y_mode)\n",
    "\n",
    "X_mode_arr = data.loc[:,['arr_delay']].mean()\n",
    "np.nan_to_num(X[:,0],copy=False,nan=X_mode_arr)\n",
    "X_mode_dep = data.loc[:,['dep_delay']].mean()\n",
    "np.nan_to_num(X[:,1],copy=False,nan=X_mode_dep)"
   ]
  },
  {
   "cell_type": "code",
   "execution_count": null,
   "id": "50a9ceda-325a-45be-bebe-b1a2625eaf2f",
   "metadata": {},
   "outputs": [],
   "source": [
    "fig = plt.figure()\n",
    "ax = plt.axes(projection='3d')\n",
    "ax.scatter3D(X[:,0], X[:,1],y);"
   ]
  },
  {
   "cell_type": "code",
   "execution_count": null,
   "id": "edeb54e8-2f3b-4ab7-bb18-8359215a0271",
   "metadata": {},
   "outputs": [],
   "source": [
    "X_train, X_test , y_train, y_test = train_test_split(X, y, test_size=0.2, random_state=69)\n",
    "ODS = LinearRegression()\n",
    "ODS.fit(X_train, y_train)\n",
    "print(\"R^2 on train data is {} and on test data is {}\".format(ODS.score(X_train, y_train), \n",
    "                                                              ODS.score(X_test,y_test)))\n",
    "\n",
    "#By doing OLS we can conclude that Plane Year manufacture is not associated with departure delay"
   ]
  },
  {
   "cell_type": "markdown",
   "id": "15b6e1c5-a277-4645-a087-847b876b6126",
   "metadata": {},
   "source": [
    "#### Ridge Regression"
   ]
  },
  {
   "cell_type": "code",
   "execution_count": null,
   "id": "3d8da2ca-2d3b-433f-a068-58c10ce0f7c0",
   "metadata": {},
   "outputs": [],
   "source": [
    "\n",
    "alphas = 10**np.linspace(-10, 10, 100)\n",
    "ridge = Ridge(normalize = True)\n",
    "coefs = []\n",
    "y = y.flatten()\n",
    "for a in alphas:\n",
    "    ridge.set_params(alpha = a)\n",
    "    ridge.fit(X, y)\n",
    "    coefs.append(ridge.coef_)\n",
    "    \n",
    "np.shape(coefs)\n",
    "arrDelay_coefficients = [coef[0] for coef in coefs]\n",
    "depDelay_coefficients = [coef[1] for coef in coefs]"
   ]
  },
  {
   "cell_type": "code",
   "execution_count": null,
   "id": "59ea11c7-3c67-4c25-802c-4c4d58cc6a8e",
   "metadata": {},
   "outputs": [],
   "source": [
    "ax = plt.gca()\n",
    "ax.plot(alphas, coefs)\n",
    "ax.plot(alphas, arrDelay_coefficients, label=\"arrival Delay coefficient\")\n",
    "ax.plot(alphas, depDelay_coefficients, label=\"departure Delay coefficient\")\n",
    "ax.set_xscale('log')\n",
    "plt.legend()\n",
    "plt.axis('tight')\n",
    "plt.xlabel('alpha')\n",
    "plt.ylabel('weights')"
   ]
  },
  {
   "cell_type": "code",
   "execution_count": null,
   "id": "574ffa27-81ad-4095-bc65-f9dccca6f14e",
   "metadata": {},
   "outputs": [],
   "source": [
    "X_train, X_test , y_train, y_test = train_test_split(X, y, test_size=0.5, random_state=1)\n",
    "for alpha in alphas:\n",
    "    ridge = Ridge(normalize=True, alpha=alpha)\n",
    "    ridge.fit(X_train, y_train)\n",
    "    print(\"alhpa = {}\".format(alpha))\n",
    "    print(\"R^2 on train data is {} and on test data is {}\".format(ridge.score(X_train, y_train), \n",
    "                                                              ridge.score(X_test,y_test)))"
   ]
  },
  {
   "cell_type": "code",
   "execution_count": null,
   "id": "78618a13-ca6d-4ac2-9f72-275662e77380",
   "metadata": {},
   "outputs": [],
   "source": [
    "ridgecv = RidgeCV(alphas = alphas, normalize = True)\n",
    "ridgecv.fit(X_train, y_train)\n",
    "ridgecv.alpha_"
   ]
  },
  {
   "cell_type": "code",
   "execution_count": null,
   "id": "7a29bcc8-8e63-4e83-8062-5678ef181caf",
   "metadata": {},
   "outputs": [],
   "source": [
    "print(\"R^2 on train data is {} and on test data is {}\".format(ridgecv.score(X_train, y_train), \n",
    "ridgecv.score(X_test,y_test)))     "
   ]
  },
  {
   "cell_type": "code",
   "execution_count": null,
   "id": "5f7dbc99-dc3e-4b5a-a503-a033d24e1644",
   "metadata": {},
   "outputs": [],
   "source": [
    "ridgecv.coef_"
   ]
  },
  {
   "cell_type": "markdown",
   "id": "df088243-7398-4ca8-bf0b-3b3151e84491",
   "metadata": {},
   "source": [
    "#### Lasso"
   ]
  },
  {
   "cell_type": "code",
   "execution_count": null,
   "id": "e96e89b1-b291-48a6-a50a-1a4ea7227499",
   "metadata": {},
   "outputs": [],
   "source": [
    "# #Lasso\n",
    "lasso = Lasso(max_iter = 10000, normalize = True)\n",
    "coefs = []\n",
    "\n",
    "for a in alphas:\n",
    "    lasso.set_params(alpha = a)\n",
    "    lasso.fit(X_train, y_train)\n",
    "    coefs.append(lasso.coef_)\n",
    "    \n",
    "np.shape(coefs)\n",
    "arrDelay_coefficients = [coef[0] for coef in coefs]\n",
    "depDelay_coefficients = [coef[1] for coef in coefs]\n",
    "print(np.shape(coefs))"
   ]
  },
  {
   "cell_type": "code",
   "execution_count": null,
   "id": "361e7cb8-cc52-40e6-a3a2-cc5e0c5831ac",
   "metadata": {},
   "outputs": [],
   "source": [
    "ax = plt.gca()\n",
    "ax.set_xscale('log')\n",
    "ax.plot(alphas, arrDelay_coefficients, label=\"arrival Delay coefficient\")\n",
    "ax.plot(alphas, depDelay_coefficients, label=\"departure Delay coefficient\")\n",
    "plt.legend()\n",
    "plt.axis('tight')\n",
    "plt.xlabel('alpha')\n",
    "plt.ylabel('weights')"
   ]
  },
  {
   "cell_type": "code",
   "execution_count": null,
   "id": "f8b4a38f-0f9f-4a41-b677-482095dd1d15",
   "metadata": {},
   "outputs": [],
   "source": [
    "lassocv = LassoCV(alphas = alphas, cv = 10, max_iter = 100000, normalize = True)\n",
    "lassocv.fit(X_train, y_train)\n",
    "\n",
    "lasso.set_params(alpha=lassocv.alpha_)\n",
    "lasso.fit(X_train, y_train)"
   ]
  },
  {
   "cell_type": "code",
   "execution_count": null,
   "id": "0cf59699-acc2-4766-9097-6a4d07d8224a",
   "metadata": {},
   "outputs": [],
   "source": [
    "print(\"R^2 on train data is {} and on test data is {}\".format(lassocv.score(X_train, y_train), \n",
    "                                                              lassocv.score(X_test,y_test)))"
   ]
  },
  {
   "cell_type": "code",
   "execution_count": null,
   "id": "13551c90-1728-4561-b34f-72411e1443db",
   "metadata": {},
   "outputs": [],
   "source": [
    "pd.Series(lasso.coef_, index=[\"arr_delay\",\"dep_delay\"])"
   ]
  },
  {
   "cell_type": "markdown",
   "id": "55321196-b871-441f-a045-079f9bedba46",
   "metadata": {},
   "source": [
    "#### Elastic Net"
   ]
  },
  {
   "cell_type": "code",
   "execution_count": null,
   "id": "38a00464-0700-4b40-9de2-337f91e2270d",
   "metadata": {},
   "outputs": [],
   "source": [
    "#Elastic Net\n",
    "elasticNet = ElasticNet(alpha=1.7886495290574353e-05)\n",
    "elasticNet.fit(X_train, y_train)\n"
   ]
  },
  {
   "cell_type": "code",
   "execution_count": null,
   "id": "66dbd707-ef18-4b3d-b199-7ce94967c203",
   "metadata": {},
   "outputs": [],
   "source": [
    "print(\"R^2 on train data is {} and on test data is {}\".format(elasticNet.score(X_train, y_train), \n",
    "                                                              elasticNet.score(X_test,y_test)))"
   ]
  },
  {
   "cell_type": "markdown",
   "id": "7161524d",
   "metadata": {},
   "source": [
    "##### Even though, intuitively, we think that there is a correlation between weather and delays, there really isn’t one. The correlation coefficient between them is very low, and from the graphs we can see that some of them follow a normal distribution, meaning that in extreme cases it might have an impact, but overall the delays just peaks in July and December/January: Holidays. "
   ]
  },
  {
   "cell_type": "markdown",
   "id": "ff976833",
   "metadata": {},
   "source": [
    "**(g)** Do a principal component analysis of the weather at JFK using the following columns:\n",
    "   temp, dewp, humid, wind_dir, wind_speed, precip, visib.\n",
    "   How many principal components should be used to capture the variability in the weather data?"
   ]
  },
  {
   "cell_type": "code",
   "execution_count": null,
   "id": "f7d8efc6-75ae-46bc-b81a-f6b0f178b495",
   "metadata": {},
   "outputs": [],
   "source": [
    "filter = weather_df['origin'] == 'JFK'\n",
    "weather_df.sort_values(\"origin\", inplace = True)\n",
    "data = weather_df.where(filter).dropna()\n",
    "X = data.loc[:,['temp','dewp','humid','wind_dir','wind_speed','precip','visib']].values"
   ]
  },
  {
   "cell_type": "code",
   "execution_count": null,
   "id": "b8eb0573-02ff-4f52-a940-9af29c1ecb85",
   "metadata": {},
   "outputs": [],
   "source": [
    "X_s = preprocessing.StandardScaler().fit_transform(X)\n",
    "pca4 = decomposition.PCA(n_components=None)\n",
    "res4 = pca4.fit_transform(X_s)\n",
    "pca4.explained_variance_ratio_"
   ]
  },
  {
   "cell_type": "code",
   "execution_count": null,
   "id": "2d0ffc32-727e-4f52-9db5-9295f84638b3",
   "metadata": {},
   "outputs": [],
   "source": [
    "x = list(range(1, 1 + len(pca4.explained_variance_ratio_)))\n",
    "plt.plot(x, np.cumsum(pca4.explained_variance_ratio_))\n",
    "plt.xlabel('number of components')\n",
    "plt.ylabel('cumulative explained variance')\n",
    "plt.gca().invert_yaxis()\n",
    "plt.show()"
   ]
  },
  {
   "cell_type": "markdown",
   "id": "c0089a18",
   "metadata": {},
   "source": [
    "**(h)** Build regression models (OLS, Ridge, Lasso, and Elastic Net) that associates\n",
    "   an airports lattitude with weather conditions (temp, dewp, humid, wind_dir, wind_speed,\n",
    "   precip, visib). Remove all but the three most significant whether conditions and redo\n",
    "   the analysis."
   ]
  },
  {
   "cell_type": "code",
   "execution_count": null,
   "id": "401ec3e4-a2ae-4535-9bb3-fb7d4fda269b",
   "metadata": {},
   "outputs": [],
   "source": [
    "data = weather_df.merge(airports_df, left_on='origin',right_on='faa', how='left',)\n",
    "data = data.fillna(data.median())\n",
    "y = data.loc[:,['lat']].values\n",
    "X = data.loc[:,['temp','dewp','humid','wind_dir','wind_speed','precip','visib']].values"
   ]
  },
  {
   "cell_type": "code",
   "execution_count": null,
   "id": "543222e0-047d-47c1-92f8-3cdf19a7168a",
   "metadata": {},
   "outputs": [],
   "source": [
    "#OLS\n",
    "X_train, X_test , y_train, y_test = train_test_split(X, y, test_size=0.2, random_state=69)\n",
    "ODS = LinearRegression()\n",
    "ODS.fit(X_train, y_train)\n",
    "print(\"R^2 on train data is {} and on test data is {}\".format(ODS.score(X_train, y_train), \n",
    "                                                              ODS.score(X_test,y_test)))"
   ]
  },
  {
   "cell_type": "code",
   "execution_count": null,
   "id": "105aec83-77db-4c3c-922b-002a0cb66c01",
   "metadata": {},
   "outputs": [],
   "source": [
    "#RIDGE \n",
    "alphas = 10**np.linspace(-10, 10, 100)\n",
    "ridge = Ridge(normalize = True)\n",
    "coefs = []\n",
    "y = y.flatten()\n",
    "for a in alphas:\n",
    "    ridge.set_params(alpha = a)\n",
    "    ridge.fit(X, y)\n",
    "    coefs.append(ridge.coef_)\n",
    "    \n",
    "np.shape(coefs)\n",
    "temp_coefficients = [coef[0] for coef in coefs]\n",
    "dewp_coefficients = [coef[1] for coef in coefs]\n",
    "humid_coefficients = [coef[2] for coef in coefs]\n",
    "wind_dir_coefficients = [coef[3] for coef in coefs]\n",
    "wind_speed_coefficients = [coef[4] for coef in coefs]\n",
    "precip_coefficients = [coef[5] for coef in coefs]\n",
    "visib_coefficients = [coef[6] for coef in coefs]\n",
    "\n",
    "print(np.shape(coefs))"
   ]
  },
  {
   "cell_type": "code",
   "execution_count": null,
   "id": "ee44e414-a9c3-409e-9531-23b3d89fca83",
   "metadata": {},
   "outputs": [],
   "source": [
    "ax = plt.gca()\n",
    "ax.plot(alphas, coefs)\n",
    "ax.plot(alphas, temp_coefficients, label=\"Temo coefficient\")\n",
    "ax.plot(alphas, dewp_coefficients, label=\"dewp coefficient\")\n",
    "ax.plot(alphas, humid_coefficients, label=\"Humid coefficient\")\n",
    "ax.plot(alphas, wind_dir_coefficients, label=\"Wind direction coefficient\")\n",
    "ax.plot(alphas, wind_speed_coefficients, label=\"Wind Speed coefficient\")\n",
    "ax.plot(alphas, precip_coefficients, label=\"Precip coefficient\")\n",
    "ax.plot(alphas, visib_coefficients, label=\"Visib coefficient\")\n",
    "\n",
    "ax.set_xscale('log')\n",
    "plt.legend()\n",
    "plt.axis('tight')\n",
    "plt.xlabel('alpha')\n",
    "plt.ylabel('weights')"
   ]
  },
  {
   "cell_type": "code",
   "execution_count": null,
   "id": "450b5169-3703-42ee-9924-bafeabf560ea",
   "metadata": {},
   "outputs": [],
   "source": [
    "X_train, X_test , y_train, y_test = train_test_split(X, y, test_size=0.5, random_state=1)\n",
    "for alpha in alphas:\n",
    "    ridge = Ridge(normalize=True, alpha=alpha)\n",
    "    ridge.fit(X_train, y_train)\n",
    "    print(\"alhpa = {}\".format(alpha))\n",
    "    print(\"R^2 on train data is {} and on test data is {}\".format(ridge.score(X_train, y_train), \n",
    "                                                              ridge.score(X_test,y_test)))"
   ]
  },
  {
   "cell_type": "code",
   "execution_count": null,
   "id": "4525d371-ecc0-4177-a06d-271323d10205",
   "metadata": {},
   "outputs": [],
   "source": [
    "ridgecv = RidgeCV(alphas = alphas, normalize = True)\n",
    "ridgecv.fit(X_train, y_train)\n",
    "#Best alpha\n",
    "ridgecv.alpha_"
   ]
  },
  {
   "cell_type": "code",
   "execution_count": null,
   "id": "4e708111-7016-4f9b-9b47-e4f9501e8b9f",
   "metadata": {},
   "outputs": [],
   "source": [
    "ridgecv.coef_"
   ]
  },
  {
   "cell_type": "code",
   "execution_count": null,
   "id": "f35208a9-18c8-41a8-9d44-b0863878c42d",
   "metadata": {},
   "outputs": [],
   "source": [
    "#LASSO\n",
    "lasso = Lasso(max_iter = 10000, normalize = True,)\n",
    "coefs = []\n",
    "\n",
    "for a in alphas:\n",
    "    lasso.set_params(alpha = a)\n",
    "    lasso.fit(X_train, y_train)\n",
    "    coefs.append(lasso.coef_)\n",
    "    \n",
    "np.shape(coefs)\n",
    "temp_coefficients = [coef[0] for coef in coefs]\n",
    "dewp_coefficients = [coef[1] for coef in coefs]\n",
    "humid_coefficients = [coef[2] for coef in coefs]\n",
    "wind_dir_coefficients = [coef[3] for coef in coefs]\n",
    "wind_speed_coefficients = [coef[4] for coef in coefs]\n",
    "precip_coefficients = [coef[5] for coef in coefs]\n",
    "visib_coefficients = [coef[6] for coef in coefs]\n",
    "print(np.shape(coefs))"
   ]
  },
  {
   "cell_type": "code",
   "execution_count": null,
   "id": "39e0e1bc-b8e2-4407-9ef8-2d1dc81ab0e6",
   "metadata": {},
   "outputs": [],
   "source": [
    "ax = plt.gca()\n",
    "ax.set_xscale('log')\n",
    "ax.plot(alphas, temp_coefficients, label=\"Temo coefficient\")\n",
    "ax.plot(alphas, dewp_coefficients, label=\"dewp coefficient\")\n",
    "ax.plot(alphas, humid_coefficients, label=\"Humid coefficient\")\n",
    "ax.plot(alphas, wind_dir_coefficients, label=\"Wind direction coefficient\")\n",
    "ax.plot(alphas, wind_speed_coefficients, label=\"Wind Speed coefficient\")\n",
    "ax.plot(alphas, precip_coefficients, label=\"Precip coefficient\")\n",
    "ax.plot(alphas, visib_coefficients, label=\"Visib coefficient\")\n",
    "plt.legend()\n",
    "plt.axis('tight')\n",
    "plt.xlabel('alpha')\n",
    "plt.ylabel('weights')"
   ]
  },
  {
   "cell_type": "code",
   "execution_count": null,
   "id": "5e30a161-d925-4930-bec8-a25ac0970a3c",
   "metadata": {},
   "outputs": [],
   "source": [
    "lassocv = LassoCV(alphas = alphas, cv = 10, max_iter = 100000, normalize = True,)\n",
    "lassocv.fit(X_train, y_train)\n",
    "\n",
    "lasso.set_params(alpha=lassocv.alpha_)\n",
    "lasso.fit(X_train, y_train)"
   ]
  },
  {
   "cell_type": "code",
   "execution_count": null,
   "id": "bfc0c3c4-b4ac-481f-bec7-94ef501fd573",
   "metadata": {},
   "outputs": [],
   "source": [
    "print(\"R^2 on train data is {} and on test data is {}\".format(lassocv.score(X_train, y_train), \n",
    "                                                              lassocv.score(X_test,y_test)))"
   ]
  },
  {
   "cell_type": "code",
   "execution_count": null,
   "id": "30de69ee-bcfe-4350-a091-04ad916a5752",
   "metadata": {},
   "outputs": [],
   "source": [
    "pd.Series(lasso.coef_, index=['temp','dewp','humid','wind_dir','wind_speed','precip','visib'])\n",
    "#Three most important features are  precip,dewp and temp"
   ]
  },
  {
   "cell_type": "code",
   "execution_count": null,
   "id": "248ab7e3-db1b-4077-9ac3-93b7927e5293",
   "metadata": {},
   "outputs": [],
   "source": [
    "#REDO ANALYSIS\n",
    "data = weather_df.merge(airports_df, left_on='origin',right_on='faa', how='left',)\n",
    "data = data.fillna(data.median())\n",
    "y = data.loc[:,['lat']].values\n",
    "X = data.loc[:,['temp','dewp','precip']].values\n",
    "#OLS\n",
    "X_train, X_test , y_train, y_test = train_test_split(X, y, test_size=0.2, random_state=69)\n",
    "ODS = LinearRegression()\n",
    "ODS.fit(X_train, y_train)\n",
    "print(\"R^2 on train data is {} and on test data is {}\".format(ODS.score(X_train, y_train), \n",
    "                                                              ODS.score(X_test,y_test)))\n",
    "#OLS IS HALF OF THE PREVIOUS DATA"
   ]
  },
  {
   "cell_type": "code",
   "execution_count": null,
   "id": "a239575e-dda6-42a7-aba5-ad2746131b47",
   "metadata": {},
   "outputs": [],
   "source": [
    "#RIDGE \n",
    "alphas = 10**np.linspace(-10, 10, 100)\n",
    "ridge = Ridge(normalize = True)\n",
    "coefs = []\n",
    "y = y.flatten()\n",
    "for a in alphas:\n",
    "    ridge.set_params(alpha = a)\n",
    "    ridge.fit(X, y)\n",
    "    coefs.append(ridge.coef_)\n",
    "    \n",
    "np.shape(coefs)\n",
    "temp_coefficients = [coef[0] for coef in coefs]\n",
    "dewp_coefficients = [coef[1] for coef in coefs]\n",
    "precip_coefficients = [coef[2] for coef in coefs]\n",
    "\n",
    "print(np.shape(coefs))"
   ]
  },
  {
   "cell_type": "code",
   "execution_count": null,
   "id": "08ccde48-2f3f-4ebc-b246-9037aa355354",
   "metadata": {},
   "outputs": [],
   "source": [
    "X_train, X_test , y_train, y_test = train_test_split(X, y, test_size=0.5, random_state=1)\n",
    "for alpha in alphas[:10]:\n",
    "    ridge = Ridge(normalize=True, alpha=alpha)\n",
    "    ridge.fit(X_train, y_train)\n",
    "    print(\"alhpa = {}\".format(alpha))\n",
    "    print(\"R^2 on train data is {} and on test data is {}\".format(ridge.score(X_train, y_train), \n",
    "                                                              ridge.score(X_test,y_test)))"
   ]
  },
  {
   "cell_type": "code",
   "execution_count": null,
   "id": "0f58f8db-4c5c-45d4-a326-3ca64f0f3ea6",
   "metadata": {},
   "outputs": [],
   "source": [
    "ridgecv = RidgeCV(alphas = alphas, normalize = True)\n",
    "ridgecv.fit(X_train, y_train)\n",
    "#Best alpha\n",
    "ridgecv.alpha_,ridgecv.coef_"
   ]
  },
  {
   "cell_type": "code",
   "execution_count": null,
   "id": "482362ca-e9d6-4c85-bb98-bab511877586",
   "metadata": {},
   "outputs": [],
   "source": [
    "#LASSO\n",
    "lasso = Lasso(max_iter = 10000, normalize = True,)\n",
    "coefs = []\n",
    "\n",
    "for a in alphas:\n",
    "    lasso.set_params(alpha = a)\n",
    "    lasso.fit(X_train, y_train)\n",
    "    coefs.append(lasso.coef_)\n",
    "    \n",
    "np.shape(coefs)\n",
    "temp_coefficients = [coef[0] for coef in coefs]\n",
    "dewp_coefficients = [coef[1] for coef in coefs]\n",
    "precip_coefficients = [coef[2] for coef in coefs]\n",
    "print(np.shape(coefs))"
   ]
  },
  {
   "cell_type": "code",
   "execution_count": null,
   "id": "d1af8df6-31b1-43df-a388-53fc7e46d1ce",
   "metadata": {},
   "outputs": [],
   "source": [
    "lassocv = LassoCV(alphas = alphas, cv = 10, max_iter = 100000, normalize = True,)\n",
    "lassocv.fit(X_train, y_train)\n",
    "\n",
    "lasso.set_params(alpha=lassocv.alpha_)\n",
    "lasso.fit(X_train, y_train)"
   ]
  },
  {
   "cell_type": "code",
   "execution_count": null,
   "id": "fd36af27-7265-406e-b6b8-df955fa29da5",
   "metadata": {},
   "outputs": [],
   "source": [
    "print(\"R^2 on train data is {} and on test data is {}\".format(lassocv.score(X_train, y_train), \n",
    "                                                              lassocv.score(X_test,y_test)))"
   ]
  },
  {
   "cell_type": "code",
   "execution_count": null,
   "id": "82f9efe2-d999-4392-ae68-7f9778d50896",
   "metadata": {},
   "outputs": [],
   "source": [
    "pd.Series(lasso.coef_, index=['temp','dewp','precip'])"
   ]
  },
  {
   "cell_type": "markdown",
   "id": "3650a01d",
   "metadata": {},
   "source": [
    "**(i)** On a map, plot the airports that have flights to them where the points that represent\n",
    "   airports are relative in size to the average departure delay. You can see an example in \"airports.png\"."
   ]
  },
  {
   "cell_type": "code",
   "execution_count": null,
   "id": "5d08ddff",
   "metadata": {},
   "outputs": [],
   "source": [
    "import plotly.express as px\n",
    "from sklearn.preprocessing import MinMaxScaler\n",
    "\n",
    "average_delays_by_airport = flights_df.dropna().groupby(['dest'])['dep_delay'].mean()\n",
    "full_pd = pd.merge(airports_df, average_delays_by_airport, left_on='faa', right_on='dest')\n",
    "scaled_features = full_pd.copy()\n",
    "col_names = ['dep_delay']\n",
    "features = scaled_features[col_names]\n",
    "scaler = MinMaxScaler().fit(features.values)\n",
    "features = scaler.transform(features.values)\n",
    "scaled_features[col_names] = features\n",
    "\n",
    "fig = px.scatter_geo(scaled_features, lat='lat', lon='lon',\n",
    "                     hover_name=\"name\", size=\"dep_delay\", \n",
    "                     scope='usa')\n",
    "fig.show()"
   ]
  },
  {
   "cell_type": "markdown",
   "id": "ecbb7057",
   "metadata": {},
   "source": [
    " **(j)** These questions require no code.\n",
    " - Suppose you are using Ridge Regression and you notice that the training error and the validation error are almost equal and fairly high. Would you say that the model suffers from high bias or high variance? Should you increase the regularization hyperparameter or reduce it?\n",
    "\n",
    "- Why would you want to use:\n",
    "        > Ridge Regression instead of plain Linear Regression (i.e. without any regularization)?\n",
    "        > Lasso instead of Ridge Regression?\n",
    "        > Elastic Net instead of Lasso?"
   ]
  },
  {
   "cell_type": "markdown",
   "id": "5c2a30fe",
   "metadata": {},
   "source": [
    "## 3. Clustering of Handwritten Digits\n",
    "\n",
    "__You should be able to do this exercise after Lecture 5.__"
   ]
  },
  {
   "cell_type": "markdown",
   "id": "462f04ff",
   "metadata": {},
   "source": [
    "This exercise will depart from the famous MNIST dataset, and we are exploring several clustering techniques with it.. This is a \".mat\" file, in order to load this file in an ipynb you have to use loadmat() function from scipy.io. (replace my path)."
   ]
  },
  {
   "cell_type": "code",
   "execution_count": null,
   "id": "dab5bedf",
   "metadata": {},
   "outputs": [],
   "source": [
    "from scipy.io import loadmat\n",
    "from sklearn import (datasets, decomposition, ensemble, \n",
    "                     metrics, model_selection, preprocessing)\n",
    "mnist = loadmat('MNIST_DATA/mnist-original')\n",
    "mnist_data = mnist[\"data\"].T\n",
    "mnist_label = mnist[\"label\"][0]\n",
    "import numpy as np\n",
    "print(\"Number of datapoints: {}\\n\".format(mnist_data.shape[0]))\n",
    "print(\"Number of features: {}\\n\".format(mnist_data.shape[1]))\n",
    "print(\"List of labels: {}\\n\".format(np.unique(mnist_label)))"
   ]
  },
  {
   "cell_type": "markdown",
   "id": "9725cef2",
   "metadata": {},
   "source": [
    "There are 70,000 images, and each image has 784 features. This is because each image is 28×28 pixels,\n",
    "and each feature simply represents one pixel’s intensity, from 0 (white) to 255 (black). Let’s take a peek at one digit from the dataset. All you need to do is grab an instance’s feature vector, reshape it to a 28×28 array, and display it using Matplotlib’s `imshow()` function:"
   ]
  },
  {
   "cell_type": "code",
   "execution_count": null,
   "id": "f1eb63e8",
   "metadata": {},
   "outputs": [],
   "source": [
    "%matplotlib inline\n",
    "import matplotlib.pyplot as plt\n",
    "index = 4\n",
    "print(\"Value of datapoint no. {}:\\n{}\\n\".format(index,mnist_data[index]))\n",
    "print(\"As image:\\n\")\n",
    "plt.imshow(mnist_data[index].reshape(28,28),cmap=plt.cm.gray_r)\n",
    "plt.show()"
   ]
  },
  {
   "cell_type": "markdown",
   "id": "a59f8903",
   "metadata": {},
   "source": [
    "**(a)** Perform k-means clustering with k=10 on this dataset."
   ]
  },
  {
   "cell_type": "code",
   "execution_count": null,
   "id": "5cddd0b7-55c5-4193-b4ff-e10504b57cf2",
   "metadata": {},
   "outputs": [],
   "source": [
    "from sklearn.cluster import KMeans\n",
    "from sklearn.preprocessing import MinMaxScaler\n",
    "scaler = MinMaxScaler()\n",
    "scaler.fit(mnist_data)\n",
    "X = scaler.transform(mnist_data)\n",
    "# X = mnist_data\n",
    "k=10 # use a multiple of 5\n",
    "kmeansclus = KMeans(n_clusters=k,n_init =10,random_state=69).fit(X)"
   ]
  },
  {
   "cell_type": "markdown",
   "id": "4c15c0da",
   "metadata": {},
   "source": [
    "**(b)** Using visualization techniques analogous to what we have done in the Clustering notebook\n",
    "   for the faces data, can you determine the 'nature' of the 10 constructed clusters?\n",
    "   Do the clusters (roughly) coincide with the 10 different actual digits?"
   ]
  },
  {
   "cell_type": "code",
   "execution_count": null,
   "id": "d77bb6db-5a2e-4368-92f9-0d4c92d24aac",
   "metadata": {},
   "outputs": [],
   "source": [
    "rows=int(k/5)\n",
    "fig,axes = plt.subplots(rows,5,figsize=(20,4*rows))\n",
    "for ax,cc,i in zip (axes.ravel(),kmeansclus.cluster_centers_,np.arange(axes.ravel().size)):\n",
    "    ax.set_title(\"idx: {}, size: {}\".format(i,len(np.where(kmeansclus.labels_==i)[0])))\n",
    "    ax.imshow(cc.reshape((28,28)),cmap='gray')\n",
    "plt.show()  "
   ]
  },
  {
   "cell_type": "markdown",
   "id": "c41c00cd",
   "metadata": {},
   "source": [
    "**(c)** Perform a supervised clustering evaluation using adjusted rand index.\n",
    "   Are the results stable, when you perform several random restarts of k-means?"
   ]
  },
  {
   "cell_type": "code",
   "execution_count": null,
   "id": "1ad7bf99-680f-47cd-83ed-f9d5f6a36d8e",
   "metadata": {},
   "outputs": [],
   "source": [
    "from sklearn.metrics import adjusted_rand_score\n",
    "\n",
    "adjusted_rand_score(mnist_label,kmeansclus.labels_)"
   ]
  },
  {
   "cell_type": "code",
   "execution_count": null,
   "id": "2edc4b0f-e5a2-4495-b825-23a562306986",
   "metadata": {},
   "outputs": [],
   "source": [
    "print(kmeansclus.labels_[45500])\n",
    "print(mnist_label[45500])\n",
    "plt.imshow(mnist_data[45500].reshape(28,28),cmap=plt.cm.gray_r)\n",
    "plt.show()"
   ]
  },
  {
   "cell_type": "markdown",
   "id": "4ca26824",
   "metadata": {},
   "source": [
    "**(d)** Now perform hierarchical clustering on the data.\n",
    "   (in order to improve visibility in the constructed dendrograms, you can also use a\n",
    "   much reduced dataset as constructed using sklearn.utils.resample shown below).\n",
    "   Does the visual analysis of the dendrogram indicate a natural number of clusters?"
   ]
  },
  {
   "cell_type": "code",
   "execution_count": null,
   "id": "753c6699-f461-4c79-a2bd-79a1cda4fa44",
   "metadata": {},
   "outputs": [],
   "source": [
    "import sklearn\n",
    "small_mnist_data,small_mnist_label = sklearn.utils.resample(mnist_data,mnist_label,n_samples=200,replace='false')"
   ]
  },
  {
   "cell_type": "code",
   "execution_count": null,
   "id": "b60afd53-1c9c-417a-bb54-0a53b287bbb0",
   "metadata": {},
   "outputs": [],
   "source": [
    "#agglomerative clustering\n",
    "from sklearn.cluster import AgglomerativeClustering \n",
    "\n",
    "agg = AgglomerativeClustering(n_clusters=10,linkage='ward')\n",
    "agg.fit(small_mnist_data)\n",
    "labels = agg.labels_\n",
    "adjusted_rand_score(small_mnist_label,labels)"
   ]
  },
  {
   "cell_type": "markdown",
   "id": "c9b94054",
   "metadata": {},
   "source": [
    "**(e)** Using different cluster distance metrics (ward,single,average, etc.),\n",
    "   what do the clusterings look like that are produced at the level of k=10 clusters?\n",
    "   See the Clustering notebook for the needed Python code, including the fcluster\n",
    "   method to retrieve 'plain' clusterings from the hierarchical clustering."
   ]
  },
  {
   "cell_type": "code",
   "execution_count": null,
   "id": "53ac9dda-b048-4d91-9f86-86e59fe68522",
   "metadata": {},
   "outputs": [],
   "source": [
    "from scipy.cluster.hierarchy import dendrogram,ward,single,average, complete, fcluster\n",
    "\n",
    "linkage_array= ward(small_mnist_data)\n",
    "\n",
    "dendrogram(linkage_array)\n",
    "plt.show()"
   ]
  },
  {
   "cell_type": "code",
   "execution_count": null,
   "id": "5f1526e7",
   "metadata": {},
   "outputs": [],
   "source": [
    "linkage_array= single(small_mnist_data)\n",
    "\n",
    "dendrogram(linkage_array)\n",
    "plt.show()"
   ]
  },
  {
   "cell_type": "code",
   "execution_count": null,
   "id": "28e695e4-3b1d-49a8-8741-cc752cced1b4",
   "metadata": {},
   "outputs": [],
   "source": [
    "linkage_array= average(small_mnist_data)\n",
    "\n",
    "dendrogram(linkage_array)\n",
    "plt.show()"
   ]
  },
  {
   "cell_type": "code",
   "execution_count": null,
   "id": "3edb5c91-087c-4ba1-b87f-7c99417c9ab4",
   "metadata": {},
   "outputs": [],
   "source": [
    "linkage_array= complete(small_mnist_data)\n",
    "\n",
    "dendrogram(linkage_array)\n",
    "plt.show()"
   ]
  },
  {
   "cell_type": "code",
   "execution_count": null,
   "id": "5cfd5a98-7ca1-4b56-8e9f-b84e0dabdb4f",
   "metadata": {},
   "outputs": [],
   "source": [
    "##CAN'T IMPLEMENT FCLUSTER\n",
    "\n",
    "# Z = single(small_mnist_data)\n",
    "# linkage_array= fcluster(Z,t=k)\n",
    "# # print(X)\n",
    "# dendrogram(linkage_array)\n",
    "# # plt.show()\n",
    "\n",
    "###NOT WORKING"
   ]
  },
  {
   "cell_type": "markdown",
   "id": "2553cf91",
   "metadata": {},
   "source": [
    "**(f)** Do a DBSCAN clustering of the small dataset. Tweak the different parameters."
   ]
  },
  {
   "cell_type": "code",
   "execution_count": null,
   "id": "40a17a8a-cac2-4645-9b40-d77645b30eeb",
   "metadata": {},
   "outputs": [],
   "source": [
    "from sklearn.metrics.pairwise import euclidean_distances\n",
    "\n",
    "dmatrix = euclidean_distances(small_mnist_data)\n",
    "\n",
    "plt.hist(dmatrix.ravel(),bins=1568)\n",
    "plt.show()"
   ]
  },
  {
   "cell_type": "code",
   "execution_count": null,
   "id": "81f88eaa-bc67-4a89-a8c6-642bfe02d4e4",
   "metadata": {},
   "outputs": [],
   "source": [
    "# # ####NOT IMPLEMENTED\n",
    "# from sklearn.cluster import DBSCAN\n",
    "# clustering = DBSCAN(eps=1880,min_samples=10).fit_predict(small_mnist_data)\n",
    "# print(clustering)\n",
    "# adjusted_rand_score(small_mnist_label,clustering)"
   ]
  },
  {
   "cell_type": "code",
   "execution_count": null,
   "id": "8d993e34-2a5a-4647-85e1-ea538bd68931",
   "metadata": {},
   "outputs": [],
   "source": [
    "labels = DBSCAN(eps=1700,min_samples=2).fit_predict(small_mnist_data)\n",
    "# print(small_mnist_label.reshape(-1,1))\n",
    "# X = small_mnist_data.reshape(1,-1)\n",
    "print(sum(labels==-1))\n",
    "# labels = dbscan.fit_predict(X)\n",
    "print(\"Unique labels: {}\".format(np.unique(labels)))\n",
    "print(\"PREDICTION : {}\".format(adjusted_rand_score(small_mnist_label,labels)))"
   ]
  },
  {
   "cell_type": "markdown",
   "id": "ba86c41f",
   "metadata": {},
   "source": [
    "**(g)** Try to compare the different clustering methods on the MNIST dataset in the same way\n",
    "   the book does on the faces dataset on pp. 195-206."
   ]
  },
  {
   "cell_type": "code",
   "execution_count": null,
   "id": "c7fabc60-8d8c-4e71-8001-cadd48109954",
   "metadata": {},
   "outputs": [],
   "source": [
    "###NOT IMPLEMENTED"
   ]
  },
  {
   "cell_type": "markdown",
   "id": "6e8c50bb",
   "metadata": {},
   "source": [
    "## 4. The Local Elections\n",
    "\n",
    "__You should be able to do this exercise after Lecture 6.__\n",
    "\n",
    "In the local elections of 2021, around 100 candidates stood for election for the city council of Horsens. 83 of them represented a national party, had more than one candidate and provided answers to the <a href=\"https://www.dr.dk/nyheder/politik/kandidattest\">DR Candidate Test</a>, a test designed to help voters find out who they should vote for. In this test, the candidates answered 18 questions, which we will use as features in the following. The politicians belong to 9 parties, which will be our classes.\n",
    "\n",
    "The numpy files `X_Horsens.npy` and `Y_Horsens.npy` contains the data. `Y_Horsens.npy` contains a letter representing the party to which each candidate belongs. The following parties are represented:\n",
    "\n",
    "| Party letter | Party name | Party name (English) | Political position | Party color |\n",
    "| :-: | :-: | :-: | :-: | :-: |\n",
    "| A | Socialdemokratiet | Social Democrats | Centre-left | Red |\n",
    "| B | Radikale Venstre | Social Liberal Party | Centre-left | Indigo |\n",
    "| C | Det Konservative Folkeparti | Conservative People's Party | Right-wing | Green |\n",
    "| D | Nye Borgerlige | New Right | Far-right | Black |\n",
    "| F | Socialistisk Folkeparti | Socialist People's Party | Left-wing | Fuchsia |\n",
    "| I | Liberal Alliance | Liberal Alliance | Right-wing | Cyan |\n",
    "| O | Dansk Folkeparti | Danish People's Party | Far-right | Yellow |\n",
    "| V | Venstre | Danish Liberal Party | Centre-right | Blue |\n",
    "| Z* | Enhedslisten | Red-Green Alliance | Far-left | Dark red |\n",
    "\n",
    "*_Note that, although the party letter of Enhedslisten is actually Ø, we will here use Z to avoid any complications with the wonderful Danish letters Æ, Ø and Å. Feel free to change the Z back to an Ø if you find that it does not cause any problems._\n",
    "\n",
    "Meanwhile, `X_Horsens.npy` contains the answers to the test as numbers between -1.5 and 1.5, such that -1.5 is \"Strongly disagree\", -0.5 is \"Disagree\", 0.5 is \"Agree\" and 1.5 is \"Strongly agree\". The 18 questions concern, in order, subdivision, schools, windmills, building permits, tall buildings, housing, child care, culture, nursing homes, taxes, sports, refugees, nursing homes (again), public transportation, meat-free days, welfare, privatization, and religious minorities.\n",
    "\n",
    "Both files can be imported using `numpy.load`."
   ]
  },
  {
   "cell_type": "code",
   "execution_count": null,
   "id": "066d9421",
   "metadata": {},
   "outputs": [],
   "source": [
    "answers = np.load('Elections Data/X_Horsens.npy')\n",
    "parties = np.load('Elections Data/Y_Horsens.npy')"
   ]
  },
  {
   "cell_type": "markdown",
   "id": "3cef529e",
   "metadata": {},
   "source": [
    "__(a)__ How well do you (intuitively) expect that we can predict the partisan affiliation of a candidate based on their answers to the test?"
   ]
  },
  {
   "cell_type": "markdown",
   "id": "31f09583",
   "metadata": {},
   "source": [
    "##### Members of the same party tend to give similar answers, so classifing them would in theory be easy as they can be fit to the party's overall tendency"
   ]
  },
  {
   "cell_type": "markdown",
   "id": "533598df",
   "metadata": {},
   "source": [
    "__(b)__ Based on the answers from all 83 candidates for the Horsens city council, perform a Principal Component Analysis with 2 principal components. Plot the results in a figure using these 2 components as the axes. Label the points with the party letter and the appropriate color."
   ]
  },
  {
   "cell_type": "code",
   "execution_count": null,
   "id": "63bed606",
   "metadata": {},
   "outputs": [],
   "source": [
    "X_s = preprocessing.StandardScaler().fit_transform(answers)\n",
    "pca4 = decomposition.PCA(n_components=2)\n",
    "res4 = pca4.fit_transform(X_s)\n",
    "pca4.explained_variance_ratio_\n",
    "\n",
    "x = list(range(1, 1 + len(pca4.explained_variance_ratio_)))\n",
    "plt.plot(x, np.cumsum(pca4.explained_variance_ratio_))\n",
    "plt.xlabel('number of components')\n",
    "plt.ylabel('cumulative explained variance')\n",
    "#plt.gca().invert_yaxis()\n",
    "plt.show()"
   ]
  },
  {
   "cell_type": "code",
   "execution_count": null,
   "id": "f6058ee7",
   "metadata": {},
   "outputs": [],
   "source": [
    "colors = {'A':\"RED\", 'B':\"INDIGO\",'C': \"GREEN\", 'D':\"Black\", 'F':\"Fuchsia\",\n",
    "          'I':\"Cyan\", 'O':\"Yellow\", 'V':\"Blue\",'Z': \"#8B0000\"}\n",
    "plt.figure(figsize=(10, 10))\n",
    "plt.xlim(res4[:, 0].min(), res4[:, 0].max())\n",
    "plt.ylim(res4[:, 1].min(), res4[:, 1].max())\n",
    "for i in range(len(parties)):\n",
    "    # actually plot the digits as text instead of using scatter\n",
    "    plt.text(res4[i, 0], res4[i, 1], str(parties[i]),\n",
    "             color = colors[parties[i]],\n",
    "             fontdict={'weight': 'bold', 'size': 9})\n",
    "plt.xlabel(\"First principal component\")\n",
    "plt.ylabel(\"Second principal component\")"
   ]
  },
  {
   "cell_type": "markdown",
   "id": "da8e83f4",
   "metadata": {},
   "source": [
    "__(c)__ Comment on the results. You may consider the following questions for inspiration: Can the political parties be separated? Can the typical distinction of \"left-wing\" and \"right-wing\" be discerned? Which of the 18 questions (features) are most important?"
   ]
  },
  {
   "cell_type": "code",
   "execution_count": null,
   "id": "670d81b0",
   "metadata": {},
   "outputs": [],
   "source": [
    "question_names = ['subdivision', 'schools', 'windmills', 'building permits', 'tall buildings', 'housing',\n",
    "                  'child care', 'culture', 'nursing homes', 'taxes', 'sports', 'refugees', 'nursing homes (again)',\n",
    "                  'public transportation', 'meat-free days', 'welfare', 'privatization', 'religious']\n",
    "\n",
    "plt.matshow(pca4.components_, cmap='viridis')\n",
    "plt.yticks([0, 1], [\"First component\", \"Second component\"])\n",
    "plt.colorbar()\n",
    "plt.xticks(range(len(question_names)),\n",
    "           question_names, rotation=60, ha='left')\n",
    "plt.xlabel(\"Feature\")\n",
    "plt.ylabel(\"Principal components\")"
   ]
  },
  {
   "cell_type": "markdown",
   "id": "2e0ce7c4",
   "metadata": {},
   "source": [
    "##### The policital parties can even at this point be separated, as we can observe in the plot of the first 2 PCA components. Obviously, they do overlap, meaning that some party memebers answers might be categoriesed as a diferent party's tendencies.\n",
    "\n",
    "##### Can the typical distinction of \"left-wing\" and \"right-wing\" be discerned?\n",
    "##### Yes, funny enough, their position on the plot represends their party's orientation (left, vs right) -> left parties are distrubited on the lower part of the first PCA, and right ones on the upper part of it."
   ]
  },
  {
   "cell_type": "markdown",
   "id": "3423aab8",
   "metadata": {},
   "source": [
    "The number of candidates (83) is on the (very) low side when we want to do machine learning. Luckily, the neighbouring city of Databorg had no less than 8,300 candidates standing for election, with a political environment similar to that of Horsens. In the following, we will use the data from Databorg. These are stored in the numpy files `X_Databorg.npy` and `Y_Databorg.npy` in same format as the Horsens data.\n",
    "\n",
    "__(d)__ Once again, perform a Principal Component Analysis and visualize the results. Compare the results to those of the Horsens data."
   ]
  },
  {
   "cell_type": "code",
   "execution_count": null,
   "id": "150e277c",
   "metadata": {},
   "outputs": [],
   "source": [
    "answersDataborg = np.load('Elections Data/X_Databorg.npy')\n",
    "partiesDataborg = np.load('Elections Data/Y_Databorg.npy')\n",
    "\n",
    "\n",
    "X_s = preprocessing.StandardScaler().fit_transform(answersDataborg)\n",
    "pca4 = decomposition.PCA(n_components=2)\n",
    "res4 = pca4.fit_transform(X_s)\n",
    "pca4.explained_variance_ratio_\n",
    "\n",
    "x = list(range(1, 1 + len(pca4.explained_variance_ratio_)))\n",
    "plt.plot(x, np.cumsum(pca4.explained_variance_ratio_))\n",
    "plt.xlabel('number of components')\n",
    "plt.ylabel('cumulative explained variance')\n",
    "plt.show()\n",
    "\n",
    "colors = {'A':\"RED\", 'B':\"INDIGO\",'C': \"GREEN\", 'D':\"Black\", 'F':\"Fuchsia\",\n",
    "          'I':\"Cyan\", 'O':\"Yellow\", 'V':\"Blue\",'Z': \"#8B0000\"}\n",
    "plt.figure(figsize=(10, 10))\n",
    "plt.xlim(res4[:, 0].min(), res4[:, 0].max())\n",
    "plt.ylim(res4[:, 1].min(), res4[:, 1].max())\n",
    "for i in range(len(partiesDataborg)):\n",
    "    # actually plot the digits as text instead of using scatter\n",
    "    plt.text(res4[i, 0], res4[i, 1], str(partiesDataborg[i]),\n",
    "             color = colors[partiesDataborg[i]],\n",
    "             fontdict={'weight': 'bold', 'size': 9})\n",
    "plt.xlabel(\"First principal component\")\n",
    "plt.ylabel(\"Second principal component\")\n",
    "\n",
    "question_names = ['subdivision', 'schools', 'windmills', 'building permits', 'tall buildings', 'housing',\n",
    "                  'child care', 'culture', 'nursing homes', 'taxes', 'sports', 'refugees', 'nursing homes (again)',\n",
    "                  'public transportation', 'meat-free days', 'welfare', 'privatization', 'religious']\n",
    "\n",
    "plt.matshow(np.abs(pca4.components_), cmap='viridis')\n",
    "plt.yticks([0, 1], [\"First component\", \"Second component\"])\n",
    "plt.colorbar()\n",
    "plt.xticks(range(len(question_names)),\n",
    "           question_names, rotation=60, ha='left')\n",
    "plt.xlabel(\"Feature\")\n",
    "plt.ylabel(\"Principal components\")\n",
    "\n"
   ]
  },
  {
   "cell_type": "markdown",
   "id": "07096dda",
   "metadata": {},
   "source": [
    "###### Comparing the data to Horesns\n",
    "###### The PCA Analysis of Databorg seems pretty familiar, given that the parties can be separated visually into, as they tend to group themselves, but a key diference is that the left and right-wing parties now changed position between them on the axis of the first PCA. Right wing parties now sit on the lower end of the first PCA and vice-versa..\n",
    "\n",
    "###### Another interesting factor is that now the most important features for the first PCA changed to regurees and public transportatoin"
   ]
  },
  {
   "cell_type": "markdown",
   "id": "782a6987",
   "metadata": {},
   "source": [
    "Confident that we can predict the partisan affiliation of a politician reasonably well based on their answers to the test, we want to build a model that will allow us to distinguish between the 9 political parties. For this purpose, we split the data into a training and a validation set.\n",
    "\n",
    "__(e)__ Split the data into a training and a validation set, with appropriate fractions."
   ]
  },
  {
   "cell_type": "code",
   "execution_count": null,
   "id": "a173a46f",
   "metadata": {},
   "outputs": [],
   "source": [
    "# anwers are the features (X)\n",
    "# parties are the labels (y)\n",
    "\n",
    "X_train, X_test, y_train, y_test = train_test_split(answersDataborg, partiesDataborg, test_size=0.2, random_state=69, stratify=partiesDataborg)"
   ]
  },
  {
   "cell_type": "markdown",
   "id": "f14cb87d",
   "metadata": {},
   "source": [
    "First, we assume that a Naive Bayes approach is sufficient for our purposes.\n",
    "\n",
    "__(f)__ Comment on the basic assumption of the Naive Bayes approach. Is this a reasonable assumption for the problem at hand?"
   ]
  },
  {
   "cell_type": "markdown",
   "id": "b360253f",
   "metadata": {},
   "source": [
    "##### We assume that Naive Bayes is not the best approach in this case, as it by default implies that features are independent of eachother. Even though it is hard to find a case in which the features are not independent, this case is completely off, because answers to some questions ar most of the time much more denedepnt between them in the case of controversial political issues"
   ]
  },
  {
   "cell_type": "markdown",
   "id": "74b1c9a1",
   "metadata": {},
   "source": [
    "__(g)__ Classify the instances of the validation set using a Naive Bayes approach. Comment on the results."
   ]
  },
  {
   "cell_type": "code",
   "execution_count": null,
   "id": "3b4fee45",
   "metadata": {},
   "outputs": [],
   "source": [
    "from sklearn.naive_bayes import GaussianNB\n",
    "model = GaussianNB()\n",
    "model.fit(X_train, y_train)\n",
    "\n",
    "NB_y_pred = model.fit(X_train, y_train).predict(X_test) \n",
    "\n",
    "print(\"Model accuracy on the test data: {}\".format(model.score(X_test,y_test)))\n",
    "print(\"Model accuracy on the train data: {}\".format(model.score(X_train,y_train)))"
   ]
  },
  {
   "cell_type": "markdown",
   "id": "8e9f1aea",
   "metadata": {},
   "source": [
    "Assume instead that a _k_-nearest neighbour approach is sufficient for our  needs.\n",
    "\n",
    "__(h)__ Using default settings of the _k_-NN classifier, classify the instances of the validation set. Comment on the performance."
   ]
  },
  {
   "cell_type": "code",
   "execution_count": null,
   "id": "cdfbf544",
   "metadata": {},
   "outputs": [],
   "source": [
    "from sklearn.neighbors import KNeighborsClassifier\n",
    "model = KNeighborsClassifier(n_neighbors=29)\n",
    "model.fit(X_train, y_train)\n",
    "\n",
    "kNN_y_pred = model.fit(X_train, y_train).predict(X_test) \n",
    "\n",
    "print(\"Model accuracy on the test data: {}\".format(model.score(X_test,y_test)))\n",
    "print(\"Model accuracy on the train data: {}\".format(model.score(X_train,y_train)))"
   ]
  },
  {
   "cell_type": "markdown",
   "id": "e3c64b3b",
   "metadata": {},
   "source": [
    "##### The time that it takes is longer than the NB, but the performance is way better, 0.1 diference in accuracy"
   ]
  },
  {
   "cell_type": "markdown",
   "id": "a29f6e11",
   "metadata": {},
   "source": [
    "__(i)__ Play around with different values of _k_. Decide on a \"good\" value of _k_. Comment on the results."
   ]
  },
  {
   "cell_type": "code",
   "execution_count": null,
   "id": "b4b7ea9b",
   "metadata": {},
   "outputs": [],
   "source": [
    "training_accuracy = []\n",
    "test_accuracy = []\n",
    "\n",
    "ks = range(1, 40)\n",
    "\n",
    "for k in ks:\n",
    "    clf = KNeighborsClassifier(n_neighbors=k)\n",
    "    clf.fit(X_train, y_train)\n",
    "    # record training set accuracy\n",
    "    training_accuracy.append(clf.score(X_train, y_train))\n",
    "    # record generalization accuracy\n",
    "    test_accuracy.append(clf.score(X_test, y_test))\n",
    "    \n",
    "plt.plot(ks, training_accuracy, label=\"training accuracy\")\n",
    "plt.plot(ks, test_accuracy, label=\"test accuracy\")\n",
    "plt.ylabel(\"Accuracy\")\n",
    "plt.xlabel(\"n_neighbors\")\n",
    "plt.legend();"
   ]
  },
  {
   "cell_type": "markdown",
   "id": "58d7f372",
   "metadata": {},
   "source": [
    "##### It seems like 29 is the perfect number of neighours, since that gives lowest difference between training and test, while still keeping a pretty good accuraccy all around, without over or underfitting"
   ]
  },
  {
   "cell_type": "markdown",
   "id": "cd3a4ae1",
   "metadata": {},
   "source": [
    "We now try to use a decision tree instead.\n",
    "\n",
    "__(j)__ What is the _minimum_ depth of an appropriate decision tree? Why?"
   ]
  },
  {
   "cell_type": "markdown",
   "id": "ca43d102",
   "metadata": {},
   "source": [
    "##### Minimum depth of an appropriate decision tree in this case is 4, because it is the first number greater than log2(9) - 9 being the number of leaves"
   ]
  },
  {
   "cell_type": "markdown",
   "id": "b6c20a9a",
   "metadata": {},
   "source": [
    "__(k)__ Build a decision tree with at least the depth from above. Play around with the tree depth. Include a figure that shows some relevant measure of the performance as a function of the tree depth. Comment on any issues of over-fitting. Decide on a tree which you will keep for later use. Can you do better than the _k_-NN classifier?"
   ]
  },
  {
   "cell_type": "code",
   "execution_count": null,
   "id": "8423f0c3",
   "metadata": {},
   "outputs": [],
   "source": [
    "# remember \n",
    "# conda install -c anaconda python-graphviz\n",
    "# and\n",
    "# conda install -c anaconda pydotplus\n",
    "\n",
    "%matplotlib inline \n",
    "from sklearn.tree import DecisionTreeClassifier\n",
    "import graphviz\n",
    "from sklearn.tree import export_graphviz\n",
    "import pydotplus\n",
    "\n",
    "clf = DecisionTreeClassifier(max_depth=9)\n",
    "clf.fit(X_train, y_train)"
   ]
  },
  {
   "cell_type": "code",
   "execution_count": null,
   "id": "ad0d2433",
   "metadata": {},
   "outputs": [],
   "source": [
    "dot_data = export_graphviz(clf, out_file=None,\n",
    "                           class_names=np.unique(partiesDataborg),\n",
    "                           feature_names=question_names, \n",
    "                           filled=True)\n",
    "\n",
    "graph = graphviz.Source(dot_data)\n"
   ]
  },
  {
   "cell_type": "code",
   "execution_count": null,
   "id": "d67fe8b6",
   "metadata": {},
   "outputs": [],
   "source": [
    "pydot_graph = pydotplus.graph_from_dot_data(dot_data)\n",
    "pydot_graph.set_size('\"15,15!\"')\n",
    "gvz_graph = graphviz.Source(pydot_graph.to_string())\n",
    "gvz_graph"
   ]
  },
  {
   "cell_type": "code",
   "execution_count": null,
   "id": "bb33693f",
   "metadata": {},
   "outputs": [],
   "source": [
    "training_accuracy = []\n",
    "test_accuracy = []\n",
    "\n",
    "ks = range(1, 15)\n",
    "\n",
    "for k in ks:\n",
    "    clf = DecisionTreeClassifier(max_depth=k)\n",
    "    clf.fit(X_train, y_train)\n",
    "    # record training set accuracy\n",
    "    training_accuracy.append(clf.score(X_train, y_train))\n",
    "    # record generalization accuracy\n",
    "    test_accuracy.append(clf.score(X_test, y_test))\n",
    "    \n",
    "plt.plot(ks, training_accuracy, label=\"training accuracy\")\n",
    "plt.plot(ks, test_accuracy, label=\"test accuracy\")\n",
    "plt.ylabel(\"Accuracy\")\n",
    "plt.xlabel(\"max_depth\")\n",
    "plt.legend();"
   ]
  },
  {
   "cell_type": "markdown",
   "id": "e29d67ce",
   "metadata": {},
   "source": [
    "##### 5 seems to be the best depth to train the decision tree on, anything more then that tends to oferfit. It performs worse then knn, with an accuracy around 0.6. We will keep the max_depth at 5 for now."
   ]
  },
  {
   "cell_type": "code",
   "execution_count": null,
   "id": "c924d963",
   "metadata": {},
   "outputs": [],
   "source": [
    "clf = DecisionTreeClassifier(max_depth=5)\n",
    "clf.fit(X_train, y_train)\n",
    "\n",
    "DTC_y_pred = clf.fit(X_train, y_train).predict(X_test) \n",
    "\n",
    "print(\"Train score: {}\".format(clf.score(X_train, y_train)))\n",
    "print(\"Test score: {}\".format(clf.score(X_test, y_test)))"
   ]
  },
  {
   "cell_type": "markdown",
   "id": "502e8734",
   "metadata": {},
   "source": [
    "__(l)__ What are the most important features? Visualize this in an appropriate way. Does it match what you would expect? Compare to the results of the PCA analysis. Do we expect them to be the same? Why/why not?"
   ]
  },
  {
   "cell_type": "code",
   "execution_count": null,
   "id": "2d893f7d",
   "metadata": {},
   "outputs": [],
   "source": [
    "clf = DecisionTreeClassifier(max_depth=5)\n",
    "clf.fit(X_train, y_train)\n",
    "\n",
    "def plot_feature_importances_cancer(model):\n",
    "    n_features = answersDataborg.shape[1]\n",
    "    plt.barh(range(n_features), model.feature_importances_, align='center')\n",
    "    plt.yticks(np.arange(n_features), question_names)\n",
    "    plt.xlabel(\"Feature importance\")\n",
    "    plt.ylabel(\"Feature\")\n",
    "\n",
    "plot_feature_importances_cancer(clf)\n"
   ]
  },
  {
   "cell_type": "markdown",
   "id": "4b4c2b9a",
   "metadata": {},
   "source": [
    "#### The most importeant features seem to be the same, as they tend to divide opinions the most and it makes sense that they are cmoparable to the PCA analysis"
   ]
  },
  {
   "cell_type": "markdown",
   "id": "2abf8bcd",
   "metadata": {},
   "source": [
    "We know that decision trees suffer from certain problems that may be solved by using decision forests.\n",
    "\n",
    "__(m)__ Build a decision forest. Play around with the number of trees in the forest. Decide on a forest."
   ]
  },
  {
   "cell_type": "code",
   "execution_count": null,
   "id": "d27e2d4a",
   "metadata": {},
   "outputs": [],
   "source": [
    "from sklearn.ensemble import RandomForestClassifier\n",
    "\n",
    "training_accuracy = []\n",
    "test_accuracy = []\n",
    "\n",
    "ks = range(1, 100)\n",
    "\n",
    "for k in ks:\n",
    "    forest = RandomForestClassifier(n_estimators=k, min_samples_leaf=9, min_samples_split=10, random_state=69)\n",
    "    forest.fit(X_train, y_train)\n",
    "     # record training set accuracy\n",
    "    training_accuracy.append(forest.score(X_train, y_train))\n",
    "    # record generalization accuracy\n",
    "    test_accuracy.append(forest.score(X_test, y_test))\n",
    "    \n",
    "    \n",
    "plt.plot(ks, training_accuracy, label=\"training accuracy\")\n",
    "plt.plot(ks, test_accuracy, label=\"test accuracy\")\n",
    "plt.ylabel(\"Accuracy\")\n",
    "plt.xlabel(\"nr of trees\")\n",
    "plt.legend();"
   ]
  },
  {
   "cell_type": "markdown",
   "id": "c133892d",
   "metadata": {},
   "source": [
    "##### Seems like 5 is an appropriate number of trees in the forest to have a similar and high accuracy between train and test data:"
   ]
  },
  {
   "cell_type": "code",
   "execution_count": null,
   "id": "ae0bd5fa",
   "metadata": {},
   "outputs": [],
   "source": [
    "from sklearn.ensemble import RandomForestClassifier\n",
    "\n",
    "\n",
    "forest = RandomForestClassifier(n_estimators=5, min_samples_leaf=9, min_samples_split=10, random_state=69)\n",
    "forest.fit(X_train, y_train)\n",
    " # record training set accuracy\n",
    "train_score = forest.score(X_train, y_train)\n",
    "# record generalization accuracy\n",
    "test_score = forest.score(X_test, y_test)\n",
    "\n",
    "RFDT_y_pred = forest.fit(X_train, y_train).predict(X_test)\n",
    "\n",
    "print(\"Train score: {}\".format(train_score))\n",
    "print(\"Test score: {}\".format(test_score))"
   ]
  },
  {
   "cell_type": "markdown",
   "id": "392aa241",
   "metadata": {},
   "source": [
    "__(n)__ Extract the most important features. Comment and compare with previously obtained results."
   ]
  },
  {
   "cell_type": "code",
   "execution_count": null,
   "id": "23c70dd4",
   "metadata": {},
   "outputs": [],
   "source": [
    "plot_feature_importances_cancer(forest)"
   ]
  },
  {
   "cell_type": "markdown",
   "id": "7dc08759",
   "metadata": {},
   "source": [
    "##### the most important features seem to be the same, although some other features gain more importance"
   ]
  },
  {
   "cell_type": "markdown",
   "id": "3b02c96c",
   "metadata": {},
   "source": [
    "Finally, we want to compare the models we have worked with so far (i.e., Naive Bayes, _k_-NN, decision tree and decision forest).\n",
    "\n",
    "__(o)__ Compare the results of the in terms of confusion matrices, accuracy, precision, recall, and f-score. How well can we predict the partisan affiliation of a candidate based on their answers to a test? How does this compare with your intuition? "
   ]
  },
  {
   "cell_type": "markdown",
   "id": "94add14b",
   "metadata": {},
   "source": [
    "#### Naive-Bayes"
   ]
  },
  {
   "cell_type": "code",
   "execution_count": null,
   "id": "ca268441",
   "metadata": {},
   "outputs": [],
   "source": [
    "actual = NB_y_pred\n",
    "predicted = y_test\n",
    "confusion_matrix = metrics.confusion_matrix(actual, predicted)\n",
    "cm_display = metrics.ConfusionMatrixDisplay(confusion_matrix = confusion_matrix, display_labels = [\"A\",\"B\",\"C\",\"D\",\"F\",\"I\",\"O\",\"V\",\"Z\"])\n",
    "\n",
    "cm_display.plot()\n",
    "plt.show()\n",
    "\n",
    "\n",
    "Accuracy = metrics.accuracy_score(actual, predicted)\n",
    "Precision = metrics.precision_score(actual, predicted, average=\"weighted\")\n",
    "Sensitivity_recall = metrics.recall_score(actual, predicted, average=\"weighted\")\n",
    "F1_score = metrics.f1_score(actual, predicted, average=\"weighted\")\n",
    "\n",
    "print(\"Accuracy measures how often the model is correct: {}\".format(Accuracy))\n",
    "print(\"Precision measures percentage of true positive: {}\".format(Precision))\n",
    "print(\"Sensitivity is good at understanding how well the model predicts something is positive: {}\".format(Sensitivity_recall))\n",
    "print(\"F-score is the harmonic mean of precision and sensitivity. It considers both false positive and false negative cases: {}\".format(F1_score))\n",
    "\n"
   ]
  },
  {
   "cell_type": "markdown",
   "id": "87b2d96e",
   "metadata": {},
   "source": [
    "#### KNN"
   ]
  },
  {
   "cell_type": "code",
   "execution_count": null,
   "id": "b903cfab",
   "metadata": {},
   "outputs": [],
   "source": [
    "actual = kNN_y_pred\n",
    "predicted = y_test\n",
    "confusion_matrix = metrics.confusion_matrix(actual, predicted)\n",
    "cm_display = metrics.ConfusionMatrixDisplay(confusion_matrix = confusion_matrix, display_labels = [\"A\",\"B\",\"C\",\"D\",\"F\",\"I\",\"O\",\"V\",\"Z\"])\n",
    "\n",
    "cm_display.plot()\n",
    "plt.show()\n",
    "\n",
    "\n",
    "Accuracy = metrics.accuracy_score(actual, predicted)\n",
    "Precision = metrics.precision_score(actual, predicted, average=\"weighted\")\n",
    "Sensitivity_recall = metrics.recall_score(actual, predicted, average=\"weighted\")\n",
    "F1_score = metrics.f1_score(actual, predicted, average=\"weighted\")\n",
    "\n",
    "print(\"Accuracy measures how often the model is correct: {}\".format(Accuracy))\n",
    "print(\"Precision measures percentage of true positive: {}\".format(Precision))\n",
    "print(\"Sensitivity is good at understanding how well the model predicts something is positive: {}\".format(Sensitivity_recall))\n",
    "print(\"F-score is the harmonic mean of precision and sensitivity. It considers both false positive and false negative cases: {}\".format(F1_score))\n"
   ]
  },
  {
   "cell_type": "markdown",
   "id": "14a52dd6",
   "metadata": {},
   "source": [
    "#### Decision Trees"
   ]
  },
  {
   "cell_type": "code",
   "execution_count": null,
   "id": "aa0ea654",
   "metadata": {},
   "outputs": [],
   "source": [
    "actual = DTC_y_pred\n",
    "predicted = y_test\n",
    "confusion_matrix = metrics.confusion_matrix(actual, predicted)\n",
    "cm_display = metrics.ConfusionMatrixDisplay(confusion_matrix = confusion_matrix, display_labels = [\"A\",\"B\",\"C\",\"D\",\"F\",\"I\",\"O\",\"V\",\"Z\"])\n",
    "\n",
    "cm_display.plot()\n",
    "plt.show()\n",
    "\n",
    "\n",
    "Accuracy = metrics.accuracy_score(actual, predicted)\n",
    "Precision = metrics.precision_score(actual, predicted, average=\"weighted\")\n",
    "Sensitivity_recall = metrics.recall_score(actual, predicted, average=\"weighted\")\n",
    "F1_score = metrics.f1_score(actual, predicted, average=\"weighted\")\n",
    "\n",
    "print(\"Accuracy measures how often the model is correct: {}\".format(Accuracy))\n",
    "print(\"Precision measures percentage of true positive: {}\".format(Precision))\n",
    "print(\"Sensitivity is good at understanding how well the model predicts something is positive: {}\".format(Sensitivity_recall))\n",
    "print(\"F-score is the harmonic mean of precision and sensitivity. It considers both false positive and false negative cases: {}\".format(F1_score))\n"
   ]
  },
  {
   "cell_type": "markdown",
   "id": "51e2a502",
   "metadata": {},
   "source": [
    "#### Random Forest"
   ]
  },
  {
   "cell_type": "code",
   "execution_count": null,
   "id": "55db353d",
   "metadata": {},
   "outputs": [],
   "source": [
    "actual = RFDT_y_pred\n",
    "predicted = y_test\n",
    "confusion_matrix = metrics.confusion_matrix(actual, predicted)\n",
    "cm_display = metrics.ConfusionMatrixDisplay(confusion_matrix = confusion_matrix, display_labels = [\"A\",\"B\",\"C\",\"D\",\"F\",\"I\",\"O\",\"V\",\"Z\"])\n",
    "\n",
    "cm_display.plot()\n",
    "plt.show()\n",
    "\n",
    "\n",
    "Accuracy = metrics.accuracy_score(actual, predicted)\n",
    "Precision = metrics.precision_score(actual, predicted, average=\"weighted\")\n",
    "Sensitivity_recall = metrics.recall_score(actual, predicted, average=\"weighted\")\n",
    "F1_score = metrics.f1_score(actual, predicted, average=\"weighted\")\n",
    "\n",
    "print(\"Accuracy measures how often the model is correct: {}\".format(Accuracy))\n",
    "print(\"Precision measures percentage of true positive: {}\".format(Precision))\n",
    "print(\"Sensitivity is good at understanding how well the model predicts something is positive: {}\".format(Sensitivity_recall))\n",
    "print(\"F-score is the harmonic mean of precision and sensitivity. It considers both false positive and false negative cases: {}\".format(F1_score))\n"
   ]
  },
  {
   "cell_type": "markdown",
   "id": "b86c15cf",
   "metadata": {},
   "source": [
    "##### The results are quite similar to our expectations. Political affiliation would be very easy to predict in a bi-partial system, but given that we have 9 parties, with some of them having the same values is somewhat of an interesting thing. They still tend to be more RED or GREEN in the Danish system, so guessing partial affiliation sounds like an easy task, but getting precise results based on some questions makes us think that our accuracies of around 70% tend to reflect the reality."
   ]
  },
  {
   "cell_type": "markdown",
   "id": "16474b7a",
   "metadata": {},
   "source": [
    "##### kNN seems to give the best accuracy, followed by random tree forsts, which we did not really expect, given that decision trees are so far behind."
   ]
  },
  {
   "cell_type": "markdown",
   "id": "d71016df",
   "metadata": {},
   "source": [
    "## 5. Sentiment Analysis\n",
    "\n",
    "__You should be able to do this exercise after Lecture 8.__"
   ]
  },
  {
   "cell_type": "markdown",
   "id": "f98caa84",
   "metadata": {},
   "source": [
    "In this exercise we use the IMDb-dataset, which we will use to perform a sentiment analysis. The code below assumes that the data is placed in the same folder as this notebook. We see that the reviews are loaded as a pandas dataframe, and print the beginning of the first few reviews."
   ]
  },
  {
   "cell_type": "code",
   "execution_count": null,
   "id": "4e42ec38",
   "metadata": {},
   "outputs": [],
   "source": [
    "reviews = pd.read_csv('Sentiment Analysis/reviews.txt', header=None)\n",
    "labels = pd.read_csv('Sentiment Analysis/labels.txt', header=None)\n",
    "Y = (labels=='positive').astype(np.int_)\n",
    "\n",
    "print(reviews.head)\n",
    "print(labels.head)\n",
    "Y=to_categorical(Y, 2)"
   ]
  },
  {
   "cell_type": "markdown",
   "id": "23abdd2a",
   "metadata": {},
   "source": [
    "**(a)** Split the reviews and labels in test, train and validation sets. The train and validation sets will be used to train your model and tune hyperparameters, the test set will be saved for testing."
   ]
  },
  {
   "cell_type": "code",
   "execution_count": null,
   "id": "250e11ac",
   "metadata": {},
   "outputs": [],
   "source": [
    "X_train, X_test, y_train, y_test = train_test_split(reviews, Y, test_size=0.2, random_state=69, stratify = Y)"
   ]
  },
  {
   "cell_type": "markdown",
   "id": "a379f1db",
   "metadata": {},
   "source": [
    "**(b)** Use the `CountVectorizer` from `sklearn.feature_extraction.text` to create a Bag-of-Words representation of the reviews. (See an example of how to do this in chapter 7 of \"Muller and Guido\"). Only use the 10,000 most frequent words (use the `max_features`-parameter of `CountVectorizer`)."
   ]
  },
  {
   "cell_type": "code",
   "execution_count": null,
   "id": "c59dafe9",
   "metadata": {},
   "outputs": [],
   "source": [
    "y_train = np.array(y_train)\n",
    "y_test = np.array(y_test)\n",
    "\n",
    "stopwords = stopwords.words(\"english\")\n",
    "stopwords.extend(['br', 'p'])\n",
    "\n",
    "vect = CountVectorizer(max_features=10000, stop_words =stopwords).fit(X_train[0])\n",
    "X_train = vect.transform(X_train[0]).toarray()\n",
    "X_test = vect.transform(X_test[0]).toarray()"
   ]
  },
  {
   "cell_type": "markdown",
   "id": "7258dd35",
   "metadata": {},
   "source": [
    "**(c)** Explore the representation of the reviews. How is a single word represented? How about a whole review?"
   ]
  },
  {
   "cell_type": "markdown",
   "id": "ae0c3a38",
   "metadata": {},
   "source": [
    "##### Top 1000 words:"
   ]
  },
  {
   "cell_type": "code",
   "execution_count": null,
   "id": "910183cc",
   "metadata": {},
   "outputs": [],
   "source": [
    "print(vect.get_feature_names_out())"
   ]
  },
  {
   "cell_type": "markdown",
   "id": "7f8863d5",
   "metadata": {},
   "source": [
    "###### A word is represented as a number of appearances in a sentance, corresponding with its index from the bag of words"
   ]
  },
  {
   "cell_type": "markdown",
   "id": "92a87572",
   "metadata": {},
   "source": [
    "###### This is how a review is represented -> an array of 10000 elements (the entire bag of words)  - index corresponds to the bag of words and value repesents appearece in the sentance:"
   ]
  },
  {
   "cell_type": "code",
   "execution_count": null,
   "id": "b52ec422",
   "metadata": {},
   "outputs": [],
   "source": [
    "print(X_train[0])"
   ]
  },
  {
   "cell_type": "markdown",
   "id": "1c0d701a",
   "metadata": {},
   "source": [
    "###### The first word that's found in the sentance is:"
   ]
  },
  {
   "cell_type": "code",
   "execution_count": null,
   "id": "028244bb",
   "metadata": {},
   "outputs": [],
   "source": [
    "i = np.where(X_train[0] > 1)\n",
    "print(vect.get_feature_names_out()[i[0][0]])"
   ]
  },
  {
   "cell_type": "markdown",
   "id": "89caa757",
   "metadata": {},
   "source": [
    "**(d)** Train a neural network with a single hidden layer on the dataset, tuning the relevant hyperparameters to optimize accuracy. "
   ]
  },
  {
   "cell_type": "code",
   "execution_count": null,
   "id": "e72db1cb",
   "metadata": {},
   "outputs": [],
   "source": [
    "seed(69)\n",
    "tf.random.set_seed(69)\n",
    "input_size = X_train[0].shape[0]\n",
    "num_classes = 2 #positive or negative\n",
    "\n",
    "callback = tf.keras.callbacks.EarlyStopping(monitor = 'val_accuracy', patience = 10) #early stoppage when it tends to overfit\n",
    "model = Sequential() #initialize a neural network\n",
    "#add a hidden layer. L1 regularizer (Lasso - deletes the features if their importance is low)\n",
    "model.add(Dense(units = 10, activation = 'tanh', input_dim = input_size, kernel_regularizer = regularizers.l1(0.003)))\n",
    "model.add(Dense(units = num_classes, activation = 'softmax')) #add the output layer\n",
    "\n",
    "model.compile(loss = 'categorical_crossentropy', metrics = ['accuracy'])#sgd = optimizers.SGD(learning_rate = 0.1))\n",
    "history = model.fit(X_train, y_train, epochs = 200, batch_size = 100, verbose = 1, validation_split = 0.2, callbacks = [callback])"
   ]
  },
  {
   "cell_type": "code",
   "execution_count": null,
   "id": "43c15524",
   "metadata": {},
   "outputs": [],
   "source": [
    "plt.figure()\n",
    "plt.title(\"Learning curves\")\n",
    "plt.xlabel(\"Epoch\")\n",
    "plt.ylabel(\"Cross entropy loss\")\n",
    "plt.plot(history.history['loss'], label = 'train')\n",
    "plt.plot(history.history['val_loss'], label = 'valid')\n",
    "plt.legend()\n",
    "plt.show()"
   ]
  },
  {
   "cell_type": "code",
   "execution_count": null,
   "id": "e6de1653",
   "metadata": {},
   "outputs": [],
   "source": [
    "plt.figure()\n",
    "plt.title(\"Learning curves\")\n",
    "plt.xlabel(\"Epoch\")\n",
    "plt.ylabel(\"Accuracy\")\n",
    "plt.plot(history.history['accuracy'], label = 'train')\n",
    "plt.plot(history.history['val_accuracy'], label = 'valid')\n",
    "plt.legend()\n",
    "plt.show()"
   ]
  },
  {
   "cell_type": "markdown",
   "id": "925cf76f",
   "metadata": {},
   "source": [
    "**(e)** Test your sentiment-classifier on the test set."
   ]
  },
  {
   "cell_type": "code",
   "execution_count": null,
   "id": "bb5f6de7",
   "metadata": {},
   "outputs": [],
   "source": [
    "print(\"Loss + accuracy on train data: {}\".format(model.evaluate(X_train, y_train)))\n",
    "print(\"Loss + accuracy on test data: {}\".format(model.evaluate(X_test, y_test)))"
   ]
  },
  {
   "cell_type": "markdown",
   "id": "24d9f826",
   "metadata": {},
   "source": [
    "**(h)** Use the classifier to classify a few sentences you write yourselves. "
   ]
  },
  {
   "cell_type": "code",
   "execution_count": null,
   "id": "2291d696",
   "metadata": {},
   "outputs": [],
   "source": [
    "# first 3 reviews are taken from IMDB to see if the score matches the sentiment\n",
    "\n",
    "# ----- good reviews ------\n",
    "review1 = 'It is now past 1 PM and I just finished watching Francis Ford Coppola\\'s \"The Godfather\". I should probably go to bed. It\\'s late and tomorrow I have to wake up a bit early. But not early enough to postpone writing these lines. Now that I have seen it three times, the opportunity of sharing my thoughts and refreshed insights are too much of a good offer to sit on. So, bear with me. This film works so well because it takes place in an underworld in which we are so embedded that we do not even observe it. Coppola puts us straight in the smack-dab center of what is, admittedly, a society made by criminals for criminals. It is also the reason why it\\'s so welcoming. We are surrounded by its inhabitants--cold-blooded murderers, men who see crime like a 9 to 5 job masquerading as honorable men. And I do mean men. From the outside, we would only witness the horrifying, disturbing manifestations of their well-thought out actions. But it goes even deeper than that. It all revolves around the Corleone family led by Don Vito Corleone (Marlon Brando). He is the most honest of these men, sitting right on the edge. But for people like him, who do not fully embrace this world, it\\'s not easy. He avoids conflict until it is absolutely necessary. He is a man defined by moral principles. There is a scene at the beginning, in which, during his daughter\\'s wedding day, one of his associates, Luca Brasi (Lenny Montana) practices his speech that he is going to give to the Don when he meets him. The scene with these two is funny and almost adorable. I could not help but sympathize both of them only to realize that I am feeling warmth for two mobsters. Not to even mention that Lenny Montana was an actual mob hit-man and that he was actually nervous as he said that line. The more I watched the more I realized just how incredibly complex and ruthless this society is and how it has the power to corrupt anyone to come in contact with it. The best example is Corleone\\'s youngest son, Michael (Al Pacino). He returns home for his sister\\'s wedding as a war hero dressed the part with his long-time girlfriend, Kay Adams (Diane Keaton). At first, he avoids this underworld, but necessity, first-hand exposure and just its sheer devilish appealing nature draws him in. As we get further in the film, the change is shocking and every outsider who ever got close to him is tainted in one way or another. If they survive it, they are drawn in as well as we are as viewers. Inside, Coppola exposes the family to us fully, with a bold personal approach and we witness every discussion, every methodically calculated choice. Crime is done simply because it is the nature of their business, and we are put on a chair alongside them, so we easily relate. For us, they are the good guys, the rival families are the bad guys. This is the greatest feat this film managed to pull off--set apart good guys and bad guys in a world filled with bad guys. This is a film of unmatched subtlety. No other movie sustains itself as good. No other film is done with such precision, attention and completeness. There are many layers which I probably missed and maybe will never notice. But I felt them. What director Francis Ford Coppola and his partner in crime (poor choice of words, sorry) Mario Puzo did is nothing short of a timeless piece of reference cinema whose influence is not based on reinventing the wheel, but rather perfecting it to the absolute maximum. Most masterpieces are remembered for their historical contributions. \"Citizen Kane\" brought the biggest step-up to the art form, the same things did \"Gone With the Wind\" or \"2001: A Space Odyssey\". \"The Godfather\" is one of the few films that will be remembered simply because they are that good and I cannot possibly imagine a greater achievement.'\n",
    "review2 = 'Nice story, didn\\'t feel like a movie'\n",
    "review3 = 'This film was probably a fascinating piece of sci-fi writing, but as a movie it was a pretty weak effort. From the cinematography to the acting - this was a non-budget sci-fi channel original movie. Sub-career actors giving hammy performances - often skating the line of annoying. I have to admit that the basic story here is very interesting and thought provoking. I cant say it was perfectly written, but this is science fiction. I think this would work good as a play. Id also like to see this re-done with a better cast and director. In the end though - there was nothing here that gave me chills or touched me in some special way or gave me any sort of epiphany like it seems to have done for so many others... At best it held my attention until the end. Its very much average and mediocre - it will end up being the sort of thing people will reference in speculative conversations with their friends to help them feel smarter. It will end up being shown to high school and college students by that hip and cool teacher. Its very accessible and gently challenges religion, so its perfect for that. Ive definitely seen better science fiction movies - with or without action or special effects.'\n",
    "review4 = 'Such a fantastic movie'\n",
    "\n",
    "# ----- bad reviews ------\n",
    "review5 = 'This was a freaking disaster, nothing good came out of it'\n",
    "review6 = 'I didn\\'t like this movie, the could have done a better job'\n",
    "review7 = 'Can we even call this a movie?'\n",
    "review8 = 'How did anyone last enough in the cinema?'\n",
    "\n",
    "# ----- mixed feelings ------\n",
    "review9 = 'This gave me mixed feelings'\n",
    "\n",
    "test_data = []\n",
    "test_data.extend([review1.lower(), review2.lower(), review3.lower(),\n",
    "                  review4.lower(), review5.lower(), review6.lower(), \n",
    "                  review7.lower(), review8.lower(), review9.lower()])\n",
    "new_X_test = vect.transform(test_data)\n",
    "probabilities = np.array(model.predict(new_X_test))\n",
    "predictions = np.argmax(probabilities, axis = 1) #what does the model predict\n",
    "\n",
    "print(predictions)"
   ]
  },
  {
   "cell_type": "markdown",
   "id": "d8707808",
   "metadata": {},
   "source": [
    "##### All of our categorical reviews were categorised with the right label, the mixed feelings one returned a positive label which is quite an interesting thing"
   ]
  },
  {
   "cell_type": "code",
   "execution_count": null,
   "id": "abf13d97",
   "metadata": {},
   "outputs": [],
   "source": [
    "probabilities[8]"
   ]
  },
  {
   "cell_type": "markdown",
   "id": "0780e212",
   "metadata": {},
   "source": [
    "##### The probability of the \"mixed feelings\" review returns an almost identical prediction, although it tends to be more positive"
   ]
  },
  {
   "cell_type": "markdown",
   "id": "a57be2d7",
   "metadata": {},
   "source": [
    "## 6. Speech Recognition\n",
    "\n",
    "__You should be able to do this exercise after Lecture 9.__"
   ]
  },
  {
   "cell_type": "markdown",
   "id": "f1b6d770",
   "metadata": {},
   "source": [
    "In this exercise, we will work with the <a href=\"https://arxiv.org/pdf/1804.03209.pdf\">Google Speech Command Dataset</a>, which can be downloaded from <a href=\"http://download.tensorflow.org/data/speech_commands_v0.02.tar.gz\">here</a> (note: you do not need to download the full dataset, but it will allow you to play around with the raw audiofiles). This dataset contains 105,829 one-second long audio files with utterances of 35 common words.\n",
    "\n",
    "We will use a subset of this dataset as indicated in the table below.\n",
    "\n",
    "| Word | How many? | Class # |\n",
    "| :-: | :-: | :-: |\n",
    "| Yes | 4,044 | 3 |\n",
    "| No | 3,941 | 1 |\n",
    "| Stop | 3,872 | 2 |\n",
    "| Go | 3,880 | 0 |\n",
    "\n",
    "The data is given in the files `XSound.npy` and `YSound.npy`, both of which can be imported using `numpy.load`. `XSound.npy` contains spectrograms (_e.g._, matrices with a time-axis and a frequency-axis of size 62 (time) x 65 (frequency)). `YSound.npy` contains the class number, as indicated in the table above."
   ]
  },
  {
   "cell_type": "code",
   "execution_count": 86,
   "id": "d8e0c4c0",
   "metadata": {},
   "outputs": [],
   "source": [
    "sounds = np.load('XSound.npy') # Sounds\n",
    "lables = np.load('YSound.npy') # Labels"
   ]
  },
  {
   "cell_type": "markdown",
   "id": "31986fe8",
   "metadata": {},
   "source": [
    "__(a)__ Explore and prepare the data, including splitting the data in training, validation and testing data, handling outliers, perhaps taking logarithms, etc. Data preparation is - as always - quite important. Document what you do."
   ]
  },
  {
   "cell_type": "code",
   "execution_count": 87,
   "id": "fa46e203",
   "metadata": {},
   "outputs": [],
   "source": [
    "X = np.log(sounds + 1) # taking logarithm of the data and escaping the cases when values are 0 by adding 1 to all of them\n",
    "Y = lables\n",
    "Y = to_categorical(Y, 4)\n",
    "\n",
    "X_train, X_test, Y_train, Y_test = train_test_split(X, Y, stratify = Y, test_size = 0.2)"
   ]
  },
  {
   "cell_type": "markdown",
   "id": "08395b33",
   "metadata": {},
   "source": [
    "__(b)__ Visualize a few examples of yes's, no's, stop's and go's, so that you have a reasonable intuitive understanding of the difference between the words."
   ]
  },
  {
   "cell_type": "code",
   "execution_count": 88,
   "id": "43c06fe6",
   "metadata": {},
   "outputs": [],
   "source": [
    "# plotting an audiogram\n",
    "def plot_audiogram(audio_data):\n",
    "  # reshaping the audiogram to fit a 62x65 array\n",
    "  reshaped_array = np.reshape(audio_data,(-1,62,65)).flatten()\n",
    "  # taking logarithm for better display, as the values are quite spread apart\n",
    "  reshaped_array_log = np.log(reshaped_array - (min(reshaped_array) - 1))\n",
    "\n",
    "  #displaying wavefoarm\n",
    "  plt.figure(figsize=(14, 5))\n",
    "  librosa.display.waveshow(reshaped_array_log, sr=44000)\n",
    "\n"
   ]
  },
  {
   "cell_type": "code",
   "execution_count": 89,
   "id": "ebb567b7",
   "metadata": {},
   "outputs": [
    {
     "data": {
      "text/plain": [
       "(2, 1, 11, 2)"
      ]
     },
     "execution_count": 89,
     "metadata": {},
     "output_type": "execute_result"
    }
   ],
   "source": [
    "yes_index = np.where(lables == 3)[0][0]\n",
    "no_index = np.where(lables == 1)[0][0]\n",
    "stop_index = np.where(lables == 2)[0][0]\n",
    "go_index = np.where(lables == 0)[0][0]\n",
    "yes_index, no_index, stop_index, yes_index"
   ]
  },
  {
   "cell_type": "code",
   "execution_count": 90,
   "id": "1f1785a3",
   "metadata": {},
   "outputs": [
    {
     "name": "stdout",
     "output_type": "stream",
     "text": [
      "-----------------YES------------------\n"
     ]
    },
    {
     "data": {
      "image/png": "[encoded data removed]",
      "text/plain": [
       "<Figure size 1400x500 with 1 Axes>"
      ]
     },
     "metadata": {},
     "output_type": "display_data"
    }
   ],
   "source": [
    "print(\"-----------------YES------------------\")\n",
    "plot_audiogram(X[yes_index])"
   ]
  },
  {
   "cell_type": "code",
   "execution_count": 91,
   "id": "5f909fd7",
   "metadata": {},
   "outputs": [
    {
     "name": "stdout",
     "output_type": "stream",
     "text": [
      "-----------------NO------------------\n"
     ]
    },
    {
     "data": {
      "image/png": "[encoded data removed]",
      "text/plain": [
       "<Figure size 1400x500 with 1 Axes>"
      ]
     },
     "metadata": {},
     "output_type": "display_data"
    }
   ],
   "source": [
    "print(\"-----------------NO------------------\")\n",
    "plot_audiogram(X[no_index])"
   ]
  },
  {
   "cell_type": "code",
   "execution_count": 92,
   "id": "a9e29c53",
   "metadata": {},
   "outputs": [
    {
     "name": "stdout",
     "output_type": "stream",
     "text": [
      "-----------------STOP------------------\n"
     ]
    },
    {
     "data": {
      "image/png": "[encoded data removed]",
      "text/plain": [
       "<Figure size 1400x500 with 1 Axes>"
      ]
     },
     "metadata": {},
     "output_type": "display_data"
    }
   ],
   "source": [
    "print(\"-----------------STOP------------------\")\n",
    "plot_audiogram(X[stop_index])"
   ]
  },
  {
   "cell_type": "code",
   "execution_count": 93,
   "id": "d5dd0662",
   "metadata": {},
   "outputs": [
    {
     "name": "stdout",
     "output_type": "stream",
     "text": [
      "-----------------GO------------------\n"
     ]
    },
    {
     "data": {
      "image/png": "[encoded data removed]",
      "text/plain": [
       "<Figure size 1400x500 with 1 Axes>"
      ]
     },
     "metadata": {},
     "output_type": "display_data"
    }
   ],
   "source": [
    "print(\"-----------------GO------------------\")\n",
    "plot_audiogram(X[go_index])"
   ]
  },
  {
   "cell_type": "markdown",
   "id": "ace8f5f7",
   "metadata": {},
   "source": [
    "__(c)__ Train a neural network and at least one other algorithm on the data. Find a good set of hyperparameters for each model. Do you think a neural network is suitable for this kind of problem? Why/why not?"
   ]
  },
  {
   "cell_type": "code",
   "execution_count": 94,
   "id": "50ddbfac",
   "metadata": {},
   "outputs": [
    {
     "name": "stdout",
     "output_type": "stream",
     "text": [
      "Epoch 1/50\n",
      "21/21 [==============================] - 25s 1s/step - loss: 0.9547 - accuracy: 0.5979 - val_loss: 0.7924 - val_accuracy: 0.6688\n",
      "Epoch 2/50\n",
      "21/21 [==============================] - 25s 1s/step - loss: 0.7327 - accuracy: 0.7067 - val_loss: 0.7103 - val_accuracy: 0.7133\n",
      "Epoch 3/50\n",
      "21/21 [==============================] - 24s 1s/step - loss: 0.6695 - accuracy: 0.7346 - val_loss: 0.6986 - val_accuracy: 0.7303\n",
      "Epoch 4/50\n",
      "21/21 [==============================] - 26s 1s/step - loss: 0.6347 - accuracy: 0.7511 - val_loss: 0.6445 - val_accuracy: 0.7546\n",
      "Epoch 5/50\n",
      "21/21 [==============================] - 22s 1s/step - loss: 0.6071 - accuracy: 0.7604 - val_loss: 0.6226 - val_accuracy: 0.7542\n",
      "Epoch 6/50\n",
      "21/21 [==============================] - 24s 1s/step - loss: 0.5883 - accuracy: 0.7690 - val_loss: 0.5794 - val_accuracy: 0.7788\n",
      "Epoch 7/50\n",
      "21/21 [==============================] - 32s 2s/step - loss: 0.5588 - accuracy: 0.7889 - val_loss: 0.6592 - val_accuracy: 0.7359\n",
      "Epoch 8/50\n",
      "21/21 [==============================] - 41s 2s/step - loss: 0.5536 - accuracy: 0.7880 - val_loss: 0.5787 - val_accuracy: 0.7776\n",
      "Epoch 9/50\n",
      "21/21 [==============================] - 26s 1s/step - loss: 0.5372 - accuracy: 0.7941 - val_loss: 0.5603 - val_accuracy: 0.7828\n",
      "Epoch 10/50\n",
      "21/21 [==============================] - 26s 1s/step - loss: 0.5149 - accuracy: 0.8033 - val_loss: 0.5899 - val_accuracy: 0.7637\n",
      "Epoch 11/50\n",
      "21/21 [==============================] - 22s 1s/step - loss: 0.5028 - accuracy: 0.8109 - val_loss: 0.5456 - val_accuracy: 0.7963\n",
      "Epoch 12/50\n",
      "21/21 [==============================] - 21s 985ms/step - loss: 0.4888 - accuracy: 0.8156 - val_loss: 0.6050 - val_accuracy: 0.7514\n",
      "Epoch 13/50\n",
      "21/21 [==============================] - 22s 1s/step - loss: 0.4778 - accuracy: 0.8199 - val_loss: 0.6379 - val_accuracy: 0.7466\n",
      "Epoch 14/50\n",
      "21/21 [==============================] - 21s 980ms/step - loss: 0.4704 - accuracy: 0.8258 - val_loss: 0.5743 - val_accuracy: 0.7724\n",
      "Epoch 15/50\n",
      "21/21 [==============================] - 20s 967ms/step - loss: 0.4571 - accuracy: 0.8284 - val_loss: 0.5702 - val_accuracy: 0.7701\n",
      "Epoch 16/50\n",
      "21/21 [==============================] - 22s 1s/step - loss: 0.4536 - accuracy: 0.8323 - val_loss: 0.5670 - val_accuracy: 0.7915\n",
      "Epoch 17/50\n",
      "21/21 [==============================] - 31s 1s/step - loss: 0.4377 - accuracy: 0.8396 - val_loss: 0.5103 - val_accuracy: 0.8086\n",
      "Epoch 18/50\n",
      "21/21 [==============================] - 30s 1s/step - loss: 0.4270 - accuracy: 0.8475 - val_loss: 0.4854 - val_accuracy: 0.8153\n",
      "Epoch 19/50\n",
      "21/21 [==============================] - 25s 1s/step - loss: 0.4200 - accuracy: 0.8438 - val_loss: 0.4916 - val_accuracy: 0.8221\n",
      "Epoch 20/50\n",
      "21/21 [==============================] - 24s 1s/step - loss: 0.4067 - accuracy: 0.8573 - val_loss: 0.5522 - val_accuracy: 0.7768\n",
      "Epoch 21/50\n",
      "21/21 [==============================] - 23s 1s/step - loss: 0.4021 - accuracy: 0.8499 - val_loss: 0.5695 - val_accuracy: 0.7832\n",
      "Epoch 22/50\n",
      "21/21 [==============================] - 25s 1s/step - loss: 0.3911 - accuracy: 0.8587 - val_loss: 0.4970 - val_accuracy: 0.8086\n",
      "Epoch 23/50\n",
      "21/21 [==============================] - 25s 1s/step - loss: 0.3859 - accuracy: 0.8608 - val_loss: 0.4854 - val_accuracy: 0.8129\n",
      "Epoch 24/50\n",
      "21/21 [==============================] - 23s 1s/step - loss: 0.3801 - accuracy: 0.8627 - val_loss: 0.4655 - val_accuracy: 0.8328\n",
      "Epoch 25/50\n",
      "21/21 [==============================] - 21s 1s/step - loss: 0.3725 - accuracy: 0.8663 - val_loss: 0.4791 - val_accuracy: 0.8189\n",
      "Epoch 26/50\n",
      "21/21 [==============================] - 21s 998ms/step - loss: 0.3616 - accuracy: 0.8715 - val_loss: 0.4498 - val_accuracy: 0.8352\n",
      "Epoch 27/50\n",
      "21/21 [==============================] - 29s 1s/step - loss: 0.3523 - accuracy: 0.8735 - val_loss: 0.4901 - val_accuracy: 0.8221\n",
      "Epoch 28/50\n",
      "21/21 [==============================] - 35s 2s/step - loss: 0.3516 - accuracy: 0.8750 - val_loss: 0.4744 - val_accuracy: 0.8161\n",
      "Epoch 29/50\n",
      "21/21 [==============================] - 31s 1s/step - loss: 0.3376 - accuracy: 0.8807 - val_loss: 0.4652 - val_accuracy: 0.8205\n",
      "Epoch 30/50\n",
      "21/21 [==============================] - 24s 1s/step - loss: 0.3329 - accuracy: 0.8824 - val_loss: 0.4467 - val_accuracy: 0.8364\n",
      "Epoch 31/50\n",
      "21/21 [==============================] - 22s 1s/step - loss: 0.3299 - accuracy: 0.8821 - val_loss: 0.4740 - val_accuracy: 0.8157\n",
      "Epoch 32/50\n",
      "21/21 [==============================] - 21s 1s/step - loss: 0.3253 - accuracy: 0.8867 - val_loss: 0.4996 - val_accuracy: 0.8106\n",
      "Epoch 33/50\n",
      "21/21 [==============================] - 21s 1s/step - loss: 0.3170 - accuracy: 0.8903 - val_loss: 0.4267 - val_accuracy: 0.8439\n",
      "Epoch 34/50\n",
      "21/21 [==============================] - 19s 891ms/step - loss: 0.3107 - accuracy: 0.8920 - val_loss: 0.5008 - val_accuracy: 0.8189\n",
      "Epoch 35/50\n",
      "21/21 [==============================] - 12s 584ms/step - loss: 0.3028 - accuracy: 0.8997 - val_loss: 0.4181 - val_accuracy: 0.8491\n",
      "Epoch 36/50\n",
      "21/21 [==============================] - 15s 715ms/step - loss: 0.2995 - accuracy: 0.8967 - val_loss: 0.4215 - val_accuracy: 0.8447\n",
      "Epoch 37/50\n",
      "21/21 [==============================] - 12s 561ms/step - loss: 0.2950 - accuracy: 0.8993 - val_loss: 0.4726 - val_accuracy: 0.8209\n",
      "Epoch 38/50\n",
      "21/21 [==============================] - 9s 446ms/step - loss: 0.2891 - accuracy: 0.8994 - val_loss: 0.4136 - val_accuracy: 0.8539\n",
      "Epoch 39/50\n",
      "21/21 [==============================] - 9s 445ms/step - loss: 0.2883 - accuracy: 0.8983 - val_loss: 0.4191 - val_accuracy: 0.8459\n",
      "Epoch 40/50\n",
      "21/21 [==============================] - 9s 449ms/step - loss: 0.2796 - accuracy: 0.9055 - val_loss: 0.4230 - val_accuracy: 0.8475\n",
      "Epoch 41/50\n",
      "21/21 [==============================] - 9s 444ms/step - loss: 0.2707 - accuracy: 0.9075 - val_loss: 0.4507 - val_accuracy: 0.8284\n",
      "Epoch 42/50\n",
      "21/21 [==============================] - 9s 446ms/step - loss: 0.2680 - accuracy: 0.9100 - val_loss: 0.4808 - val_accuracy: 0.8213\n",
      "Epoch 43/50\n",
      "21/21 [==============================] - 9s 439ms/step - loss: 0.2631 - accuracy: 0.9118 - val_loss: 0.4905 - val_accuracy: 0.8106\n",
      "Epoch 44/50\n",
      "21/21 [==============================] - 9s 446ms/step - loss: 0.2628 - accuracy: 0.9090 - val_loss: 0.4517 - val_accuracy: 0.8245\n",
      "Epoch 45/50\n",
      "21/21 [==============================] - 9s 447ms/step - loss: 0.2568 - accuracy: 0.9126 - val_loss: 0.4061 - val_accuracy: 0.8550\n",
      "Epoch 46/50\n",
      "21/21 [==============================] - 9s 452ms/step - loss: 0.2490 - accuracy: 0.9185 - val_loss: 0.4075 - val_accuracy: 0.8471\n",
      "Epoch 47/50\n",
      "21/21 [==============================] - 9s 449ms/step - loss: 0.2466 - accuracy: 0.9189 - val_loss: 0.3927 - val_accuracy: 0.8598\n",
      "Epoch 48/50\n",
      "21/21 [==============================] - 9s 452ms/step - loss: 0.2402 - accuracy: 0.9225 - val_loss: 0.4298 - val_accuracy: 0.8407\n",
      "Epoch 49/50\n",
      "21/21 [==============================] - 9s 449ms/step - loss: 0.2386 - accuracy: 0.9232 - val_loss: 0.5090 - val_accuracy: 0.8070\n",
      "Epoch 50/50\n",
      "21/21 [==============================] - 9s 448ms/step - loss: 0.2332 - accuracy: 0.9237 - val_loss: 0.3833 - val_accuracy: 0.8646\n"
     ]
    }
   ],
   "source": [
    "# Convolutional neural nework\n",
    "seed(69)\n",
    "tf.random.set_seed(69)\n",
    "\n",
    "model = Sequential()\n",
    "model.add(Conv2D(32, (5,5), activation = 'tanh', input_shape = X_train[0].shape)) \n",
    "model.add(MaxPooling2D(pool_size = (3,3))) #pooling layer\n",
    "model.add(Flatten())\n",
    "model.add(Dense(units = 4, activation = 'softmax')) #output layer\n",
    "\n",
    "model.compile(loss='categorical_crossentropy', metrics = ['accuracy'])\n",
    "\n",
    "history = model.fit(X_train, Y_train, epochs = 50, batch_size=500, validation_split = 0.2, verbose = 1)\n",
    "\n",
    "CNN_predicted = model.predict(X_test)"
   ]
  },
  {
   "cell_type": "code",
   "execution_count": 98,
   "id": "1987aabc",
   "metadata": {},
   "outputs": [
    {
     "data": {
      "image/png": "[encoded data removed]",
      "text/plain": [
       "<Figure size 640x480 with 1 Axes>"
      ]
     },
     "metadata": {},
     "output_type": "display_data"
    }
   ],
   "source": [
    "plt.figure()\n",
    "plt.title(\"Learning curves\")\n",
    "plt.xlabel(\"Epoch\")\n",
    "plt.ylabel(\"accuracy\")\n",
    "plt.plot(history.history['loss'], label = 'train')\n",
    "plt.plot(history.history['val_loss'], label = 'valid')\n",
    "plt.legend()\n",
    "plt.show()"
   ]
  },
  {
   "cell_type": "code",
   "execution_count": 95,
   "id": "a04661bb",
   "metadata": {},
   "outputs": [
    {
     "name": "stdout",
     "output_type": "stream",
     "text": [
      "99/99 [==============================] - 1s 10ms/step - loss: 0.3994 - accuracy: 0.8599\n",
      "Accuracy on test data: [0.39943116903305054, 0.8599110841751099]\n"
     ]
    }
   ],
   "source": [
    "print(\"Accuracy on test data: {}\".format(model.evaluate(X_test, Y_test)))"
   ]
  },
  {
   "cell_type": "code",
   "execution_count": 106,
   "id": "a2a9e576",
   "metadata": {},
   "outputs": [],
   "source": [
    "from sklearn.neighbors import KNeighborsClassifier\n",
    "knn_model = KNeighborsClassifier(n_neighbors=5)\n",
    "knn_model.fit(X_train.reshape(-1, 62*65), Y_train)\n",
    "\n",
    "kNN_y_pred = knn_model.fit(X_train.reshape(-1, 62*65), Y_train).predict(X_test.reshape(-1, 62*65)) "
   ]
  },
  {
   "cell_type": "code",
   "execution_count": 107,
   "id": "ab85ec27",
   "metadata": {},
   "outputs": [
    {
     "name": "stdout",
     "output_type": "stream",
     "text": [
      "KNN Model accuracy on the test data: 0.7566709021601017\n",
      "KNN Model accuracy on the train data: 0.8466121216935419\n"
     ]
    }
   ],
   "source": [
    "\n",
    "print(\"KNN Model accuracy on the test data: {}\".format(knn_model.score(X_test.reshape(-1, 62*65),Y_test)))\n",
    "print(\"KNN Model accuracy on the train data: {}\".format(knn_model.score(X_train.reshape(-1, 62*65),Y_train)))"
   ]
  },
  {
   "cell_type": "markdown",
   "id": "eed5c6a6",
   "metadata": {},
   "source": [
    "**Do you think a neural network is suitable for this kind of problem? Why/why not?**\n",
    "\n",
    "Neural networks are good for all kind of problems, especially for this one as we have pattern repeating data. There are patterns for this words that might appear closer to the start, middle of end of the recoding. That's why a convolutional neural network is even a better fit for this case rathern than a simple one. The accuracy speask to itself in this example when the question about suitability of neural networks appears here. nonetheless"
   ]
  },
  {
   "cell_type": "markdown",
   "id": "1dfbfc17",
   "metadata": {},
   "source": [
    "__(d)__ Classify instances of the testing set using your models. Comment on the results in terms of metrics you have learned in the course."
   ]
  },
  {
   "cell_type": "code",
   "execution_count": 112,
   "id": "e17723d8",
   "metadata": {},
   "outputs": [
    {
     "data": {
      "text/plain": [
       "(array([0., 0., 1., 0.], dtype=float32),\n",
       " array([0., 0., 1., 0.], dtype=float32))"
      ]
     },
     "execution_count": 112,
     "metadata": {},
     "output_type": "execute_result"
    }
   ],
   "source": [
    "actual[0],predicted[0]"
   ]
  },
  {
   "cell_type": "code",
   "execution_count": 121,
   "id": "0ecd8296",
   "metadata": {},
   "outputs": [
    {
     "data": {
      "image/png": "[encoded data removed]",
      "text/plain": [
       "<Figure size 640x480 with 2 Axes>"
      ]
     },
     "metadata": {},
     "output_type": "display_data"
    },
    {
     "name": "stdout",
     "output_type": "stream",
     "text": [
      "Accuracy measures how often the model is correct: 0.7773189326556544\n",
      "Precision measures percentage of true positive: 0.7725046362958479\n",
      "Sensitivity is good at understanding how well the model predicts something is positive: 0.7773189326556544\n",
      "F-score is the harmonic mean of precision and sensitivity. It considers both false positive and false negative cases: 0.7697775706362281\n"
     ]
    }
   ],
   "source": [
    "words = np.array(['YES', 'NO', 'STOP', 'GO'])\n",
    "actual = words[np.argmax(kNN_y_pred,axis = 1)]\n",
    "predicted = words[np.argmax(Y_test,axis = 1)]\n",
    "\n",
    "confusion_matrix = metrics.confusion_matrix(actual, predicted)\n",
    "cm_display = metrics.ConfusionMatrixDisplay(confusion_matrix = confusion_matrix, display_labels = ['YES', 'NO', 'STOP', 'GO'])\n",
    "\n",
    "cm_display.plot()\n",
    "plt.show()\n",
    "\n",
    "\n",
    "Accuracy = metrics.accuracy_score(actual, predicted)\n",
    "Precision = metrics.precision_score(actual, predicted, average=\"weighted\")\n",
    "Sensitivity_recall = metrics.recall_score(actual, predicted, average=\"weighted\")\n",
    "F1_score = metrics.f1_score(actual, predicted, average=\"weighted\")\n",
    "\n",
    "print(\"Accuracy measures how often the model is correct: {}\".format(Accuracy))\n",
    "print(\"Precision measures percentage of true positive: {}\".format(Precision))\n",
    "print(\"Sensitivity is good at understanding how well the model predicts something is positive: {}\".format(Sensitivity_recall))\n",
    "print(\"F-score is the harmonic mean of precision and sensitivity. It considers both false positive and false negative cases: {}\".format(F1_score))"
   ]
  },
  {
   "cell_type": "code",
   "execution_count": 134,
   "id": "b50d5431",
   "metadata": {},
   "outputs": [
    {
     "data": {
      "image/png": "[encoded data removed]",
      "text/plain": [
       "<Figure size 640x480 with 2 Axes>"
      ]
     },
     "metadata": {},
     "output_type": "display_data"
    },
    {
     "name": "stdout",
     "output_type": "stream",
     "text": [
      "Accuracy measures how often the model is correct: 0.8599110546378653\n",
      "Precision measures percentage of true positive: 0.8583127738602557\n",
      "Sensitivity is good at understanding how well the model predicts something is positive: 0.8599110546378653\n",
      "F-score is the harmonic mean of precision and sensitivity. It considers both false positive and false negative cases: 0.858832012670125\n"
     ]
    }
   ],
   "source": [
    "# NEURAL NETWORK\n",
    "\n",
    "words = np.array(['YES', 'NO', 'STOP', 'GO'])\n",
    "actual = words[np.argmax(CNN_predicted,axis = 1)]\n",
    "predicted = words[np.argmax(Y_test,axis = 1)]\n",
    "confusion_matrix = metrics.confusion_matrix(actual, predicted)\n",
    "cm_display = metrics.ConfusionMatrixDisplay(confusion_matrix = confusion_matrix, display_labels = ['YES', 'NO', 'STOP', 'GO'])\n",
    "\n",
    "cm_display.plot()\n",
    "plt.show()\n",
    "\n",
    "\n",
    "Accuracy = metrics.accuracy_score(actual, predicted)\n",
    "Precision = metrics.precision_score(actual, predicted, average=\"weighted\")\n",
    "Sensitivity_recall = metrics.recall_score(actual, predicted, average=\"weighted\")\n",
    "F1_score = metrics.f1_score(actual, predicted, average=\"weighted\")\n",
    "\n",
    "print(\"Accuracy measures how often the model is correct: {}\".format(Accuracy))\n",
    "print(\"Precision measures percentage of true positive: {}\".format(Precision))\n",
    "print(\"Sensitivity is good at understanding how well the model predicts something is positive: {}\".format(Sensitivity_recall))\n",
    "print(\"F-score is the harmonic mean of precision and sensitivity. It considers both false positive and false negative cases: {}\".format(F1_score))"
   ]
  },
  {
   "cell_type": "markdown",
   "id": "149c8ead",
   "metadata": {},
   "source": [
    "__(e)__ Identify (a few) misclassified words, including what they are misclassified as. Visualize them as before, and compare with your intuitive understanding of how the words look. Do you find the misclassified examples surprising?"
   ]
  },
  {
   "cell_type": "markdown",
   "id": "4335acdc",
   "metadata": {},
   "source": [
    "##### Missclasified examples are similar to some extenst so it's not surprising that they are missclasified"
   ]
  },
  {
   "cell_type": "code",
   "execution_count": 136,
   "id": "d56d3c04",
   "metadata": {},
   "outputs": [
    {
     "data": {
      "text/plain": [
       "(array([   6,    8,   10,   11,   22,   23,   24,   30,   33,   36,   40,\n",
       "          56,   65,   70,   71,   72,   76,   77,   78,   83,  107,  109,\n",
       "         111,  114,  119,  127,  163,  168,  171,  193,  197,  217,  219,\n",
       "         220,  221,  225,  237,  257,  272,  280,  287,  291,  309,  317,\n",
       "         323,  328,  329,  336,  343,  348,  362,  369,  388,  405,  409,\n",
       "         410,  413,  414,  425,  432,  440,  453,  465,  466,  484,  490,\n",
       "         498,  503,  504,  535,  546,  549,  555,  556,  567,  586,  590,\n",
       "         596,  599,  611,  614,  625,  630,  643,  652,  661,  668,  670,\n",
       "         689,  708,  718,  720,  728,  730,  736,  747,  750,  751,  758,\n",
       "         762,  766,  769,  772,  784,  792,  805,  814,  822,  828,  831,\n",
       "         836,  843,  847,  853,  861,  865,  880,  881,  883,  895,  901,\n",
       "         902,  911,  924,  938,  952,  960,  963,  975,  981,  985,  992,\n",
       "         997, 1013, 1021, 1023, 1024, 1028, 1032, 1034, 1040, 1043, 1048,\n",
       "        1056, 1058, 1059, 1063, 1065, 1073, 1074, 1077, 1078, 1082, 1097,\n",
       "        1098, 1105, 1111, 1123, 1126, 1129, 1135, 1137, 1147, 1154, 1155,\n",
       "        1164, 1176, 1181, 1183, 1190, 1220, 1226, 1227, 1234, 1254, 1269,\n",
       "        1274, 1278, 1283, 1288, 1289, 1308, 1313, 1317, 1325, 1327, 1332,\n",
       "        1337, 1351, 1373, 1378, 1383, 1391, 1393, 1397, 1418, 1419, 1421,\n",
       "        1434, 1438, 1441, 1442, 1456, 1459, 1464, 1468, 1470, 1475, 1483,\n",
       "        1488, 1490, 1494, 1497, 1505, 1514, 1515, 1522, 1530, 1539, 1546,\n",
       "        1548, 1554, 1556, 1568, 1573, 1578, 1579, 1591, 1599, 1601, 1604,\n",
       "        1616, 1623, 1649, 1655, 1688, 1690, 1708, 1710, 1728, 1730, 1734,\n",
       "        1738, 1751, 1757, 1767, 1779, 1782, 1792, 1793, 1803, 1807, 1809,\n",
       "        1810, 1819, 1820, 1828, 1838, 1845, 1846, 1849, 1852, 1859, 1863,\n",
       "        1870, 1874, 1875, 1885, 1896, 1899, 1906, 1909, 1912, 1914, 1922,\n",
       "        1924, 1932, 1933, 1939, 1950, 1957, 1975, 1981, 2012, 2015, 2038,\n",
       "        2039, 2046, 2050, 2060, 2062, 2064, 2080, 2082, 2085, 2087, 2101,\n",
       "        2115, 2123, 2147, 2153, 2166, 2174, 2191, 2192, 2207, 2209, 2211,\n",
       "        2218, 2227, 2230, 2233, 2237, 2241, 2248, 2251, 2255, 2261, 2267,\n",
       "        2268, 2303, 2345, 2348, 2350, 2391, 2400, 2407, 2412, 2413, 2419,\n",
       "        2423, 2429, 2445, 2448, 2449, 2453, 2456, 2461, 2462, 2467, 2472,\n",
       "        2486, 2487, 2488, 2495, 2507, 2509, 2523, 2524, 2526, 2563, 2568,\n",
       "        2575, 2582, 2586, 2601, 2606, 2611, 2612, 2627, 2637, 2639, 2641,\n",
       "        2646, 2648, 2653, 2655, 2659, 2661, 2665, 2683, 2698, 2700, 2701,\n",
       "        2702, 2724, 2730, 2732, 2734, 2736, 2739, 2741, 2756, 2763, 2764,\n",
       "        2771, 2790, 2795, 2797, 2804, 2806, 2811, 2813, 2815, 2816, 2823,\n",
       "        2835, 2851, 2854, 2855, 2857, 2859, 2871, 2878, 2886, 2890, 2891,\n",
       "        2905, 2912, 2914, 2917, 2921, 2934, 2937, 2939, 2957, 2991, 2992,\n",
       "        3010, 3013, 3018, 3020, 3023, 3025, 3028, 3036, 3037, 3040, 3041,\n",
       "        3049, 3067, 3070, 3073, 3096, 3097, 3099, 3101, 3108, 3121, 3145,\n",
       "        3147], dtype=int64),)"
      ]
     },
     "execution_count": 136,
     "metadata": {},
     "output_type": "execute_result"
    }
   ],
   "source": [
    "missclasified = np.where(actual!=predicted)\n",
    "missclasified"
   ]
  },
  {
   "cell_type": "code",
   "execution_count": 149,
   "id": "8bbf444b",
   "metadata": {},
   "outputs": [
    {
     "name": "stdout",
     "output_type": "stream",
     "text": [
      "YES NO\n"
     ]
    },
    {
     "data": {
      "image/png": "[encoded data removed]",
      "text/plain": [
       "<Figure size 1400x500 with 1 Axes>"
      ]
     },
     "metadata": {},
     "output_type": "display_data"
    }
   ],
   "source": [
    "print(actual[8],predicted[8])\n",
    "plot_audiogram(X[8])"
   ]
  },
  {
   "cell_type": "code",
   "execution_count": 150,
   "id": "7eebb559",
   "metadata": {},
   "outputs": [
    {
     "data": {
      "image/png": "[encoded data removed]",
      "text/plain": [
       "<Figure size 1400x500 with 1 Axes>"
      ]
     },
     "metadata": {},
     "output_type": "display_data"
    }
   ],
   "source": [
    "plot_audiogram(X[no_index])"
   ]
  },
  {
   "cell_type": "markdown",
   "id": "89c67323",
   "metadata": {},
   "source": [
    "## 7. Group Assignment & Presentation"
   ]
  },
  {
   "cell_type": "markdown",
   "id": "14b00db2",
   "metadata": {},
   "source": [
    "\n",
    "\n",
    "__You should be able to start up on this exercise after Lecture 1.__\n",
    "\n",
    "*This exercise must be a group effort. That means everyone must participate in the assignment.*\n",
    "\n",
    "In this assignment you will solve a data science problem end-to-end, pretending to be recently hired data scientists in a company. To help you get started, we've prepared a checklist to guide you through the project. Here are the main steps that you will go through:\n",
    "\n",
    "1. Frame the problem and look at the big picture\n",
    "2. Get the data\n",
    "3. Explore and visualise the data to gain insights\n",
    "4. Prepare the data to better expose the underlying data patterns to machine learning algorithms\n",
    "5. Explore many different models and short-list the best ones\n",
    "6. Fine-tune your models\n",
    "7. Present your solution \n",
    "\n",
    "In each step we list a set of questions that one should have in mind when undertaking a data science project. The list is not meant to be exhaustive, but does contain a selection of the most important questions to ask. We will be available to provide assistance with each of the steps, and will allocate some part of each lesson towards working on the projects.\n",
    "\n",
    "Your group must submit a _**single**_ Jupyter notebook, structured in terms of the first 6 sections listed above (the seventh will be a video uploaded to some streaming platform, e.g. YouTube, Vimeo, etc.)."
   ]
  },
  {
   "cell_type": "markdown",
   "id": "fbf60c0b",
   "metadata": {},
   "source": [
    "### 1. Analysis: Frame the problem and look at the big picture\n",
    "1. Find a problem/task that everyone in the group finds interesting\n",
    "2. Define the objective in business terms\n",
    "3. How should you frame the problem (supervised/unsupervised etc.)?\n",
    "4. How should performance be measured?"
   ]
  },
  {
   "cell_type": "markdown",
   "id": "73d1e473",
   "metadata": {},
   "source": [
    "### 2. Get the data\n",
    "1. Find and document where you can get the data from\n",
    "2. Get the data\n",
    "3. Check the size and type of data (time series, geographical etc)"
   ]
  },
  {
   "cell_type": "markdown",
   "id": "a4f0cd68",
   "metadata": {},
   "source": [
    "### 3. Explore the data\n",
    "1. Create a copy of the data for explorations (sampling it down to a manageable size if necessary)\n",
    "2. Create a Jupyter notebook to keep a record of your data exploration\n",
    "3. Study each feature and its characteristics:\n",
    "    * Name\n",
    "    * Type (categorical, int/float, bounded/unbounded, text, structured, etc)\n",
    "    * Percentage of missing values\n",
    "    * Check for outliers, rounding errors etc\n",
    "4. For supervised learning tasks, identify the target(s)\n",
    "5. Visualise the data\n",
    "6. Study the correlations between features\n",
    "7. Identify the promising transformations you may want to apply (e.g. convert skewed targets to normal via a log transformation)\n",
    "8. Document what you have learned"
   ]
  },
  {
   "cell_type": "markdown",
   "id": "b9efdb64",
   "metadata": {},
   "source": [
    "### 4. Prepare the data\n",
    "Notes:\n",
    "* Work on copies of the data (keep the original dataset intact).\n",
    "* Write functions for all data transformations you apply, for three reasons:\n",
    "    * So you can easily prepare the data the next time you run your code\n",
    "    * So you can apply these transformations in future projects\n",
    "    * To clean and prepare the test set\n",
    "    \n",
    "    \n",
    "1. Data cleaning:\n",
    "    * Fix or remove outliers (or keep them)\n",
    "    * Fill in missing values (e.g. with zero, mean, median, regression ...) or drop their rows (or columns)\n",
    "2. Feature selection (optional):\n",
    "    * Drop the features that provide no useful information for the task (e.g. a customer ID is usually useless for modelling).\n",
    "3. Feature engineering, where appropriate:\n",
    "    * Discretize continuous features\n",
    "    * Use one-hot encoding if/when relevant\n",
    "    * Add promising transformations of features (e.g. $\\log(x)$, $\\sqrt{x}$, $x^2$, etc)\n",
    "    * Aggregate features into promising new features\n",
    "4. Feature scaling: standardise or normalise features"
   ]
  },
  {
   "cell_type": "markdown",
   "id": "bfa4ddcf",
   "metadata": {},
   "source": [
    "### 5. Short-list promising models\n",
    "We expect you to do some additional research and train at **least one model per team member**.\n",
    "\n",
    "1. Train mainly quick and dirty models from different categories (e.g. linear, SVM, Random Forests etc) using default parameters\n",
    "2. Measure and compare their performance\n",
    "3. Analyse the most significant variables for each algorithm\n",
    "4. Analyse the types of errors the models make\n",
    "5. Have a quick round of feature selection and engineering if necessary\n",
    "6. Have one or two more quick iterations of the five previous steps\n",
    "7. Short-list the top three to five most promising models, preferring models that make different types of errors"
   ]
  },
  {
   "cell_type": "markdown",
   "id": "9b039fb8",
   "metadata": {},
   "source": [
    "### 6. Fine-tune the system\n",
    "1. Fine-tune the hyperparameters\n",
    "2. Once you are confident about your final model, measure its performance on the test set to estimate the generalisation error"
   ]
  },
  {
   "cell_type": "markdown",
   "id": "aec49c9a",
   "metadata": {},
   "source": [
    "### 7. Present your solution\n",
    "1. Document what you have done\n",
    "2. Create a nice 15 minute video presentation with slides\n",
    "    * Make sure you highlight the big picture first\n",
    "3. Explain why your solution achieves the business objective\n",
    "4. Don't forget to present interesting points you noticed along the way:\n",
    "    * Describe what worked and what did not\n",
    "    * List your assumptions and you model's limitations\n",
    "5. Ensure your key findings are communicated through nice visualisations or easy-to-remember statements (e.g. \"the median income is the number-one predictor of housing prices\")\n",
    "6. Upload the presentation to some online platform, e.g. YouTube or Vimeo, and supply a link to the video in the notebook."
   ]
  },
  {
   "cell_type": "markdown",
   "id": "7f033c3e",
   "metadata": {},
   "source": [
    "## References"
   ]
  },
  {
   "cell_type": "markdown",
   "id": "6e8e3fdf",
   "metadata": {},
   "source": [
    "Géron, A. 2017, *Hands-On Machine Learning with Scikit-Learn and Tensorflow*, Appendix B, O'Reilly Media, Inc., Sebastopol."
   ]
  }
 ],
 "metadata": {
  "kernelspec": {
   "display_name": "Python 3.9.13 ('base')",
   "language": "python",
   "name": "python3"
  },
  "language_info": {
   "codemirror_mode": {
    "name": "ipython",
    "version": 3
   },
   "file_extension": ".py",
   "mimetype": "text/x-python",
   "name": "python",
   "nbconvert_exporter": "python",
   "pygments_lexer": "ipython3",
   "version": "3.9.13"
  },
  "vscode": {
   "interpreter": {
    "hash": "ada1b269fa163c1bfb8ab89400396ed92c650d9c6b2252340017a05af54021a8"
   }
  }
 },
 "nbformat": 4,
 "nbformat_minor": 5
}
