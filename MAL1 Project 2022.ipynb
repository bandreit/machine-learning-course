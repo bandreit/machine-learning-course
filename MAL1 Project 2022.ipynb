{
 "cells": [
  {
   "cell_type": "markdown",
   "id": "d5450d0b",
   "metadata": {},
   "source": [
    "# Machine Learning Project"
   ]
  },
  {
   "cell_type": "markdown",
   "id": "37c2f32f",
   "metadata": {},
   "source": [
    "#### Student names and numbers:\n",
    "\n",
    "#####     Andrei Bostan   293104\n",
    "#####     Daniel Railean  294241\n",
    "#####     Ion Creciun     293166"
   ]
  },
  {
   "cell_type": "markdown",
   "id": "30aeca58",
   "metadata": {},
   "source": [
    "The assignments below should be solved and documented as a project that will form the basis for the\n",
    "examination. When solving the exercises it is important that you\n",
    "\n",
    "  * document all relevant results and analyses that you have obtained/performed during the exercises.\n",
    "  * try to relate your results to the theoretical background of the methods being applied.\n",
    "\n",
    "Feel free to add cells if you need to.\n",
    "\n",
    "Please hand in assignment 1-6 in a _**single**_ Jupyter notebook where you retain the questions outlined below. You are welcome to adapt code from the web (e.g. Kaggle kernels), but you **_must_** reference the original source in your notebook. In addition to _clean, well-documented code_ (i.e. functions with <a href=\"https://www.geeksforgeeks.org/python-docstrings/\">docstrings</a>, etc), your notebook will be judged according to how well each step is explained (using Markdown). \n",
    "\n",
    "In general, direct questions regarding assignments 1, 4, 5 and 6 to Frederik, and questions regarding assignments 2, 3, and 7 to Richard. \n",
    "\n",
    "Last, but not least:\n",
    "* Looking for an overview of the markdown language? The cheat sheet <a href=\"https://medium.com/ibm-data-science-experience/markdown-for-jupyter-notebooks-cheatsheet-386c05aeebed\">here</a> might help.\n",
    "* For the Python specific components of the exercises, you should not need constructs beyond those that are already included in the notebooks on the course's web-page (still you should not feel constrained by these, so feel free to be adventurous). You may, however, need to consult the documentation for some of the methods supplied by `sklearn`.\n",
    "\n",
    "**Groups:** Create your own groups. May be across teams. 2-4 students per group. No one-person groups.\n",
    "\n",
    "\n",
    "**Submission deadline:** Thursday, December 15 before 13.00 CET (Notebooks + presentation recording)\n",
    "\n",
    "**Expected workload:** Each student is expected to spend around around 50 hours on the project.\n",
    "\n",
    "### Deliverables\n",
    "The teams have to submit three deliverables before the submission deadline: 1) a notebook of assignments 1-6, 2) a notebook of assignment 7, and 3) presentation video uploaded to some online platform e.g. YouTube, Vimeo, etc.\n",
    "\n",
    "#### Notebook\n",
    "The notebook contains all the code to explore the dataset, train the final model and documents each step clearly. If code is copied from another codebase such as Github or Stack Overflow it **_must_** be properly referenced.\n",
    "\n",
    "\n",
    "#### Presentation\n",
    "The presentation video should be 15 min long and should highlight the problem you are solving, interesting things you found in the data and the step involved in building up your model. At the exam we will discuss the presentation and ask questions about your project and submissions. A link to the video must be placed in the notebook for assignment 7.\n",
    "\n",
    "### Randomness\n",
    "For ALL random states, choose state = 69 so we can replicate your work.\n"
   ]
  },
  {
   "cell_type": "code",
   "execution_count": 4,
   "id": "6ef49835",
   "metadata": {},
   "outputs": [
    {
     "name": "stdout",
     "output_type": "stream",
     "text": [
      "Requirement already satisfied: opencv-python in c:\\users\\ioncr\\anaconda3\\lib\\site-packages (4.6.0.66)\n",
      "Requirement already satisfied: numpy>=1.14.5 in c:\\users\\ioncr\\anaconda3\\lib\\site-packages (from opencv-python) (1.21.5)\n"
     ]
    },
    {
     "name": "stderr",
     "output_type": "stream",
     "text": [
      "WARNING: You are using pip version 22.0.4; however, version 22.3 is available.\n",
      "You should consider upgrading via the 'C:\\Users\\ioncr\\anaconda3\\python.exe -m pip install --upgrade pip' command.\n",
      "WARNING: You are using pip version 22.0.4; however, version 22.3 is available.\n",
      "You should consider upgrading via the 'C:\\Users\\ioncr\\anaconda3\\python.exe -m pip install --upgrade pip' command.\n"
     ]
    },
    {
     "name": "stdout",
     "output_type": "stream",
     "text": [
      "Requirement already satisfied: difPy in c:\\users\\ioncr\\anaconda3\\lib\\site-packages (2.4.4)\n",
      "Requirement already satisfied: numpy in c:\\users\\ioncr\\anaconda3\\lib\\site-packages (from difPy) (1.21.5)\n",
      "Requirement already satisfied: opencv-python in c:\\users\\ioncr\\anaconda3\\lib\\site-packages (from difPy) (4.6.0.66)\n",
      "Requirement already satisfied: matplotlib in c:\\users\\ioncr\\anaconda3\\lib\\site-packages (from difPy) (3.5.2)\n",
      "Requirement already satisfied: scikit-image in c:\\users\\ioncr\\anaconda3\\lib\\site-packages (from difPy) (0.19.2)\n",
      "Requirement already satisfied: cycler>=0.10 in c:\\users\\ioncr\\anaconda3\\lib\\site-packages (from matplotlib->difPy) (0.11.0)\n",
      "Requirement already satisfied: kiwisolver>=1.0.1 in c:\\users\\ioncr\\anaconda3\\lib\\site-packages (from matplotlib->difPy) (1.4.2)\n",
      "Requirement already satisfied: packaging>=20.0 in c:\\users\\ioncr\\anaconda3\\lib\\site-packages (from matplotlib->difPy) (21.3)\n",
      "Requirement already satisfied: python-dateutil>=2.7 in c:\\users\\ioncr\\anaconda3\\lib\\site-packages (from matplotlib->difPy) (2.8.2)\n",
      "Requirement already satisfied: pillow>=6.2.0 in c:\\users\\ioncr\\anaconda3\\lib\\site-packages (from matplotlib->difPy) (9.2.0)\n",
      "Requirement already satisfied: pyparsing>=2.2.1 in c:\\users\\ioncr\\anaconda3\\lib\\site-packages (from matplotlib->difPy) (3.0.9)\n",
      "Requirement already satisfied: fonttools>=4.22.0 in c:\\users\\ioncr\\anaconda3\\lib\\site-packages (from matplotlib->difPy) (4.25.0)\n",
      "Requirement already satisfied: PyWavelets>=1.1.1 in c:\\users\\ioncr\\anaconda3\\lib\\site-packages (from scikit-image->difPy) (1.3.0)\n",
      "Requirement already satisfied: tifffile>=2019.7.26 in c:\\users\\ioncr\\anaconda3\\lib\\site-packages (from scikit-image->difPy) (2021.7.2)\n",
      "Requirement already satisfied: scipy>=1.4.1 in c:\\users\\ioncr\\anaconda3\\lib\\site-packages (from scikit-image->difPy) (1.9.1)\n",
      "Requirement already satisfied: networkx>=2.2 in c:\\users\\ioncr\\anaconda3\\lib\\site-packages (from scikit-image->difPy) (2.8.4)\n",
      "Requirement already satisfied: imageio>=2.4.1 in c:\\users\\ioncr\\anaconda3\\lib\\site-packages (from scikit-image->difPy) (2.19.3)\n",
      "Requirement already satisfied: six>=1.5 in c:\\users\\ioncr\\anaconda3\\lib\\site-packages (from python-dateutil>=2.7->matplotlib->difPy) (1.16.0)\n"
     ]
    }
   ],
   "execution_count": null,
   "id": "6ef49835",
   "metadata": {},
   "outputs": [],
   "source": [
    "# Import all necessary modules here:\n",
    "# !pip install opencv-python\n",
    "import sys\n",
    "import skimage.measure\n",
    "import matplotlib.pyplot as plt\n",
    "import numpy as np\n",
    "import cv2\n",
    "import imghdr\n",
    "import ast\n",
    "import json\n",
    "from PIL import Image\n",
    "import subprocess\n",
    "import os\n",
    "import pandas as pd\n",
    "import numpy as np\n",
    "!{sys.executable} -m pip install difPy\n",
    "from difPy import dif\n",
    "\n",
    "import tensorflow as tf\n",
    "from sklearn.datasets import load_digits\n",
    "from sklearn.model_selection import train_test_split\n",
    "from sklearn.neighbors import KNeighborsClassifier\n",
    "from sklearn.linear_model import LinearRegression\n",
    "from sklearn.linear_model import Ridge, RidgeCV, Lasso, LassoCV,ElasticNet,ElasticNetCV\n",
    "from sklearn import (datasets, decomposition, ensemble, \n",
    "                     metrics, model_selection, preprocessing)\n",
    "\n",
    "\n",
    "from tensorflow.keras.models import Sequential\n",
    "from tensorflow.keras.layers import Dense\n",
    "from tensorflow.keras.utils import to_categorical\n",
    "from tensorflow.keras import optimizers\n",
    "from tensorflow.keras.layers import Dropout\n",
    "from tensorflow.keras import regularizers\n",
    "from sklearn.model_selection import train_test_split\n",
    "from sklearn.neighbors import KNeighborsClassifier\n",
    "from sklearn import (datasets, decomposition, ensemble, \n",
    "                     metrics, model_selection, preprocessing)\n",
    "from numpy.random import seed, randint\n",
    "from sklearn.feature_extraction.text import CountVectorizer\n",
    "import nltk\n",
    "nltk.download('stopwords')\n",
    "from nltk.corpus import stopwords\n",
    "\n",
    "%matplotlib inline\n"
   ]
  },
  {
   "cell_type": "markdown",
   "id": "7500606e",
   "metadata": {},
   "source": [
    "## 1. The IceCat Dataset\n",
    "\n",
    "__You should be able to do this exercise after Lecture 3.__"
   ]
  },
  {
   "cell_type": "markdown",
   "id": "58a32748",
   "metadata": {},
   "source": [
    "The IceCat Dataset, kindly provided to us by Stibo Systems, contains a large amount of data on different office products. As an example of \"real-world\" data, these data are imperfect and incomplete. As such, this exercise is not so much an exercise in creating a good machine learning model, but places a larger emphasis on \"cleaning the data\".\n",
    "\n",
    "We are going to work with a subset of the IceCat Dataset. In particular, you will be provided with a zip file of 5,854 images of office products, each with the name \"product ID\".jpg. You will also be provided with a list of colors, `colors.txt`, which, when imported using the code below, is a list of tuples of the form `[(\"product ID\", \"color\"), ...]`. (The code below assumes that `colors.txt` is in the same folder as the jupyter notebook. Feel free to change the code if you prefer a different organization of your files)."
   ]
  },
  {
   "cell_type": "markdown",
   "id": "a1e77fef",
   "metadata": {},
   "source": [
    "Your task is to clean up the data and construct a simple machine learning model (_e.g._, _k_-nearest neighbor) that can identify the color of a product. You have free hands - there is hardly any one \"correct answer\" - but you need to argue for your choices. Among other things, you probably need to think about the following as you work with the data:\n",
    "\n",
    "* All of the images have different sizes.\n",
    "\n",
    "* Some of the images are RGB images (3 layers), others are CMYK (4 layers), some might even be black-and-white (1 layer).\n",
    "\n",
    "* Some colors are only represented by very few products.\n",
    "\n",
    "* Some colors are very similar, such as \"Purple\" and \"Violet\".\n",
    "\n",
    "* A product may have a particular color, but a packaging of a different color. Similarly, the color of, say, a computer monitor may be black, while the image of it could show a monitor that is turned on with a green screensaver.\n",
    "\n",
    "* Many products are attributed to several colors, such as \"Black, Blue\" or even \"Blue, Green, Orange, Violet, Yellow\". Yet others are described as \"Multicolor\" or \"Assorted colors\".\n",
    "\n",
    "Again, you have free hands in how you are going to solve these (and other) challenges, but you must argue for and reflect on your choices as you progress."
   ]
  },
  {
   "cell_type": "markdown",
   "id": "7135a9da",
   "metadata": {},
   "source": [
    "### command to install ffmpeg in PowerShell\n",
    "\n",
    "#### first install choco by using instructions from below\n",
    "\n",
    "#### using powershell and open as admin\n",
    "``` console\n",
    "Set-ExecutionPolicy Bypass -Scope Process -Force; [System.Net.ServicePointManager]::SecurityProtocol = [System.Net.ServicePointManager]::SecurityProtocol -bor 3072; iex ((New-Object System.Net.WebClient).DownloadString('https://community.chocolatey.org/install.ps1'))\n",
    "```\n",
    "\n",
    "#### then install ffmpeg\n",
    "``` console\n",
    "choco install ffmpeg\n",
    "```"
   ]
  },
  {
   "cell_type": "code",
   "execution_count": 2,
   "id": "4d2a9e2e",
   "metadata": {},
   "outputs": [],
   "source": [
    "#Resize all Images/ This can be skipped if you don't want to wait \n",
    "#Uncomment if you want to use this code\n",
    "\n",
    "\n",
    "# originalDirectory = 'IceCat/images/'\n",
    "# resizedDirectory = 'IceCatResized/'\n",
    "# # creates a new folder for the resized images\n",
    "# os.system('mkdir ' + resizedDirectory[:-1])\n",
    "\n",
    "# # create list of all files in directory     \n",
    "# folder_files = [filename for filename in os.listdir(originalDirectory)]  \n",
    "# for filename in folder_files: \n",
    "#     # check if the file is accesible\n",
    "#     if not os.path.isdir(originalDirectory + filename):\n",
    "#         # run ffmpeg to scale down to 100x100 preserving ratio\n",
    "#         # add padding to non-square images to make them square\n",
    "#         # adds them to the new folder\n",
    "#         os.system('ffmpeg -i ' + originalDirectory + filename  + ' -vf \"scale=w=100:h=100:force_original_aspect_ratio=1,pad=100:100:(ow-iw)/2:(oh-ih)/2:color=white\" ' + resizedDirectory  + filename )        \n",
    "        "
   ]
  },
  {
   "cell_type": "code",
   "execution_count": 3,
   "id": "365c6fa3",
   "metadata": {},
   "outputs": [],
   "source": [
    "# use difPy to find images that are higly similar and delete them\n",
    "#This step can be skipped as well since it takes a lot of time to process this\n",
    "#Uncomment if you want to use this code\n",
    "\n",
    "\n",
    "\n",
    "# dif(resizedDirectory, similarity=\"high\", show_progress=True, show_output=False, delete=True, silent_del=True)"
   ]
  },
  {
   "cell_type": "code",
   "execution_count": 4,
   "id": "ca7170ef",
   "metadata": {},
   "outputs": [],
   "source": [
    "# find the images that got deleted\n",
    "originalDirectory = 'IceCat/images/'\n",
    "resizedDirectory = 'IceCatResized/'\n",
    "resizedAndDeletedDirectoru = 'IceCatResizedWoSimmilar/Images'\n",
    "\n",
    "originalImages = []\n",
    "imagesAfterDeletion = []\n",
    "deleted = []\n",
    "\n",
    "# resizedDirectory = \"IceCatResizedWoSimmilar/Images/\"\n",
    "directories = [originalDirectory, resizedDirectory]\n",
    "\n",
    "for i in range(len(directories)):\n",
    "    directory = directories[i]\n",
    "    folder_files = [filename for filename in os.listdir(directory)]  \n",
    "    for filename in folder_files:\n",
    "        if not os.path.isdir(directory + filename):\n",
    "            file_number = filename.split('.')[0]\n",
    "            if i == 0:\n",
    "                originalImages.append(int(file_number))\n",
    "            else: \n",
    "                imagesAfterDeletion.append(int(file_number))\n",
    "        \n",
    "deleted = list(set(originalImages) - set(imagesAfterDeletion))\n"
   ]
  },
  {
   "cell_type": "code",
   "execution_count": 5,
   "id": "50970296-f709-43c7-9e42-1a70ad57a2fb",
   "metadata": {},
   "outputs": [
    {
     "name": "stdout",
     "output_type": "stream",
     "text": [
      "0 files got deleted\n"
     ]
    }
   ],
   "source": [
    "print(str(len(deleted)) + ' files got deleted')"
   ]
  },
  {
   "cell_type": "code",
   "execution_count": 6,
   "id": "dc4b1e14",
   "metadata": {},
   "outputs": [
    {
     "name": "stdout",
     "output_type": "stream",
     "text": [
      "Color\n",
      "Black     1034\n",
      "Blue       485\n",
      "Brown      179\n",
      "Green      217\n",
      "Grey       392\n",
      "Orange      89\n",
      "Pink        50\n",
      "Purple      60\n",
      "Red        276\n",
      "Silver     187\n",
      "White      694\n",
      "Yellow     218\n",
      "Name: Name, dtype: int64\n"
     ]
    }
   ],
   "source": [
    "import ast\n",
    "with open(\"IceCat/colors.txt\",\"r\") as file:\n",
    "    colors = ast.literal_eval(file.read())\n",
    "    \n",
    "# put colors and images in a dataframe\n",
    "# remove the color-image combinations that got deleted\n",
    "df = []\n",
    "for image in colors:\n",
    "    df.append(list(image))\n",
    "    \n",
    "df = pd.DataFrame(df, columns = [\"Name\",\"Color\"])\n",
    "df = df[~df[\"Name\"].isin(deleted)]\n",
    "\n",
    "# get unique colors\n",
    "# delete the color-image combinations that are represented by less then 10 images\n",
    "groups = df.groupby(\"Color\")['Name'].nunique()\n",
    "\n",
    "x = []\n",
    "y = []\n",
    "for (index,data) in enumerate(groups):\n",
    "    if(data < 10):\n",
    "        x.append(data)\n",
    "        y.append(groups.index[index])\n",
    "        \n",
    "df = df[~df[\"Color\"].isin(y)]\n",
    "\n",
    "# delete the transparent images\n",
    "df = df[~df[\"Color\"].isin(['Transparent'])]\n",
    "df = df[~df[\"Color\"].isin(['Multicolor'])]\n",
    "\n",
    "#delete all multiple colors\n",
    "df = df[~df[\"Color\"].str.contains(\",\")]\n",
    "df = df[~df[\"Color\"].str.contains(\"Multicolour\")]\n",
    "df = df[~df[\"Color\"].str.contains(\"Assorted colours\")]\n",
    "\n",
    "\n",
    "# figure out which similar dictionary do we use\n",
    "similar = {\n",
    "    \"Brown\" : [\"Beige\",\"Wood\"],\n",
    "    \"Blue\": [\"turquoise\"],\n",
    "    \"Purple\" : [ \"Violet\"],\n",
    "    \"Silver\" : [\"Aluminium\",\"Metallic\",\"Stainless steel\"],\n",
    "    \"Yellow\" : [\"Gold\"]\n",
    "}\n",
    "\n",
    "\n",
    "# # replace colors as dictated by the similarity dictionary above\n",
    "for key in similar:\n",
    "    for color in similar[key]:\n",
    "        df.loc[df[\"Color\"].str.lower() == color.lower(), 'Color'] = key.capitalize()\n",
    "\n",
    "print(df.groupby(\"Color\")['Name'].nunique())"
   ]
  },
  {
   "cell_type": "code",
   "execution_count": 7,
   "id": "6d77a7e6",
   "metadata": {},
   "outputs": [],
   "source": [
    "# convert images to pixel arrays\n",
    "imagesAsPixelArrays = []\n",
    "\n",
    "folder_files = [filename for filename in os.listdir(resizedDirectory)]  \n",
    "\n",
    "for filename in df[\"Name\"]:\n",
    "    im = np.array(Image.open(resizedDirectory + str(filename) + '.jpg'))\n",
    "    arr = (im.flatten())\n",
    "    imagesAsPixelArrays.append(arr)\n",
    "    \n",
    "imagesAsPixelArrays = np.array(imagesAsPixelArrays)"
   ]
  },
  {
   "cell_type": "code",
   "execution_count": 8,
   "id": "2e641c50",
   "metadata": {},
   "outputs": [
    {
     "name": "stdout",
     "output_type": "stream",
     "text": [
      "{'n_neighbors': range(1, 10, 2)}\n",
      "2182 971\n",
      "Fitting 5 folds for each of 5 candidates, totalling 25 fits\n",
      "[CV 1/5] END .n_neighbors=1;, score=(train=0.981, test=0.606) total time=   0.8s\n",
      "[CV 2/5] END .n_neighbors=1;, score=(train=0.982, test=0.593) total time=   1.0s\n",
      "[CV 3/5] END .n_neighbors=1;, score=(train=0.980, test=0.608) total time=   1.0s\n",
      "[CV 4/5] END .n_neighbors=1;, score=(train=0.981, test=0.603) total time=   0.8s\n",
      "[CV 5/5] END .n_neighbors=1;, score=(train=0.979, test=0.601) total time=   0.9s\n",
      "[CV 1/5] END .n_neighbors=3;, score=(train=0.766, test=0.568) total time=   0.8s\n",
      "[CV 2/5] END .n_neighbors=3;, score=(train=0.762, test=0.554) total time=   0.8s\n",
      "[CV 3/5] END .n_neighbors=3;, score=(train=0.765, test=0.583) total time=   0.9s\n",
      "[CV 4/5] END .n_neighbors=3;, score=(train=0.763, test=0.573) total time=   1.0s\n",
      "[CV 5/5] END .n_neighbors=3;, score=(train=0.772, test=0.571) total time=   0.8s\n",
      "[CV 1/5] END .n_neighbors=5;, score=(train=0.698, test=0.572) total time=   0.7s\n",
      "[CV 2/5] END .n_neighbors=5;, score=(train=0.685, test=0.558) total time=   0.7s\n",
      "[CV 3/5] END .n_neighbors=5;, score=(train=0.694, test=0.557) total time=   0.8s\n",
      "[CV 4/5] END .n_neighbors=5;, score=(train=0.692, test=0.546) total time=   0.8s\n",
      "[CV 5/5] END .n_neighbors=5;, score=(train=0.684, test=0.562) total time=   0.8s\n",
      "[CV 1/5] END .n_neighbors=7;, score=(train=0.664, test=0.563) total time=   0.8s\n",
      "[CV 2/5] END .n_neighbors=7;, score=(train=0.653, test=0.547) total time=   0.8s\n",
      "[CV 3/5] END .n_neighbors=7;, score=(train=0.660, test=0.546) total time=   0.8s\n",
      "[CV 4/5] END .n_neighbors=7;, score=(train=0.656, test=0.537) total time=   0.8s\n",
      "[CV 5/5] END .n_neighbors=7;, score=(train=0.645, test=0.550) total time=   0.9s\n",
      "[CV 1/5] END .n_neighbors=9;, score=(train=0.623, test=0.572) total time=   1.0s\n",
      "[CV 2/5] END .n_neighbors=9;, score=(train=0.623, test=0.524) total time=   1.0s\n",
      "[CV 3/5] END .n_neighbors=9;, score=(train=0.631, test=0.546) total time=   0.7s\n",
      "[CV 4/5] END .n_neighbors=9;, score=(train=0.625, test=0.525) total time=   0.7s\n",
      "[CV 5/5] END .n_neighbors=9;, score=(train=0.619, test=0.546) total time=   0.7s\n",
      "Test score: 0.62\n",
      "Best parameter: {'n_neighbors': 1}\n",
      "Best cross-validation score: 0.6022022547393614\n",
      "Best estimator: KNeighborsClassifier(n_neighbors=1)\n"
     ]
    }
   ],
   "source": [
    "#MAYBE REMOVE AND USE THE PLOT STUFF\n",
    "\n",
    "# from sklearn.model_selection import GridSearchCV\n",
    "# from sklearn.model_selection import train_test_split\n",
    "# from sklearn.neighbors import KNeighborsClassifier\n",
    "\n",
    "# #Look only at odd numbers\n",
    "# parameters = {'n_neighbors': range(1,10,2)}\n",
    "# grid_search = GridSearchCV(KNeighborsClassifier(), parameters, cv=5, refit = True, return_train_score=True, verbose=4)\n",
    "\n",
    "# # Load the data and divide into train and test\n",
    "# X_train, X_test, y_train, y_test = train_test_split(imagesAsPixelArrays, df['Color'], random_state=69)\n",
    "# X_train, X_val, y_train, y_val = train_test_split(X_train, y_train, random_state=69)\n",
    "# print(parameters)\n",
    "# print(len(X_train),len(X_test))\n",
    "# grid_search.fit(X_train, y_train)\n",
    "\n",
    "# print(\"Test score: {:.2f}\".format(grid_search.score(X_val, y_val)))\n",
    "\n",
    "# print(\"Best parameter: {}\".format(grid_search.best_params_))\n",
    "\n",
    "# print(\"Best cross-validation score: {}\".format(grid_search.best_score_))\n",
    "\n",
    "# print(\"Best estimator: {}\".format(grid_search.best_estimator_))\n",
    "\n",
    "\n",
    "\n"
   ]
  },
  {
   "cell_type": "code",
   "execution_count": 15,
   "id": "0a33fb93-85c7-4c20-9650-91bba3613a1c",
   "metadata": {},
   "outputs": [
    {
     "data": {
      "image/png": "[encoded data removed]",
      "text/plain": [
       "<Figure size 640x480 with 1 Axes>"
      ]
     },
     "metadata": {},
     "output_type": "display_data"
    }
   ],
   "source": [
    "\n",
    "training_accuracy = []\n",
    "test_accuracy = []\n",
    "# try n_neighbors from 1 to 20 only odd numbers\n",
    "neighbors_settings = range(1, 40,2)\n",
    "\n",
    "X_train, X_test, y_train, y_test = train_test_split(imagesAsPixelArrays, df['Color'], random_state=69)\n",
    "X_train, X_val, y_train, y_val = train_test_split(X_train, y_train, random_state=69)\n",
    "\n",
    "\n",
    "for n_neighbors in neighbors_settings:\n",
    "    # build the model\n",
    "    clf = KNeighborsClassifier(n_neighbors=n_neighbors)\n",
    "    clf.fit(X_train, y_train)\n",
    "    # record training set accuracy\n",
    "    training_accuracy.append(clf.score(X_train, y_train))\n",
    "    # record generalization accuracy\n",
    "    test_accuracy.append(clf.score(X_val, y_val))\n",
    "    \n",
    "plt.plot(neighbors_settings, training_accuracy, label=\"training accuracy\")\n",
    "plt.plot(neighbors_settings, test_accuracy, label=\"Validation accuracy\")\n",
    "plt.ylabel(\"Accuracy\")\n",
    "plt.xlabel(\"n_neighbors\")\n",
    "plt.legend();"
   ]
  },
  {
   "cell_type": "code",
   "execution_count": 19,
   "id": "1921f09b",
   "metadata": {},
   "outputs": [
    {
     "name": "stdout",
     "output_type": "stream",
     "text": [
      "Training Prediction: 0.5627864344637947\n",
      "Test Prediction: 0.537590113285273\n"
     ]
    }
   ],
   "source": [
    "from sklearn.neighbors import KNeighborsClassifier\n",
    "from sklearn.model_selection import train_test_split\n",
    "\n",
    "\n",
    "knn = KNeighborsClassifier(n_neighbors=21)\n",
    "knn.fit(X_train, y_train)\n",
    "#Add score for this \n",
    "print(\"Training Prediction: {}\".format(knn.score(X_train,y_train)))\n",
    "\n",
    "print(\"Test Prediction: {}\".format(knn.score(X_test,y_test)))\n"
   ]
  },
  {
   "cell_type": "markdown",
   "id": "12a60cbe",
   "metadata": {},
   "source": [
    "## 2. Flights Departing from NYC\n",
    "\n",
    "__You should be able to do this exercise after Lecture 4.__"
   ]
  },
  {
   "cell_type": "markdown",
   "id": "fef005cc",
   "metadata": {},
   "source": [
    "For this exercise we will be using the famous nycflights13 data which contains the `airlines`, `airports`, `flights`, `planes`, and `weather` datasets. Please see the documentation (`nycflights13.pdf`) for further information."
   ]
  },
  {
   "cell_type": "code",
   "execution_count": null,
   "id": "f62431df-9f89-44b0-89ef-c53e154e938f",
   "metadata": {},
   "outputs": [],
   "source": []
  },
  {
   "cell_type": "markdown",
   "id": "4441a327",
   "metadata": {},
   "source": [
    "**(a)** Load all files as pandas dataframes and display the first 5 rows of each dataset."
   ]
  },
  {
   "cell_type": "code",
   "execution_count": 5,
   "id": "92d8575d-6609-419a-89c8-59bbd3c55592",
   "metadata": {},
   "outputs": [],
   "source": [
    "#a\n",
    "FOLDER  = \"NYC_Flights/\"\n",
    "\n",
    "airlines_df = pd.read_csv(FOLDER + \"airlines.csv\")\n",
    "airports_df = pd.read_csv(FOLDER + \"airports.csv\")\n",
    "flights_df = pd.read_csv(FOLDER + \"flights.csv\")\n",
    "planes_df = pd.read_csv(FOLDER + \"planes.csv\")\n",
    "weather_df = pd.read_csv(FOLDER + \"weather.csv\")"
   ]
  },
  {
   "cell_type": "code",
   "execution_count": 6,
   "id": "a78fbb7e-ac54-4572-b602-1190fb5e1a7e",
   "metadata": {},
   "outputs": [
    {
     "data": {
      "text/html": [
       "<div>\n",
       "<style scoped>\n",
       "    .dataframe tbody tr th:only-of-type {\n",
       "        vertical-align: middle;\n",
       "    }\n",
       "\n",
       "    .dataframe tbody tr th {\n",
       "        vertical-align: top;\n",
       "    }\n",
       "\n",
       "    .dataframe thead th {\n",
       "        text-align: right;\n",
       "    }\n",
       "</style>\n",
       "<table border=\"1\" class=\"dataframe\">\n",
       "  <thead>\n",
       "    <tr style=\"text-align: right;\">\n",
       "      <th></th>\n",
       "      <th>carrier</th>\n",
       "      <th>name</th>\n",
       "    </tr>\n",
       "  </thead>\n",
       "  <tbody>\n",
       "    <tr>\n",
       "      <th>0</th>\n",
       "      <td>9E</td>\n",
       "      <td>Endeavor Air Inc.</td>\n",
       "    </tr>\n",
       "    <tr>\n",
       "      <th>1</th>\n",
       "      <td>AA</td>\n",
       "      <td>American Airlines Inc.</td>\n",
       "    </tr>\n",
       "    <tr>\n",
       "      <th>2</th>\n",
       "      <td>AS</td>\n",
       "      <td>Alaska Airlines Inc.</td>\n",
       "    </tr>\n",
       "    <tr>\n",
       "      <th>3</th>\n",
       "      <td>B6</td>\n",
       "      <td>JetBlue Airways</td>\n",
       "    </tr>\n",
       "    <tr>\n",
       "      <th>4</th>\n",
       "      <td>DL</td>\n",
       "      <td>Delta Air Lines Inc.</td>\n",
       "    </tr>\n",
       "  </tbody>\n",
       "</table>\n",
       "</div>"
      ],
      "text/plain": [
       "  carrier                    name\n",
       "0      9E       Endeavor Air Inc.\n",
       "1      AA  American Airlines Inc.\n",
       "2      AS    Alaska Airlines Inc.\n",
       "3      B6         JetBlue Airways\n",
       "4      DL    Delta Air Lines Inc."
      ]
     },
     "execution_count": 6,
     "metadata": {},
     "output_type": "execute_result"
    }
   ],
   "source": [
    "airlines_df[0:5]"
   ]
  },
  {
   "cell_type": "code",
   "execution_count": 7,
   "id": "51b6fbdf-56ca-46a4-beed-216fd955bcb9",
   "metadata": {},
   "outputs": [
    {
     "data": {
      "text/html": [
       "<div>\n",
       "<style scoped>\n",
       "    .dataframe tbody tr th:only-of-type {\n",
       "        vertical-align: middle;\n",
       "    }\n",
       "\n",
       "    .dataframe tbody tr th {\n",
       "        vertical-align: top;\n",
       "    }\n",
       "\n",
       "    .dataframe thead th {\n",
       "        text-align: right;\n",
       "    }\n",
       "</style>\n",
       "<table border=\"1\" class=\"dataframe\">\n",
       "  <thead>\n",
       "    <tr style=\"text-align: right;\">\n",
       "      <th></th>\n",
       "      <th>faa</th>\n",
       "      <th>name</th>\n",
       "      <th>lat</th>\n",
       "      <th>lon</th>\n",
       "      <th>alt</th>\n",
       "      <th>tz</th>\n",
       "      <th>dst</th>\n",
       "      <th>tzone</th>\n",
       "    </tr>\n",
       "  </thead>\n",
       "  <tbody>\n",
       "    <tr>\n",
       "      <th>0</th>\n",
       "      <td>04G</td>\n",
       "      <td>Lansdowne Airport</td>\n",
       "      <td>41.130472</td>\n",
       "      <td>-80.619583</td>\n",
       "      <td>1044</td>\n",
       "      <td>-5.0</td>\n",
       "      <td>A</td>\n",
       "      <td>America/New_York</td>\n",
       "    </tr>\n",
       "    <tr>\n",
       "      <th>1</th>\n",
       "      <td>06A</td>\n",
       "      <td>Moton Field Municipal Airport</td>\n",
       "      <td>32.460572</td>\n",
       "      <td>-85.680028</td>\n",
       "      <td>264</td>\n",
       "      <td>-6.0</td>\n",
       "      <td>A</td>\n",
       "      <td>America/Chicago</td>\n",
       "    </tr>\n",
       "    <tr>\n",
       "      <th>2</th>\n",
       "      <td>06C</td>\n",
       "      <td>Schaumburg Regional</td>\n",
       "      <td>41.989341</td>\n",
       "      <td>-88.101243</td>\n",
       "      <td>801</td>\n",
       "      <td>-6.0</td>\n",
       "      <td>A</td>\n",
       "      <td>America/Chicago</td>\n",
       "    </tr>\n",
       "    <tr>\n",
       "      <th>3</th>\n",
       "      <td>06N</td>\n",
       "      <td>Randall Airport</td>\n",
       "      <td>41.431912</td>\n",
       "      <td>-74.391561</td>\n",
       "      <td>523</td>\n",
       "      <td>-5.0</td>\n",
       "      <td>A</td>\n",
       "      <td>America/New_York</td>\n",
       "    </tr>\n",
       "    <tr>\n",
       "      <th>4</th>\n",
       "      <td>09J</td>\n",
       "      <td>Jekyll Island Airport</td>\n",
       "      <td>31.074472</td>\n",
       "      <td>-81.427778</td>\n",
       "      <td>11</td>\n",
       "      <td>-5.0</td>\n",
       "      <td>A</td>\n",
       "      <td>America/New_York</td>\n",
       "    </tr>\n",
       "  </tbody>\n",
       "</table>\n",
       "</div>"
      ],
      "text/plain": [
       "   faa                           name        lat        lon   alt   tz dst  \\\n",
       "0  04G              Lansdowne Airport  41.130472 -80.619583  1044 -5.0   A   \n",
       "1  06A  Moton Field Municipal Airport  32.460572 -85.680028   264 -6.0   A   \n",
       "2  06C            Schaumburg Regional  41.989341 -88.101243   801 -6.0   A   \n",
       "3  06N                Randall Airport  41.431912 -74.391561   523 -5.0   A   \n",
       "4  09J          Jekyll Island Airport  31.074472 -81.427778    11 -5.0   A   \n",
       "\n",
       "              tzone  \n",
       "0  America/New_York  \n",
       "1   America/Chicago  \n",
       "2   America/Chicago  \n",
       "3  America/New_York  \n",
       "4  America/New_York  "
      ]
     },
     "execution_count": 7,
     "metadata": {},
     "output_type": "execute_result"
    }
   ],
   "source": [
    "airports_df[0:5]"
   ]
  },
  {
   "cell_type": "code",
   "execution_count": 8,
   "id": "eec6e2e4-2abf-4f31-bf28-2e84ee5a8455",
   "metadata": {},
   "outputs": [
    {
     "data": {
      "text/html": [
       "<div>\n",
       "<style scoped>\n",
       "    .dataframe tbody tr th:only-of-type {\n",
       "        vertical-align: middle;\n",
       "    }\n",
       "\n",
       "    .dataframe tbody tr th {\n",
       "        vertical-align: top;\n",
       "    }\n",
       "\n",
       "    .dataframe thead th {\n",
       "        text-align: right;\n",
       "    }\n",
       "</style>\n",
       "<table border=\"1\" class=\"dataframe\">\n",
       "  <thead>\n",
       "    <tr style=\"text-align: right;\">\n",
       "      <th></th>\n",
       "      <th>year</th>\n",
       "      <th>month</th>\n",
       "      <th>day</th>\n",
       "      <th>dep_time</th>\n",
       "      <th>dep_delay</th>\n",
       "      <th>arr_time</th>\n",
       "      <th>arr_delay</th>\n",
       "      <th>carrier</th>\n",
       "      <th>tailnum</th>\n",
       "      <th>flight</th>\n",
       "      <th>origin</th>\n",
       "      <th>dest</th>\n",
       "      <th>air_time</th>\n",
       "      <th>distance</th>\n",
       "      <th>hour</th>\n",
       "      <th>minute</th>\n",
       "    </tr>\n",
       "  </thead>\n",
       "  <tbody>\n",
       "    <tr>\n",
       "      <th>0</th>\n",
       "      <td>2013</td>\n",
       "      <td>1</td>\n",
       "      <td>1</td>\n",
       "      <td>517.0</td>\n",
       "      <td>2.0</td>\n",
       "      <td>830.0</td>\n",
       "      <td>11.0</td>\n",
       "      <td>UA</td>\n",
       "      <td>N14228</td>\n",
       "      <td>1545</td>\n",
       "      <td>EWR</td>\n",
       "      <td>IAH</td>\n",
       "      <td>227.0</td>\n",
       "      <td>1400</td>\n",
       "      <td>5.0</td>\n",
       "      <td>17.0</td>\n",
       "    </tr>\n",
       "    <tr>\n",
       "      <th>1</th>\n",
       "      <td>2013</td>\n",
       "      <td>1</td>\n",
       "      <td>1</td>\n",
       "      <td>533.0</td>\n",
       "      <td>4.0</td>\n",
       "      <td>850.0</td>\n",
       "      <td>20.0</td>\n",
       "      <td>UA</td>\n",
       "      <td>N24211</td>\n",
       "      <td>1714</td>\n",
       "      <td>LGA</td>\n",
       "      <td>IAH</td>\n",
       "      <td>227.0</td>\n",
       "      <td>1416</td>\n",
       "      <td>5.0</td>\n",
       "      <td>33.0</td>\n",
       "    </tr>\n",
       "    <tr>\n",
       "      <th>2</th>\n",
       "      <td>2013</td>\n",
       "      <td>1</td>\n",
       "      <td>1</td>\n",
       "      <td>542.0</td>\n",
       "      <td>2.0</td>\n",
       "      <td>923.0</td>\n",
       "      <td>33.0</td>\n",
       "      <td>AA</td>\n",
       "      <td>N619AA</td>\n",
       "      <td>1141</td>\n",
       "      <td>JFK</td>\n",
       "      <td>MIA</td>\n",
       "      <td>160.0</td>\n",
       "      <td>1089</td>\n",
       "      <td>5.0</td>\n",
       "      <td>42.0</td>\n",
       "    </tr>\n",
       "    <tr>\n",
       "      <th>3</th>\n",
       "      <td>2013</td>\n",
       "      <td>1</td>\n",
       "      <td>1</td>\n",
       "      <td>554.0</td>\n",
       "      <td>-6.0</td>\n",
       "      <td>812.0</td>\n",
       "      <td>-25.0</td>\n",
       "      <td>DL</td>\n",
       "      <td>N668DN</td>\n",
       "      <td>461</td>\n",
       "      <td>LGA</td>\n",
       "      <td>ATL</td>\n",
       "      <td>116.0</td>\n",
       "      <td>762</td>\n",
       "      <td>5.0</td>\n",
       "      <td>54.0</td>\n",
       "    </tr>\n",
       "    <tr>\n",
       "      <th>4</th>\n",
       "      <td>2013</td>\n",
       "      <td>1</td>\n",
       "      <td>1</td>\n",
       "      <td>554.0</td>\n",
       "      <td>-4.0</td>\n",
       "      <td>740.0</td>\n",
       "      <td>12.0</td>\n",
       "      <td>UA</td>\n",
       "      <td>N39463</td>\n",
       "      <td>1696</td>\n",
       "      <td>EWR</td>\n",
       "      <td>ORD</td>\n",
       "      <td>150.0</td>\n",
       "      <td>719</td>\n",
       "      <td>5.0</td>\n",
       "      <td>54.0</td>\n",
       "    </tr>\n",
       "  </tbody>\n",
       "</table>\n",
       "</div>"
      ],
      "text/plain": [
       "   year  month  day  dep_time  dep_delay  arr_time  arr_delay carrier tailnum  \\\n",
       "0  2013      1    1     517.0        2.0     830.0       11.0      UA  N14228   \n",
       "1  2013      1    1     533.0        4.0     850.0       20.0      UA  N24211   \n",
       "2  2013      1    1     542.0        2.0     923.0       33.0      AA  N619AA   \n",
       "3  2013      1    1     554.0       -6.0     812.0      -25.0      DL  N668DN   \n",
       "4  2013      1    1     554.0       -4.0     740.0       12.0      UA  N39463   \n",
       "\n",
       "   flight origin dest  air_time  distance  hour  minute  \n",
       "0    1545    EWR  IAH     227.0      1400   5.0    17.0  \n",
       "1    1714    LGA  IAH     227.0      1416   5.0    33.0  \n",
       "2    1141    JFK  MIA     160.0      1089   5.0    42.0  \n",
       "3     461    LGA  ATL     116.0       762   5.0    54.0  \n",
       "4    1696    EWR  ORD     150.0       719   5.0    54.0  "
      ]
     },
     "execution_count": 8,
     "metadata": {},
     "output_type": "execute_result"
    }
   ],
   "source": [
    "flights_df[0:5]"
   ]
  },
  {
   "cell_type": "code",
   "execution_count": 9,
   "id": "1a683ef0-f347-40ee-ae2f-fdee8f6050e8",
   "metadata": {},
   "outputs": [
    {
     "data": {
      "text/html": [
       "<div>\n",
       "<style scoped>\n",
       "    .dataframe tbody tr th:only-of-type {\n",
       "        vertical-align: middle;\n",
       "    }\n",
       "\n",
       "    .dataframe tbody tr th {\n",
       "        vertical-align: top;\n",
       "    }\n",
       "\n",
       "    .dataframe thead th {\n",
       "        text-align: right;\n",
       "    }\n",
       "</style>\n",
       "<table border=\"1\" class=\"dataframe\">\n",
       "  <thead>\n",
       "    <tr style=\"text-align: right;\">\n",
       "      <th></th>\n",
       "      <th>tailnum</th>\n",
       "      <th>year</th>\n",
       "      <th>type</th>\n",
       "      <th>manufacturer</th>\n",
       "      <th>model</th>\n",
       "      <th>engines</th>\n",
       "      <th>seats</th>\n",
       "      <th>speed</th>\n",
       "      <th>engine</th>\n",
       "    </tr>\n",
       "  </thead>\n",
       "  <tbody>\n",
       "    <tr>\n",
       "      <th>0</th>\n",
       "      <td>N10156</td>\n",
       "      <td>2004.0</td>\n",
       "      <td>Fixed wing multi engine</td>\n",
       "      <td>EMBRAER</td>\n",
       "      <td>EMB-145XR</td>\n",
       "      <td>2</td>\n",
       "      <td>55</td>\n",
       "      <td>NaN</td>\n",
       "      <td>Turbo-fan</td>\n",
       "    </tr>\n",
       "    <tr>\n",
       "      <th>1</th>\n",
       "      <td>N102UW</td>\n",
       "      <td>1998.0</td>\n",
       "      <td>Fixed wing multi engine</td>\n",
       "      <td>AIRBUS INDUSTRIE</td>\n",
       "      <td>A320-214</td>\n",
       "      <td>2</td>\n",
       "      <td>182</td>\n",
       "      <td>NaN</td>\n",
       "      <td>Turbo-fan</td>\n",
       "    </tr>\n",
       "    <tr>\n",
       "      <th>2</th>\n",
       "      <td>N103US</td>\n",
       "      <td>1999.0</td>\n",
       "      <td>Fixed wing multi engine</td>\n",
       "      <td>AIRBUS INDUSTRIE</td>\n",
       "      <td>A320-214</td>\n",
       "      <td>2</td>\n",
       "      <td>182</td>\n",
       "      <td>NaN</td>\n",
       "      <td>Turbo-fan</td>\n",
       "    </tr>\n",
       "    <tr>\n",
       "      <th>3</th>\n",
       "      <td>N104UW</td>\n",
       "      <td>1999.0</td>\n",
       "      <td>Fixed wing multi engine</td>\n",
       "      <td>AIRBUS INDUSTRIE</td>\n",
       "      <td>A320-214</td>\n",
       "      <td>2</td>\n",
       "      <td>182</td>\n",
       "      <td>NaN</td>\n",
       "      <td>Turbo-fan</td>\n",
       "    </tr>\n",
       "    <tr>\n",
       "      <th>4</th>\n",
       "      <td>N10575</td>\n",
       "      <td>2002.0</td>\n",
       "      <td>Fixed wing multi engine</td>\n",
       "      <td>EMBRAER</td>\n",
       "      <td>EMB-145LR</td>\n",
       "      <td>2</td>\n",
       "      <td>55</td>\n",
       "      <td>NaN</td>\n",
       "      <td>Turbo-fan</td>\n",
       "    </tr>\n",
       "  </tbody>\n",
       "</table>\n",
       "</div>"
      ],
      "text/plain": [
       "  tailnum    year                     type      manufacturer      model  \\\n",
       "0  N10156  2004.0  Fixed wing multi engine           EMBRAER  EMB-145XR   \n",
       "1  N102UW  1998.0  Fixed wing multi engine  AIRBUS INDUSTRIE   A320-214   \n",
       "2  N103US  1999.0  Fixed wing multi engine  AIRBUS INDUSTRIE   A320-214   \n",
       "3  N104UW  1999.0  Fixed wing multi engine  AIRBUS INDUSTRIE   A320-214   \n",
       "4  N10575  2002.0  Fixed wing multi engine           EMBRAER  EMB-145LR   \n",
       "\n",
       "   engines  seats  speed     engine  \n",
       "0        2     55    NaN  Turbo-fan  \n",
       "1        2    182    NaN  Turbo-fan  \n",
       "2        2    182    NaN  Turbo-fan  \n",
       "3        2    182    NaN  Turbo-fan  \n",
       "4        2     55    NaN  Turbo-fan  "
      ]
     },
     "execution_count": 9,
     "metadata": {},
     "output_type": "execute_result"
    }
   ],
   "source": [
    "planes_df[0:5]"
   ]
  },
  {
   "cell_type": "code",
   "execution_count": 10,
   "id": "d9b92c76-7b44-4ffd-8f63-f3e1dc11d462",
   "metadata": {},
   "outputs": [
    {
     "data": {
      "text/html": [
       "<div>\n",
       "<style scoped>\n",
       "    .dataframe tbody tr th:only-of-type {\n",
       "        vertical-align: middle;\n",
       "    }\n",
       "\n",
       "    .dataframe tbody tr th {\n",
       "        vertical-align: top;\n",
       "    }\n",
       "\n",
       "    .dataframe thead th {\n",
       "        text-align: right;\n",
       "    }\n",
       "</style>\n",
       "<table border=\"1\" class=\"dataframe\">\n",
       "  <thead>\n",
       "    <tr style=\"text-align: right;\">\n",
       "      <th></th>\n",
       "      <th>origin</th>\n",
       "      <th>year</th>\n",
       "      <th>month</th>\n",
       "      <th>day</th>\n",
       "      <th>hour</th>\n",
       "      <th>temp</th>\n",
       "      <th>dewp</th>\n",
       "      <th>humid</th>\n",
       "      <th>wind_dir</th>\n",
       "      <th>wind_speed</th>\n",
       "      <th>wind_gust</th>\n",
       "      <th>precip</th>\n",
       "      <th>pressure</th>\n",
       "      <th>visib</th>\n",
       "      <th>time_hour</th>\n",
       "    </tr>\n",
       "  </thead>\n",
       "  <tbody>\n",
       "    <tr>\n",
       "      <th>0</th>\n",
       "      <td>EWR</td>\n",
       "      <td>2013</td>\n",
       "      <td>1</td>\n",
       "      <td>1</td>\n",
       "      <td>0</td>\n",
       "      <td>37.04</td>\n",
       "      <td>21.92</td>\n",
       "      <td>53.97</td>\n",
       "      <td>230.0</td>\n",
       "      <td>10.35702</td>\n",
       "      <td>11.918651</td>\n",
       "      <td>0.0</td>\n",
       "      <td>1013.9</td>\n",
       "      <td>10.0</td>\n",
       "      <td>2013-01-01T00:00:00Z</td>\n",
       "    </tr>\n",
       "    <tr>\n",
       "      <th>1</th>\n",
       "      <td>EWR</td>\n",
       "      <td>2013</td>\n",
       "      <td>1</td>\n",
       "      <td>1</td>\n",
       "      <td>1</td>\n",
       "      <td>37.04</td>\n",
       "      <td>21.92</td>\n",
       "      <td>53.97</td>\n",
       "      <td>230.0</td>\n",
       "      <td>13.80936</td>\n",
       "      <td>15.891535</td>\n",
       "      <td>0.0</td>\n",
       "      <td>1013.0</td>\n",
       "      <td>10.0</td>\n",
       "      <td>2013-01-01T01:00:00Z</td>\n",
       "    </tr>\n",
       "    <tr>\n",
       "      <th>2</th>\n",
       "      <td>EWR</td>\n",
       "      <td>2013</td>\n",
       "      <td>1</td>\n",
       "      <td>1</td>\n",
       "      <td>2</td>\n",
       "      <td>37.94</td>\n",
       "      <td>21.92</td>\n",
       "      <td>52.09</td>\n",
       "      <td>230.0</td>\n",
       "      <td>12.65858</td>\n",
       "      <td>14.567241</td>\n",
       "      <td>0.0</td>\n",
       "      <td>1012.6</td>\n",
       "      <td>10.0</td>\n",
       "      <td>2013-01-01T02:00:00Z</td>\n",
       "    </tr>\n",
       "    <tr>\n",
       "      <th>3</th>\n",
       "      <td>EWR</td>\n",
       "      <td>2013</td>\n",
       "      <td>1</td>\n",
       "      <td>1</td>\n",
       "      <td>3</td>\n",
       "      <td>37.94</td>\n",
       "      <td>23.00</td>\n",
       "      <td>54.51</td>\n",
       "      <td>230.0</td>\n",
       "      <td>13.80936</td>\n",
       "      <td>15.891535</td>\n",
       "      <td>0.0</td>\n",
       "      <td>1012.7</td>\n",
       "      <td>10.0</td>\n",
       "      <td>2013-01-01T03:00:00Z</td>\n",
       "    </tr>\n",
       "    <tr>\n",
       "      <th>4</th>\n",
       "      <td>EWR</td>\n",
       "      <td>2013</td>\n",
       "      <td>1</td>\n",
       "      <td>1</td>\n",
       "      <td>4</td>\n",
       "      <td>37.94</td>\n",
       "      <td>24.08</td>\n",
       "      <td>57.04</td>\n",
       "      <td>240.0</td>\n",
       "      <td>14.96014</td>\n",
       "      <td>17.215830</td>\n",
       "      <td>0.0</td>\n",
       "      <td>1012.8</td>\n",
       "      <td>10.0</td>\n",
       "      <td>2013-01-01T04:00:00Z</td>\n",
       "    </tr>\n",
       "  </tbody>\n",
       "</table>\n",
       "</div>"
      ],
      "text/plain": [
       "  origin  year  month  day  hour   temp   dewp  humid  wind_dir  wind_speed  \\\n",
       "0    EWR  2013      1    1     0  37.04  21.92  53.97     230.0    10.35702   \n",
       "1    EWR  2013      1    1     1  37.04  21.92  53.97     230.0    13.80936   \n",
       "2    EWR  2013      1    1     2  37.94  21.92  52.09     230.0    12.65858   \n",
       "3    EWR  2013      1    1     3  37.94  23.00  54.51     230.0    13.80936   \n",
       "4    EWR  2013      1    1     4  37.94  24.08  57.04     240.0    14.96014   \n",
       "\n",
       "   wind_gust  precip  pressure  visib             time_hour  \n",
       "0  11.918651     0.0    1013.9   10.0  2013-01-01T00:00:00Z  \n",
       "1  15.891535     0.0    1013.0   10.0  2013-01-01T01:00:00Z  \n",
       "2  14.567241     0.0    1012.6   10.0  2013-01-01T02:00:00Z  \n",
       "3  15.891535     0.0    1012.7   10.0  2013-01-01T03:00:00Z  \n",
       "4  17.215830     0.0    1012.8   10.0  2013-01-01T04:00:00Z  "
      ]
     },
     "execution_count": 10,
     "metadata": {},
     "output_type": "execute_result"
    }
   ],
   "source": [
    "weather_df[0:5]"
   ]
  },
  {
   "cell_type": "markdown",
   "id": "239cc0b3",
   "metadata": {},
   "source": [
    "**(b)** Convert all temperature attributes to degree Celsius. We will be using this in what follows."
   ]
  },
  {
   "cell_type": "code",
   "execution_count": 11,
   "id": "7feb788f-fac6-477e-8860-1416f3868175",
   "metadata": {},
   "outputs": [],
   "source": [
    "weather_df['temp'] = weather_df.apply(lambda x: (x['temp']-32)* 5/9 ,axis=1)\n",
    "weather_df['dewp'] = weather_df.apply(lambda x: (x['dewp']-32)* 5/9 ,axis=1)"
   ]
  },
  {
   "cell_type": "markdown",
   "id": "7968e374",
   "metadata": {},
   "source": [
    "**(c)** Using OLS, investigate if flight distance is associated with arrival delay. You should be cautious regarding negative delays."
   ]
  },
  {
   "cell_type": "code",
   "execution_count": 52,
   "id": "8dff5092-491d-4a6b-92ec-bcc17a0f74c6",
   "metadata": {},
   "outputs": [
    {
     "data": {
      "text/plain": [
       "[]"
      ]
     },
     "execution_count": 52,
     "metadata": {},
     "output_type": "execute_result"
    },
    {
     "data": {
      "image/png": "[encoded data removed]",
      "text/plain": [
       "<Figure size 640x480 with 1 Axes>"
      ]
     },
     "metadata": {},
     "output_type": "display_data"
    }
   ],
   "source": [
    "data = flights_df.loc[:,[\"arr_delay\",\"distance\"]].dropna()\n",
    "# data = data.fillna(0)\n",
    "X = data[\"distance\"]\n",
    "y = data[\"arr_delay\"]\n",
    "y[y<0] = 0\n",
    "# y = y.fillna(0)\n",
    "plt.scatter(X,y)\n",
    "plt.xlabel(\"DISTANCE\")\n",
    "plt.ylabel(\"ARR_DELAY\")\n",
    "plt.plot()"
   ]
  },
  {
   "cell_type": "code",
   "execution_count": 53,
   "id": "3717a8cb-e458-4b89-bb30-0a972438b623",
   "metadata": {},
   "outputs": [],
   "source": [
    "X = np.array(X).reshape(-1,1)\n",
    "y = np.array(y).reshape(-1,1)"
   ]
  },
  {
   "cell_type": "code",
   "execution_count": 54,
   "id": "380c1e21-d96b-435e-bc6b-7812520c09ec",
   "metadata": {},
   "outputs": [],
   "source": [
    "X_train, X_test , y_train, y_test = train_test_split(X, y, test_size=0.2, random_state=69)"
   ]
  },
  {
   "cell_type": "code",
   "execution_count": 55,
   "id": "fdc78175-ac4c-4d45-b7d3-47bc9e51e120",
   "metadata": {},
   "outputs": [
    {
     "data": {
      "text/plain": [
       "LinearRegression()"
      ]
     },
     "execution_count": 55,
     "metadata": {},
     "output_type": "execute_result"
    }
   ],
   "source": [
    "\n",
    "ODS = LinearRegression()\n",
    "\n",
    "ODS.fit(X_train, y_train)"
   ]
  },
  {
   "cell_type": "code",
   "execution_count": 56,
   "id": "210d66c4-6ba1-4e30-93b7-6074ad9aedd5",
   "metadata": {},
   "outputs": [
    {
     "name": "stdout",
     "output_type": "stream",
     "text": [
      "R^2 on train data is 4.148259988234759e-05 and on test data is 9.545092960616675e-05\n"
     ]
    },
    {
     "data": {
      "image/png": "[encoded data removed]",
      "text/plain": [
       "<Figure size 640x480 with 1 Axes>"
      ]
     },
     "metadata": {},
     "output_type": "display_data"
    }
   ],
   "source": [
    "print(\"R^2 on train data is {} and on test data is {}\".format(ODS.score(X_train, y_train), \n",
    "                                                              ODS.score(X_test,y_test)))\n",
    "plt.scatter(X,y)\n",
    "y_predict = ODS.predict(X_test)\n",
    "plt.xlabel(\"DISTANCE\")\n",
    "plt.ylabel(\"ARR_DELAY\")\n",
    "plt.plot(X_test,y_predict,color='red')\n",
    "plt.show()\n",
    "# #SINCE R2 is quite low, we can say that departure distance does not predict arrival delay\n",
    "# When replacing negative values, a lower prediction is made"
   ]
  },
  {
   "cell_type": "markdown",
   "id": "c30e7bda",
   "metadata": {},
   "source": [
    "**(d)** Using OLS, investigate if departure delay is associated with arrival delay. Again,\n",
    "   consider what to do with negative delays."
   ]
  },
  {
   "cell_type": "code",
   "execution_count": 57,
   "id": "cefd7f54-b433-4ab4-89d8-067e6e114f8f",
   "metadata": {},
   "outputs": [
    {
     "data": {
      "text/plain": [
       "[]"
      ]
     },
     "execution_count": 57,
     "metadata": {},
     "output_type": "execute_result"
    },
    {
     "data": {
      "image/png": "[encoded data removed]",
      "text/plain": [
       "<Figure size 640x480 with 1 Axes>"
      ]
     },
     "metadata": {},
     "output_type": "display_data"
    }
   ],
   "source": [
    "data = flights_df.loc[:,[\"dep_delay\",\"arr_delay\"]].dropna()\n",
    "\n",
    "#NA is most frequent and thus mode is not a solution\n",
    "\n",
    "X = data[\"arr_delay\"]\n",
    "y = data[\"dep_delay\"]\n",
    "X[X<0] = 0\n",
    "y[y<0] = 0\n",
    "\n",
    "plt.scatter(X,y)\n",
    "plt.xlabel(\"arr_delay\")\n",
    "plt.ylabel(\"dep_delay\")\n",
    "plt.plot()"
   ]
  },
  {
   "cell_type": "code",
   "execution_count": 58,
   "id": "3a9bcb08-0770-4f89-b67e-98031ed87ee3",
   "metadata": {},
   "outputs": [],
   "source": [
    "X = np.array(X).reshape(-1,1)\n",
    "y = np.array(y).reshape(-1,1)\n",
    "X_train, X_test , y_train, y_test = train_test_split(X, y, test_size=0.2, random_state=69)\n"
   ]
  },
  {
   "cell_type": "code",
   "execution_count": 59,
   "id": "30556f15-b963-4e87-b671-b24b443c3757",
   "metadata": {},
   "outputs": [
    {
     "name": "stdout",
     "output_type": "stream",
     "text": [
      "R^2 on train data is 0.8668469275898878 and on test data is 0.8694998794928759\n"
     ]
    },
    {
     "data": {
      "image/png": "[encoded data removed]",
      "text/plain": [
       "<Figure size 640x480 with 1 Axes>"
      ]
     },
     "metadata": {},
     "output_type": "display_data"
    }
   ],
   "source": [
    "ODS = LinearRegression()\n",
    "\n",
    "ODS.fit(X_train, y_train)\n",
    "print(\"R^2 on train data is {} and on test data is {}\".format(ODS.score(X_train, y_train), \n",
    "                                                              ODS.score(X_test,y_test)))\n",
    "\n",
    "plt.scatter(X,y)\n",
    "y_predict = ODS.predict(X_test)\n",
    "plt.xlabel(\"Dep_delay\")\n",
    "plt.ylabel(\"ARR_DELAY\")\n",
    "plt.plot(X_test,y_predict,color='red')\n",
    "plt.show()\n",
    "\n",
    "#Difference between replacing with mean and drop are not that big, 1 percent."
   ]
  },
  {
   "cell_type": "markdown",
   "id": "0b09f482",
   "metadata": {},
   "source": [
    "**(e)** Investigate whether departure delay is associated with weather conditions\n",
    "   at the origin airport. This includes descriptives, plotting, regression modelling,\n",
    "   considering missing values etc. For regression, do OLS, Ridge, Lasso, and Elastic Net.\n",
    "   The analysis should also include seasonality trends as a \"weather condition\". You could,\n",
    "   for instance, plot the daily departure delay with the date (or monthly). What are the\n",
    "   three most important weather conditions when trying to predict departure delays?"
   ]
  },
  {
   "cell_type": "code",
   "execution_count": null,
   "id": "dff3b5d4-3615-4163-8496-8f791eb789ad",
   "metadata": {},
   "outputs": [],
   "source": []
  },
  {
   "cell_type": "markdown",
   "id": "00af31a3",
   "metadata": {},
   "source": [
    "**(f)** Is the age of the plane associated with delay? Do OLS, Ridge, Lasso, and Elastic Net."
   ]
  },
  {
   "cell_type": "code",
   "execution_count": 60,
   "id": "216b9292-aff9-4d72-abbc-2ba3b2b3dc2d",
   "metadata": {},
   "outputs": [
    {
     "data": {
      "text/plain": [
       "array([ 2.,  4.,  2., ...,  0.,  0., 80.])"
      ]
     },
     "execution_count": 60,
     "metadata": {},
     "output_type": "execute_result"
    }
   ],
   "source": [
    "data = flights_df.merge(planes_df, on='tailnum', how='left')\n",
    "data = data.loc[:,[\"year_y\",\"dep_delay\",\"arr_delay\"]]\n",
    "y = data.loc[:,[\"year_y\"]].values\n",
    "X = data.loc[:,[\"arr_delay\",\"dep_delay\"]].values\n",
    "X[X[:,0]<0] = 0\n",
    "X[X[:,0]<0] = 0\n",
    "y_mode = data.loc[:,['year_y']].mode()['year_y'][0]\n",
    "np.nan_to_num(y,copy=False,nan=y_mode)\n",
    "\n",
    "X_mode_arr = data.loc[:,['arr_delay']].mean()\n",
    "np.nan_to_num(X[:,0],copy=False,nan=X_mode_arr)\n",
    "X_mode_dep = data.loc[:,['dep_delay']].mean()\n",
    "np.nan_to_num(X[:,1],copy=False,nan=X_mode_dep)"
   ]
  },
  {
   "cell_type": "code",
   "execution_count": 61,
   "id": "50a9ceda-325a-45be-bebe-b1a2625eaf2f",
   "metadata": {},
   "outputs": [
    {
     "data": {
      "image/png": "[encoded data removed]",
      "text/plain": [
       "<Figure size 640x480 with 1 Axes>"
      ]
     },
     "metadata": {},
     "output_type": "display_data"
    }
   ],
   "source": [
    "fig = plt.figure()\n",
    "ax = plt.axes(projection='3d')\n",
    "ax.scatter3D(X[:,0], X[:,1],y);"
   ]
  },
  {
   "cell_type": "code",
   "execution_count": 62,
   "id": "edeb54e8-2f3b-4ab7-bb18-8359215a0271",
   "metadata": {},
   "outputs": [
    {
     "name": "stdout",
     "output_type": "stream",
     "text": [
      "R^2 on train data is 0.0008752974925068102 and on test data is 0.000717181382787424\n"
     ]
    }
   ],
   "source": [
    "X_train, X_test , y_train, y_test = train_test_split(X, y, test_size=0.2, random_state=69)\n",
    "ODS = LinearRegression()\n",
    "ODS.fit(X_train, y_train)\n",
    "print(\"R^2 on train data is {} and on test data is {}\".format(ODS.score(X_train, y_train), \n",
    "                                                              ODS.score(X_test,y_test)))\n",
    "\n",
    "#By doing OLS we can conclude that Plane Year manufacture is not associated with departure delay"
   ]
  },
  {
   "cell_type": "markdown",
   "id": "15b6e1c5-a277-4645-a087-847b876b6126",
   "metadata": {},
   "source": [
    "#### Ridge Regression"
   ]
  },
  {
   "cell_type": "code",
   "execution_count": 63,
   "id": "3d8da2ca-2d3b-433f-a068-58c10ce0f7c0",
   "metadata": {},
   "outputs": [],
   "source": [
    "\n",
    "alphas = 10**np.linspace(-10, 10, 100)\n",
    "ridge = Ridge(normalize = True)\n",
    "coefs = []\n",
    "y = y.flatten()\n",
    "for a in alphas:\n",
    "    ridge.set_params(alpha = a)\n",
    "    ridge.fit(X, y)\n",
    "    coefs.append(ridge.coef_)\n",
    "    \n",
    "np.shape(coefs)\n",
    "arrDelay_coefficients = [coef[0] for coef in coefs]\n",
    "depDelay_coefficients = [coef[1] for coef in coefs]"
   ]
  },
  {
   "cell_type": "code",
   "execution_count": 64,
   "id": "59ea11c7-3c67-4c25-802c-4c4d58cc6a8e",
   "metadata": {},
   "outputs": [
    {
     "data": {
      "text/plain": [
       "Text(0, 0.5, 'weights')"
      ]
     },
     "execution_count": 64,
     "metadata": {},
     "output_type": "execute_result"
    },
    {
     "data": {
      "image/png": "[encoded data removed]",
      "text/plain": [
       "<Figure size 640x480 with 1 Axes>"
      ]
     },
     "metadata": {},
     "output_type": "display_data"
    }
   ],
   "source": [
    "ax = plt.gca()\n",
    "ax.plot(alphas, coefs)\n",
    "ax.plot(alphas, arrDelay_coefficients, label=\"arrival Delay coefficient\")\n",
    "ax.plot(alphas, depDelay_coefficients, label=\"departure Delay coefficient\")\n",
    "ax.set_xscale('log')\n",
    "plt.legend()\n",
    "plt.axis('tight')\n",
    "plt.xlabel('alpha')\n",
    "plt.ylabel('weights')"
   ]
  },
  {
   "cell_type": "code",
   "execution_count": 65,
   "id": "574ffa27-81ad-4095-bc65-f9dccca6f14e",
   "metadata": {},
   "outputs": [
    {
     "name": "stdout",
     "output_type": "stream",
     "text": [
      "alhpa = 1e-10\n",
      "R^2 on train data is 0.0006758813133508346 and on test data is 0.000999752720716951\n",
      "alhpa = 1.592282793341094e-10\n",
      "R^2 on train data is 0.0006758813133508346 and on test data is 0.0009997527206978551\n",
      "alhpa = 2.5353644939701164e-10\n",
      "R^2 on train data is 0.0006758813133508346 and on test data is 0.000999752720667768\n",
      "alhpa = 4.03701725859655e-10\n",
      "R^2 on train data is 0.0006758813133509456 and on test data is 0.0009997527206195844\n",
      "alhpa = 6.428073117284319e-10\n",
      "R^2 on train data is 0.0006758813133509456 and on test data is 0.000999752720542868\n",
      "alhpa = 1.0235310218990269e-09\n",
      "R^2 on train data is 0.0006758813133509456 and on test data is 0.0009997527204208545\n",
      "alhpa = 1.6297508346206469e-09\n",
      "R^2 on train data is 0.0006758813133506125 and on test data is 0.0009997527202262324\n",
      "alhpa = 2.595024211399732e-09\n",
      "R^2 on train data is 0.0006758813133510566 and on test data is 0.0009997527199168132\n",
      "alhpa = 4.132012400115335e-09\n",
      "R^2 on train data is 0.0006758813133508346 and on test data is 0.0009997527194238742\n",
      "alhpa = 6.579332246575682e-09\n",
      "R^2 on train data is 0.0006758813133509456 and on test data is 0.0009997527186390576\n",
      "alhpa = 1.0476157527896662e-08\n",
      "R^2 on train data is 0.0006758813133508346 and on test data is 0.0009997527173895016\n",
      "alhpa = 1.6681005372000592e-08\n",
      "R^2 on train data is 0.0006758813133509456 and on test data is 0.0009997527153998709\n",
      "alhpa = 2.656087782946684e-08\n",
      "R^2 on train data is 0.0006758813133506125 and on test data is 0.0009997527122316274\n",
      "alhpa = 4.229242874389499e-08\n",
      "R^2 on train data is 0.0006758813133509456 and on test data is 0.000999752707186996\n",
      "alhpa = 6.734150657750828e-08\n",
      "R^2 on train data is 0.0006758813133508346 and on test data is 0.0009997526991544214\n",
      "alhpa = 1.0722672220103232e-07\n",
      "R^2 on train data is 0.0006758813133509456 and on test data is 0.0009997526863642081\n",
      "alhpa = 1.7073526474706888e-07\n",
      "R^2 on train data is 0.0006758813133506125 and on test data is 0.000999752665998499\n",
      "alhpa = 2.71858824273294e-07\n",
      "R^2 on train data is 0.0006758813133500574 and on test data is 0.0009997526335703277\n",
      "alhpa = 4.3287612810830616e-07\n",
      "R^2 on train data is 0.0006758813133490582 and on test data is 0.0009997525819357422\n",
      "alhpa = 6.892612104349695e-07\n",
      "R^2 on train data is 0.0006758813133466157 and on test data is 0.000999752499717954\n",
      "alhpa = 1.0974987654930568e-06\n",
      "R^2 on train data is 0.0006758813133398434 and on test data is 0.0009997523688015653\n",
      "alhpa = 1.747528400007683e-06\n",
      "R^2 on train data is 0.00067588131332319 and on test data is 0.0009997521603415382\n",
      "alhpa = 2.782559402207126e-06\n",
      "R^2 on train data is 0.0006758813132801134 and on test data is 0.0009997518284018403\n",
      "alhpa = 4.430621457583877e-06\n",
      "R^2 on train data is 0.0006758813131719776 and on test data is 0.0009997512998292102\n",
      "alhpa = 7.0548023107186455e-06\n",
      "R^2 on train data is 0.0006758813128968644 and on test data is 0.000999750458113402\n",
      "alhpa = 1.1233240329780266e-05\n",
      "R^2 on train data is 0.0006758813121997553 and on test data is 0.0009997491176672035\n",
      "alhpa = 1.7886495290574353e-05\n",
      "R^2 on train data is 0.0006758813104328354 and on test data is 0.0009997469827958128\n",
      "alhpa = 2.848035868435799e-05\n",
      "R^2 on train data is 0.0006758813059543067 and on test data is 0.000999743582205892\n",
      "alhpa = 4.534878508128582e-05\n",
      "R^2 on train data is 0.0006758812946064952 and on test data is 0.000999738164288999\n",
      "alhpa = 7.220809018385456e-05\n",
      "R^2 on train data is 0.0006758812658617108 and on test data is 0.000999729529290505\n",
      "alhpa = 0.00011497569953977356\n",
      "R^2 on train data is 0.0006758811930877018 and on test data is 0.0009997157593433226\n",
      "alhpa = 0.0001830738280295366\n",
      "R^2 on train data is 0.0006758810090007339 and on test data is 0.0009996937817241536\n",
      "alhpa = 0.0002915053062825176\n",
      "R^2 on train data is 0.0006758805439713855 and on test data is 0.000999658656291702\n",
      "alhpa = 0.0004641588833612782\n",
      "R^2 on train data is 0.0006758793717602796 and on test data is 0.0009996023985787694\n",
      "alhpa = 0.0007390722033525775\n",
      "R^2 on train data is 0.0006758764269775286 and on test data is 0.0009995120031187632\n",
      "alhpa = 0.0011768119524349992\n",
      "R^2 on train data is 0.0006758690689031566 and on test data is 0.0009993660534368676\n",
      "alhpa = 0.001873817422860383\n",
      "R^2 on train data is 0.0006758508384271389 and on test data is 0.0009991287771771162\n",
      "alhpa = 0.0029836472402833404\n",
      "R^2 on train data is 0.0006758062642233664 and on test data is 0.0009987394448428555\n",
      "alhpa = 0.004750810162102793\n",
      "R^2 on train data is 0.0006756994871859323 and on test data is 0.0009980934926756557\n",
      "alhpa = 0.007564633275546291\n",
      "R^2 on train data is 0.0006754515496627533 and on test data is 0.0009970102306658957\n",
      "alhpa = 0.012045035402587835\n",
      "R^2 on train data is 0.0006749018491840619 and on test data is 0.0009951835561932132\n",
      "alhpa = 0.019179102616724848\n",
      "R^2 on train data is 0.000673761066080969 and on test data is 0.0009921248940728544\n",
      "alhpa = 0.030538555088334123\n",
      "R^2 on train data is 0.0006715961264226467 and on test data is 0.0009871397222322997\n",
      "alhpa = 0.04862601580065353\n",
      "R^2 on train data is 0.0006679212363420728 and on test data is 0.0009794053729206276\n",
      "alhpa = 0.07742636826811278\n",
      "R^2 on train data is 0.0006624045698084835 and on test data is 0.0009681413947144613\n",
      "alhpa = 0.12328467394420634\n",
      "R^2 on train data is 0.0006549718963868578 and on test data is 0.0009526377758966031\n",
      "alhpa = 0.19630406500402683\n",
      "R^2 on train data is 0.0006454485533202714 and on test data is 0.0009318096955681643\n",
      "alhpa = 0.31257158496882353\n",
      "R^2 on train data is 0.0006326826882421255 and on test data is 0.0009033207134860888\n",
      "alhpa = 0.49770235643321137\n",
      "R^2 on train data is 0.0006136095261266572 and on test data is 0.0008628746424158562\n",
      "alhpa = 0.7924828983539186\n",
      "R^2 on train data is 0.0005830735651510821 and on test data is 0.0008045861845146218\n",
      "alhpa = 1.2618568830660184\n",
      "R^2 on train data is 0.0005354397119115006 and on test data is 0.000723349158491704\n",
      "alhpa = 2.009233002565046\n",
      "R^2 on train data is 0.00046831500754640487 and on test data is 0.000619048043612902\n",
      "alhpa = 3.1992671377973845\n",
      "R^2 on train data is 0.0003860760720805212 and on test data is 0.0004996826233680807\n",
      "alhpa = 5.0941380148163855\n",
      "R^2 on train data is 0.0002992139208394251 and on test data is 0.0003793923411750111\n",
      "alhpa = 8.111308307896856\n",
      "R^2 on train data is 0.00021916246567788011 and on test data is 0.0002719502678742991\n",
      "alhpa = 12.915496650148826\n",
      "R^2 on train data is 0.0001532657952464378 and on test data is 0.00018529562261193622\n",
      "alhpa = 20.565123083486515\n",
      "R^2 on train data is 0.00010350594455355022 and on test data is 0.0001207172048557359\n",
      "alhpa = 32.745491628777316\n",
      "R^2 on train data is 6.819136574143236e-05 and on test data is 7.526982359240542e-05\n",
      "alhpa = 52.14008287999674\n",
      "R^2 on train data is 4.4175027568593705e-05 and on test data is 4.452713716784906e-05\n",
      "alhpa = 83.02175681319736\n",
      "R^2 on train data is 2.8299983744872748e-05 and on test data is 2.4274446383532045e-05\n",
      "alhpa = 132.19411484660287\n",
      "R^2 on train data is 1.799928847157073e-05 and on test data is 1.116124544597863e-05\n",
      "alhpa = 210.49041445120218\n",
      "R^2 on train data is 1.1394903611905427e-05 and on test data is 2.7648754912235063e-06\n",
      "alhpa = 335.1602650938834\n",
      "R^2 on train data is 7.192574703496213e-06 and on test data is -2.573172077413588e-06\n",
      "alhpa = 533.6699231206302\n",
      "R^2 on train data is 4.5315469213713655e-06 and on test data is -5.951572999762789e-06\n",
      "alhpa = 849.7534359086438\n",
      "R^2 on train data is 2.8516496630714983e-06 and on test data is -8.083633670441515e-06\n",
      "alhpa = 1353.0477745798075\n",
      "R^2 on train data is 1.7931762664735729e-06 and on test data is -9.426725528838276e-06\n",
      "alhpa = 2154.4346900318865\n",
      "R^2 on train data is 1.1270588595735376e-06 and on test data is -1.0271847403764411e-05\n",
      "alhpa = 3430.469286314912\n",
      "R^2 on train data is 7.081780003526106e-07 and on test data is -1.0803249348656507e-05\n",
      "alhpa = 5462.277217684337\n",
      "R^2 on train data is 4.44895434936754e-07 and on test data is -1.1137238341563105e-05\n",
      "alhpa = 8697.490026177835\n",
      "R^2 on train data is 2.794621528634522e-07 and on test data is -1.1347093071156777e-05\n",
      "alhpa = 13848.863713938747\n",
      "R^2 on train data is 1.7553201847597677e-07 and on test data is -1.147892738462275e-05\n",
      "alhpa = 22051.30739903041\n",
      "R^2 on train data is 1.1024776103152334e-07 and on test data is -1.156173873195776e-05\n",
      "alhpa = 35111.917342151275\n",
      "R^2 on train data is 6.924217432757729e-08 and on test data is -1.1613752808781186e-05\n",
      "alhpa = 55908.10182512223\n",
      "R^2 on train data is 4.3487431988786796e-08 and on test data is -1.1646421585354005e-05\n",
      "alhpa = 89021.50854450393\n",
      "R^2 on train data is 2.7311898742610197e-08 and on test data is -1.1666939484733518e-05\n",
      "alhpa = 141747.4162926802\n",
      "R^2 on train data is 1.7152875231296605e-08 and on test data is -1.1679825699495439e-05\n",
      "alhpa = 225701.9719633917\n",
      "R^2 on train data is 1.0772587044627357e-08 and on test data is -1.1687918767044891e-05\n",
      "alhpa = 359381.36638046254\n",
      "R^2 on train data is 6.765530691232868e-09 and on test data is -1.1693001507717682e-05\n",
      "alhpa = 572236.765935022\n",
      "R^2 on train data is 4.248963292319274e-09 and on test data is -1.1696193640275965e-05\n",
      "alhpa = 911162.7561154868\n",
      "R^2 on train data is 2.6684778831054246e-09 and on test data is -1.169819840129982e-05\n",
      "alhpa = 1450828.7784959432\n",
      "R^2 on train data is 1.6758839871400255e-09 and on test data is -1.1699457453495654e-05\n",
      "alhpa = 2310129.700083158\n",
      "R^2 on train data is 1.0525048610432464e-09 and on test data is -1.1700248176538253e-05\n",
      "alhpa = 3678379.7718286193\n",
      "R^2 on train data is 6.610041403121159e-10 and on test data is -1.1700744774190142e-05\n",
      "alhpa = 5857020.818056673\n",
      "R^2 on train data is 4.1513004145343757e-10 and on test data is -1.1701056652047015e-05\n",
      "alhpa = 9326033.46883218\n",
      "R^2 on train data is 2.6071389491733044e-10 and on test data is -1.1701252520257555e-05\n",
      "alhpa = 14849682.622544697\n",
      "R^2 on train data is 1.6373580269402055e-10 and on test data is -1.1701375531636415e-05\n",
      "alhpa = 23644894.12645407\n",
      "R^2 on train data is 1.0283107698683125e-10 and on test data is -1.1701452786505584e-05\n",
      "alhpa = 37649358.06792456\n",
      "R^2 on train data is 6.458089618632812e-11 and on test data is -1.1701501304361983e-05\n",
      "alhpa = 59948425.03189421\n",
      "R^2 on train data is 4.0558889580211144e-11 and on test data is -1.1701531775099028e-05\n",
      "alhpa = 95454845.66618328\n",
      "R^2 on train data is 2.547195787627743e-11 and on test data is -1.1701550912013303e-05\n",
      "alhpa = 151991108.2952927\n",
      "R^2 on train data is 1.5997536628731268e-11 and on test data is -1.1701562930177545e-05\n",
      "alhpa = 242012826.47943833\n",
      "R^2 on train data is 1.0046741216740429e-11 and on test data is -1.1701570477917755e-05\n",
      "alhpa = 385352859.37105197\n",
      "R^2 on train data is 6.309730515852152e-12 and on test data is -1.1701575218125981e-05\n",
      "alhpa = 613590727.3413188\n",
      "R^2 on train data is 3.962830064097034e-12 and on test data is -1.1701578195300044e-05\n",
      "alhpa = 977009957.2992246\n",
      "R^2 on train data is 2.4887869543022134e-12 and on test data is -1.1701580064915618e-05\n",
      "alhpa = 1555676143.930466\n",
      "R^2 on train data is 1.563305040974683e-12 and on test data is -1.17015812386434e-05\n",
      "alhpa = 2477076355.991714\n",
      "R^2 on train data is 9.816591983735634e-13 and on test data is -1.1701581976497621e-05\n",
      "alhpa = 3944206059.437648\n",
      "R^2 on train data is 6.167288901792745e-13 and on test data is -1.1701582439460623e-05\n",
      "alhpa = 6280291441.834272\n",
      "R^2 on train data is 3.873568132917171e-13 and on test data is -1.1701582730339055e-05\n",
      "alhpa = 10000000000.0\n",
      "R^2 on train data is 2.4347190930029683e-13 and on test data is -1.1701582913081765e-05\n"
     ]
    }
   ],
   "source": [
    "X_train, X_test , y_train, y_test = train_test_split(X, y, test_size=0.5, random_state=1)\n",
    "for alpha in alphas:\n",
    "    ridge = Ridge(normalize=True, alpha=alpha)\n",
    "    ridge.fit(X_train, y_train)\n",
    "    print(\"alhpa = {}\".format(alpha))\n",
    "    print(\"R^2 on train data is {} and on test data is {}\".format(ridge.score(X_train, y_train), \n",
    "                                                              ridge.score(X_test,y_test)))"
   ]
  },
  {
   "cell_type": "code",
   "execution_count": 66,
   "id": "78618a13-ca6d-4ac2-9f72-275662e77380",
   "metadata": {},
   "outputs": [
    {
     "data": {
      "text/plain": [
       "0.030538555088334123"
      ]
     },
     "execution_count": 66,
     "metadata": {},
     "output_type": "execute_result"
    }
   ],
   "source": [
    "ridgecv = RidgeCV(alphas = alphas, normalize = True)\n",
    "ridgecv.fit(X_train, y_train)\n",
    "ridgecv.alpha_"
   ]
  },
  {
   "cell_type": "code",
   "execution_count": 67,
   "id": "7a29bcc8-8e63-4e83-8062-5678ef181caf",
   "metadata": {},
   "outputs": [
    {
     "name": "stdout",
     "output_type": "stream",
     "text": [
      "R^2 on train data is 0.0006715961264223136 and on test data is 0.0009871397222318556\n"
     ]
    }
   ],
   "source": [
    "print(\"R^2 on train data is {} and on test data is {}\".format(ridgecv.score(X_train, y_train), \n",
    "ridgecv.score(X_test,y_test)))     "
   ]
  },
  {
   "cell_type": "code",
   "execution_count": 68,
   "id": "5f7dbc99-dc3e-4b5a-a503-a033d24e1644",
   "metadata": {},
   "outputs": [
    {
     "data": {
      "text/plain": [
       "array([-4.52202087e-03,  1.64855952e-05])"
      ]
     },
     "execution_count": 68,
     "metadata": {},
     "output_type": "execute_result"
    }
   ],
   "source": [
    "ridgecv.coef_"
   ]
  },
  {
   "cell_type": "markdown",
   "id": "df088243-7398-4ca8-bf0b-3b3151e84491",
   "metadata": {},
   "source": [
    "#### Lasso"
   ]
  },
  {
   "cell_type": "code",
   "execution_count": 69,
   "id": "e96e89b1-b291-48a6-a50a-1a4ea7227499",
   "metadata": {},
   "outputs": [
    {
     "name": "stdout",
     "output_type": "stream",
     "text": [
      "(100, 2)\n"
     ]
    }
   ],
   "source": [
    "# #Lasso\n",
    "lasso = Lasso(max_iter = 10000, normalize = True)\n",
    "coefs = []\n",
    "\n",
    "for a in alphas:\n",
    "    lasso.set_params(alpha = a)\n",
    "    lasso.fit(X_train, y_train)\n",
    "    coefs.append(lasso.coef_)\n",
    "    \n",
    "np.shape(coefs)\n",
    "arrDelay_coefficients = [coef[0] for coef in coefs]\n",
    "depDelay_coefficients = [coef[1] for coef in coefs]\n",
    "print(np.shape(coefs))"
   ]
  },
  {
   "cell_type": "code",
   "execution_count": 70,
   "id": "361e7cb8-cc52-40e6-a3a2-cc5e0c5831ac",
   "metadata": {},
   "outputs": [
    {
     "data": {
      "text/plain": [
       "Text(0, 0.5, 'weights')"
      ]
     },
     "execution_count": 70,
     "metadata": {},
     "output_type": "execute_result"
    },
    {
     "data": {
      "image/png": "[encoded data removed]",
      "text/plain": [
       "<Figure size 640x480 with 1 Axes>"
      ]
     },
     "metadata": {},
     "output_type": "display_data"
    }
   ],
   "source": [
    "ax = plt.gca()\n",
    "ax.set_xscale('log')\n",
    "ax.plot(alphas, arrDelay_coefficients, label=\"arrival Delay coefficient\")\n",
    "ax.plot(alphas, depDelay_coefficients, label=\"departure Delay coefficient\")\n",
    "plt.legend()\n",
    "plt.axis('tight')\n",
    "plt.xlabel('alpha')\n",
    "plt.ylabel('weights')"
   ]
  },
  {
   "cell_type": "code",
   "execution_count": 71,
   "id": "f8b4a38f-0f9f-4a41-b677-482095dd1d15",
   "metadata": {},
   "outputs": [
    {
     "data": {
      "text/plain": [
       "Lasso(alpha=1.7886495290574353e-05, max_iter=10000, normalize=True)"
      ]
     },
     "execution_count": 71,
     "metadata": {},
     "output_type": "execute_result"
    }
   ],
   "source": [
    "lassocv = LassoCV(alphas = alphas, cv = 10, max_iter = 100000, normalize = True)\n",
    "lassocv.fit(X_train, y_train)\n",
    "\n",
    "lasso.set_params(alpha=lassocv.alpha_)\n",
    "lasso.fit(X_train, y_train)"
   ]
  },
  {
   "cell_type": "code",
   "execution_count": 72,
   "id": "0cf59699-acc2-4766-9097-6a4d07d8224a",
   "metadata": {},
   "outputs": [
    {
     "name": "stdout",
     "output_type": "stream",
     "text": [
      "R^2 on train data is 0.000671414275206117 and on test data is 0.0009865935049658825\n"
     ]
    }
   ],
   "source": [
    "print(\"R^2 on train data is {} and on test data is {}\".format(lassocv.score(X_train, y_train), \n",
    "                                                              lassocv.score(X_test,y_test)))"
   ]
  },
  {
   "cell_type": "code",
   "execution_count": 73,
   "id": "13551c90-1728-4561-b34f-72411e1443db",
   "metadata": {},
   "outputs": [
    {
     "data": {
      "text/plain": [
       "arr_delay   -0.004501\n",
       "dep_delay   -0.000000\n",
       "dtype: float64"
      ]
     },
     "execution_count": 73,
     "metadata": {},
     "output_type": "execute_result"
    }
   ],
   "source": [
    "pd.Series(lasso.coef_, index=[\"arr_delay\",\"dep_delay\"])"
   ]
  },
  {
   "cell_type": "markdown",
   "id": "55321196-b871-441f-a045-079f9bedba46",
   "metadata": {},
   "source": [
    "#### Elastic Net"
   ]
  },
  {
   "cell_type": "code",
   "execution_count": 74,
   "id": "38a00464-0700-4b40-9de2-337f91e2270d",
   "metadata": {},
   "outputs": [
    {
     "data": {
      "text/plain": [
       "ElasticNet(alpha=1.7886495290574353e-05)"
      ]
     },
     "execution_count": 74,
     "metadata": {},
     "output_type": "execute_result"
    }
   ],
   "source": [
    "#Elastic Net\n",
    "elasticNet = ElasticNet(alpha=1.7886495290574353e-05)\n",
    "elasticNet.fit(X_train, y_train)\n"
   ]
  },
  {
   "cell_type": "code",
   "execution_count": 75,
   "id": "66dbd707-ef18-4b3d-b199-7ce94967c203",
   "metadata": {},
   "outputs": [
    {
     "name": "stdout",
     "output_type": "stream",
     "text": [
      "R^2 on train data is 0.0006758813133056485 and on test data is 0.0009997523584770462\n"
     ]
    }
   ],
   "source": [
    "print(\"R^2 on train data is {} and on test data is {}\".format(elasticNet.score(X_train, y_train), \n",
    "                                                              elasticNet.score(X_test,y_test)))"
   ]
  },
  {
   "cell_type": "markdown",
   "id": "ff976833",
   "metadata": {},
   "source": [
    "**(g)** Do a principal component analysis of the weather at JFK using the following columns:\n",
    "   temp, dewp, humid, wind_dir, wind_speed, precip, visib.\n",
    "   How many principal components should be used to capture the variability in the weather data?"
   ]
  },
  {
   "cell_type": "code",
   "execution_count": 76,
   "id": "f7d8efc6-75ae-46bc-b81a-f6b0f178b495",
   "metadata": {},
   "outputs": [],
   "source": [
    "filter = weather_df['origin'] == 'JFK'\n",
    "weather_df.sort_values(\"origin\", inplace = True)\n",
    "data = weather_df.where(filter).dropna()\n",
    "X = data.loc[:,['temp','dewp','humid','wind_dir','wind_speed','precip','visib']].values"
   ]
  },
  {
   "cell_type": "code",
   "execution_count": 77,
   "id": "b8eb0573-02ff-4f52-a940-9af29c1ecb85",
   "metadata": {},
   "outputs": [
    {
     "data": {
      "text/plain": [
       "array([3.78800411e-01, 2.04980335e-01, 1.62167222e-01, 1.05424117e-01,\n",
       "       8.56196982e-02, 6.26518431e-02, 3.56374562e-04])"
      ]
     },
     "execution_count": 77,
     "metadata": {},
     "output_type": "execute_result"
    }
   ],
   "source": [
    "X_s = preprocessing.StandardScaler().fit_transform(X)\n",
    "pca4 = decomposition.PCA(n_components=None)\n",
    "res4 = pca4.fit_transform(X_s)\n",
    "pca4.explained_variance_ratio_"
   ]
  },
  {
   "cell_type": "code",
   "execution_count": 78,
   "id": "2d0ffc32-727e-4f52-9db5-9295f84638b3",
   "metadata": {},
   "outputs": [
    {
     "data": {
      "image/png": "[encoded data removed]",
      "text/plain": [
       "<Figure size 640x480 with 1 Axes>"
      ]
     },
     "metadata": {},
     "output_type": "display_data"
    }
   ],
   "source": [
    "x = list(range(1, 1 + len(pca4.explained_variance_ratio_)))\n",
    "plt.plot(x, np.cumsum(pca4.explained_variance_ratio_))\n",
    "plt.xlabel('number of components')\n",
    "plt.ylabel('cumulative explained variance')\n",
    "plt.gca().invert_yaxis()\n",
    "plt.show()"
   ]
  },
  {
   "cell_type": "markdown",
   "id": "c0089a18",
   "metadata": {},
   "source": [
    "**(h)** Build regression models (OLS, Ridge, Lasso, and Elastic Net) that associates\n",
    "   an airports lattitude with weather conditions (temp, dewp, humid, wind_dir, wind_speed,\n",
    "   precip, visib). Remove all but the three most significant whether conditions and redo\n",
    "   the analysis."
   ]
  },
  {
   "cell_type": "code",
   "execution_count": 79,
   "id": "401ec3e4-a2ae-4535-9bb3-fb7d4fda269b",
   "metadata": {},
   "outputs": [],
   "source": [
    "data = weather_df.merge(airports_df, left_on='origin',right_on='faa', how='left',)\n",
    "data = data.fillna(data.median())\n",
    "y = data.loc[:,['lat']].values\n",
    "X = data.loc[:,['temp','dewp','humid','wind_dir','wind_speed','precip','visib']].values"
   ]
  },
  {
   "cell_type": "code",
   "execution_count": 80,
   "id": "543222e0-047d-47c1-92f8-3cdf19a7168a",
   "metadata": {},
   "outputs": [
    {
     "name": "stdout",
     "output_type": "stream",
     "text": [
      "R^2 on train data is 0.030389812804820227 and on test data is 0.04148183033431119\n"
     ]
    }
   ],
   "source": [
    "#OLS\n",
    "X_train, X_test , y_train, y_test = train_test_split(X, y, test_size=0.2, random_state=69)\n",
    "ODS = LinearRegression()\n",
    "ODS.fit(X_train, y_train)\n",
    "print(\"R^2 on train data is {} and on test data is {}\".format(ODS.score(X_train, y_train), \n",
    "                                                              ODS.score(X_test,y_test)))"
   ]
  },
  {
   "cell_type": "code",
   "execution_count": 81,
   "id": "105aec83-77db-4c3c-922b-002a0cb66c01",
   "metadata": {},
   "outputs": [
    {
     "name": "stdout",
     "output_type": "stream",
     "text": [
      "(100, 7)\n"
     ]
    }
   ],
   "source": [
    "#RIDGE \n",
    "alphas = 10**np.linspace(-10, 10, 100)\n",
    "ridge = Ridge(normalize = True)\n",
    "coefs = []\n",
    "y = y.flatten()\n",
    "for a in alphas:\n",
    "    ridge.set_params(alpha = a)\n",
    "    ridge.fit(X, y)\n",
    "    coefs.append(ridge.coef_)\n",
    "    \n",
    "np.shape(coefs)\n",
    "temp_coefficients = [coef[0] for coef in coefs]\n",
    "dewp_coefficients = [coef[1] for coef in coefs]\n",
    "humid_coefficients = [coef[2] for coef in coefs]\n",
    "wind_dir_coefficients = [coef[3] for coef in coefs]\n",
    "wind_speed_coefficients = [coef[4] for coef in coefs]\n",
    "precip_coefficients = [coef[5] for coef in coefs]\n",
    "visib_coefficients = [coef[6] for coef in coefs]\n",
    "\n",
    "print(np.shape(coefs))"
   ]
  },
  {
   "cell_type": "code",
   "execution_count": 82,
   "id": "ee44e414-a9c3-409e-9531-23b3d89fca83",
   "metadata": {},
   "outputs": [
    {
     "data": {
      "text/plain": [
       "Text(0, 0.5, 'weights')"
      ]
     },
     "execution_count": 82,
     "metadata": {},
     "output_type": "execute_result"
    },
    {
     "data": {
      "image/png": "[encoded data removed]",
      "text/plain": [
       "<Figure size 640x480 with 1 Axes>"
      ]
     },
     "metadata": {},
     "output_type": "display_data"
    }
   ],
   "source": [
    "ax = plt.gca()\n",
    "ax.plot(alphas, coefs)\n",
    "ax.plot(alphas, temp_coefficients, label=\"Temo coefficient\")\n",
    "ax.plot(alphas, dewp_coefficients, label=\"dewp coefficient\")\n",
    "ax.plot(alphas, humid_coefficients, label=\"Humid coefficient\")\n",
    "ax.plot(alphas, wind_dir_coefficients, label=\"Wind direction coefficient\")\n",
    "ax.plot(alphas, wind_speed_coefficients, label=\"Wind Speed coefficient\")\n",
    "ax.plot(alphas, precip_coefficients, label=\"Precip coefficient\")\n",
    "ax.plot(alphas, visib_coefficients, label=\"Visib coefficient\")\n",
    "\n",
    "ax.set_xscale('log')\n",
    "plt.legend()\n",
    "plt.axis('tight')\n",
    "plt.xlabel('alpha')\n",
    "plt.ylabel('weights')"
   ]
  },
  {
   "cell_type": "code",
   "execution_count": 83,
   "id": "450b5169-3703-42ee-9924-bafeabf560ea",
   "metadata": {},
   "outputs": [
    {
     "name": "stdout",
     "output_type": "stream",
     "text": [
      "alhpa = 1e-10\n",
      "R^2 on train data is 0.03467407485462537 and on test data is 0.015420227969891398\n",
      "alhpa = 1.592282793341094e-10\n",
      "R^2 on train data is 0.03467407485462559 and on test data is 0.015420227937148479\n",
      "alhpa = 2.5353644939701164e-10\n",
      "R^2 on train data is 0.03467407485462415 and on test data is 0.015420227885009852\n",
      "alhpa = 4.03701725859655e-10\n",
      "R^2 on train data is 0.03467407485462526 and on test data is 0.015420227801992259\n",
      "alhpa = 6.428073117284319e-10\n",
      "R^2 on train data is 0.034674074854623815 and on test data is 0.015420227669803221\n",
      "alhpa = 1.0235310218990269e-09\n",
      "R^2 on train data is 0.03467407485462404 and on test data is 0.015420227459322033\n",
      "alhpa = 1.6297508346206469e-09\n",
      "R^2 on train data is 0.03467407485462182 and on test data is 0.015420227124176122\n",
      "alhpa = 2.595024211399732e-09\n",
      "R^2 on train data is 0.03467407485461993 and on test data is 0.015420226590527886\n",
      "alhpa = 4.132012400115335e-09\n",
      "R^2 on train data is 0.03467407485461038 and on test data is 0.015420225740806592\n",
      "alhpa = 6.579332246575682e-09\n",
      "R^2 on train data is 0.03467407485458773 and on test data is 0.015420224387803438\n",
      "alhpa = 1.0476157527896662e-08\n",
      "R^2 on train data is 0.034674074854531334 and on test data is 0.015420222233427983\n",
      "alhpa = 1.6681005372000592e-08\n",
      "R^2 on train data is 0.034674074854386894 and on test data is 0.015420218803011365\n",
      "alhpa = 2.656087782946684e-08\n",
      "R^2 on train data is 0.034674074854023296 and on test data is 0.015420213340721522\n",
      "alhpa = 4.229242874389499e-08\n",
      "R^2 on train data is 0.03467407485309626 and on test data is 0.015420204642964674\n",
      "alhpa = 6.734150657750828e-08\n",
      "R^2 on train data is 0.03467407485075069 and on test data is 0.015420190793056454\n",
      "alhpa = 1.0722672220103232e-07\n",
      "R^2 on train data is 0.03467407484480434 and on test data is 0.015420168738503715\n",
      "alhpa = 1.7073526474706888e-07\n",
      "R^2 on train data is 0.03467407482972551 and on test data is 0.0154201336174149\n",
      "alhpa = 2.71858824273294e-07\n",
      "R^2 on train data is 0.03467407479150053 and on test data is 0.01542007768456033\n",
      "alhpa = 4.3287612810830616e-07\n",
      "R^2 on train data is 0.03467407469460193 and on test data is 0.015419988597907275\n",
      "alhpa = 6.892612104349695e-07\n",
      "R^2 on train data is 0.034674074448981296 and on test data is 0.015419846681561045\n",
      "alhpa = 1.0974987654930568e-06\n",
      "R^2 on train data is 0.03467407382646548 and on test data is 0.015419620545406576\n",
      "alhpa = 1.747528400007683e-06\n",
      "R^2 on train data is 0.03467407224906194 and on test data is 0.015419260054317374\n",
      "alhpa = 2.782559402207126e-06\n",
      "R^2 on train data is 0.03467406825338659 and on test data is 0.015418684991657217\n",
      "alhpa = 4.430621457583877e-06\n",
      "R^2 on train data is 0.03467405813749347 and on test data is 0.015417766652022324\n",
      "alhpa = 7.0548023107186455e-06\n",
      "R^2 on train data is 0.03467403254880608 and on test data is 0.01541629763774699\n",
      "alhpa = 1.1233240329780266e-05\n",
      "R^2 on train data is 0.034673967908533054 and on test data is 0.015413941538171216\n",
      "alhpa = 1.7886495290574353e-05\n",
      "R^2 on train data is 0.03467380497003636 and on test data is 0.015410147307589717\n",
      "alhpa = 2.848035868435799e-05\n",
      "R^2 on train data is 0.034673395650537175 and on test data is 0.015403999594572948\n",
      "alhpa = 4.534878508128582e-05\n",
      "R^2 on train data is 0.034672372927724404 and on test data is 0.015393948958479231\n",
      "alhpa = 7.220809018385456e-05\n",
      "R^2 on train data is 0.034669839182707274 and on test data is 0.01537731149381516\n",
      "alhpa = 0.00011497569953977356\n",
      "R^2 on train data is 0.034663644887800715 and on test data is 0.015349325782283096\n",
      "alhpa = 0.0001830738280295366\n",
      "R^2 on train data is 0.034648810508134176 and on test data is 0.015301396898853792\n",
      "alhpa = 0.0002915053062825176\n",
      "R^2 on train data is 0.03461438485270851 and on test data is 0.015218030219323775\n",
      "alhpa = 0.0004641588833612782\n",
      "R^2 on train data is 0.03453815845511865 and on test data is 0.015072301157836532\n",
      "alhpa = 0.0007390722033525775\n",
      "R^2 on train data is 0.034380432077488976 and on test data is 0.01482167708719706\n",
      "alhpa = 0.0011768119524349992\n",
      "R^2 on train data is 0.03408313094419857 and on test data is 0.014410839881623505\n",
      "alhpa = 0.001873817422860383\n",
      "R^2 on train data is 0.03358638092975352 and on test data is 0.013792706646093555\n",
      "alhpa = 0.0029836472402833404\n",
      "R^2 on train data is 0.03286762104488883 and on test data is 0.012969998240167091\n",
      "alhpa = 0.004750810162102793\n",
      "R^2 on train data is 0.031978312966917666 and on test data is 0.012030075392027162\n",
      "alhpa = 0.007564633275546291\n",
      "R^2 on train data is 0.031034718532271688 and on test data is 0.01113144328996285\n",
      "alhpa = 0.012045035402587835\n",
      "R^2 on train data is 0.030159757025563616 and on test data is 0.010444409110082264\n",
      "alhpa = 0.019179102616724848\n",
      "R^2 on train data is 0.02942634207882866 and on test data is 0.010099030191762282\n",
      "alhpa = 0.030538555088334123\n",
      "R^2 on train data is 0.02883927669811892 and on test data is 0.01017403197944089\n",
      "alhpa = 0.04862601580065353\n",
      "R^2 on train data is 0.028343834400743395 and on test data is 0.010707239834968463\n",
      "alhpa = 0.07742636826811278\n",
      "R^2 on train data is 0.027832604394231186 and on test data is 0.011689089108601225\n",
      "alhpa = 0.12328467394420634\n",
      "R^2 on train data is 0.027140314908393304 and on test data is 0.013018419864133768\n",
      "alhpa = 0.19630406500402683\n",
      "R^2 on train data is 0.02604490708430096 and on test data is 0.014438349449416243\n",
      "alhpa = 0.31257158496882353\n",
      "R^2 on train data is 0.024314372844657872 and on test data is 0.015522477723920014\n",
      "alhpa = 0.49770235643321137\n",
      "R^2 on train data is 0.02181897509511621 and on test data is 0.015796848774113248\n",
      "alhpa = 0.7924828983539186\n",
      "R^2 on train data is 0.018647712464721078 and on test data is 0.014978395801183653\n",
      "alhpa = 1.2618568830660184\n",
      "R^2 on train data is 0.015115125282696873 and on test data is 0.013151230320932461\n",
      "alhpa = 2.009233002565046\n",
      "R^2 on train data is 0.01163102791237336 and on test data is 0.010717785110630929\n",
      "alhpa = 3.1992671377973845\n",
      "R^2 on train data is 0.008536868389131258 and on test data is 0.008174250776890157\n",
      "alhpa = 5.0941380148163855\n",
      "R^2 on train data is 0.006017286827764146 and on test data is 0.005899296804862009\n",
      "alhpa = 8.111308307896856\n",
      "R^2 on train data is 0.0041041100785155216 and on test data is 0.0040750564700413605\n",
      "alhpa = 12.915496650148826\n",
      "R^2 on train data is 0.002729048867898709 and on test data is 0.0027218000822032407\n",
      "alhpa = 20.565123083486515\n",
      "R^2 on train data is 0.0017811599002942602 and on test data is 0.0017716494038250152\n",
      "alhpa = 32.745491628777316\n",
      "R^2 on train data is 0.0011473522958256321 and on test data is 0.0011294491342979107\n",
      "alhpa = 52.14008287999674\n",
      "R^2 on train data is 0.0007325219030410723 and on test data is 0.00070642503478624\n",
      "alhpa = 83.02175681319736\n",
      "R^2 on train data is 0.0004649249963311064 and on test data is 0.00043248650416116696\n",
      "alhpa = 132.19411484660287\n",
      "R^2 on train data is 0.00029395452045222203 and on test data is 0.0002570511344813786\n",
      "alhpa = 210.49041445120218\n",
      "R^2 on train data is 0.0001853993561450329 and on test data is 0.00014549912084438343\n",
      "alhpa = 335.1602650938834\n",
      "R^2 on train data is 0.00011674955534657361 and on test data is 7.489054428788666e-05\n",
      "alhpa = 533.6699231206302\n",
      "R^2 on train data is 7.344642286333247e-05 and on test data is 3.0326847798356482e-05\n",
      "alhpa = 849.7534359086438\n",
      "R^2 on train data is 4.617569660192444e-05 and on test data is 2.252423240589607e-06\n",
      "alhpa = 1353.0477745798075\n",
      "R^2 on train data is 2.9019133586327683e-05 and on test data is -1.5413639113948108e-05\n",
      "alhpa = 2154.4346900318865\n",
      "R^2 on train data is 1.8232544163665487e-05 and on test data is -2.652208616682472e-05\n",
      "alhpa = 3430.469286314912\n",
      "R^2 on train data is 1.1453601962752025e-05 and on test data is -3.3503905329634875e-05\n",
      "alhpa = 5462.277217684337\n",
      "R^2 on train data is 7.194392732334798e-06 and on test data is -3.7890819611252624e-05\n",
      "alhpa = 8697.490026177835\n",
      "R^2 on train data is 4.518760555849433e-06 and on test data is -4.064676964743441e-05\n",
      "alhpa = 13848.863713938747\n",
      "R^2 on train data is 2.8380996294208316e-06 and on test data is -4.237791804251323e-05\n",
      "alhpa = 22051.30739903041\n",
      "R^2 on train data is 1.7824827728274428e-06 and on test data is -4.346526045262422e-05\n",
      "alhpa = 35111.917342151275\n",
      "R^2 on train data is 1.1194801209368777e-06 and on test data is -4.414819476239451e-05\n",
      "alhpa = 55908.10182512223\n",
      "R^2 on train data is 7.030775763805508e-07 and on test data is -4.457711775884832e-05\n",
      "alhpa = 89021.50854450393\n",
      "R^2 on train data is 4.4155771983245273e-07 and on test data is -4.484650192648765e-05\n",
      "alhpa = 141747.4162926802\n",
      "R^2 on train data is 2.773128952027193e-07 and on test data is -4.501568620196572e-05\n",
      "alhpa = 225701.9719633917\n",
      "R^2 on train data is 1.741612811745341e-07 and on test data is -4.5121940108305836e-05\n",
      "alhpa = 359381.36638046254\n",
      "R^2 on train data is 1.0937863736959486e-07 and on test data is -4.5188671149221094e-05\n",
      "alhpa = 572236.765935022\n",
      "R^2 on train data is 6.86930813342812e-08 and on test data is -4.523058037952943e-05\n",
      "alhpa = 911162.7561154868\n",
      "R^2 on train data is 4.314130130911309e-08 and on test data is -4.525690067702648e-05\n",
      "alhpa = 1450828.7784959432\n",
      "R^2 on train data is 2.7094010590644757e-08 and on test data is -4.527343062110667e-05\n",
      "alhpa = 2310129.700083158\n",
      "R^2 on train data is 1.7015835962475023e-08 and on test data is -4.528381191781783e-05\n",
      "alhpa = 3678379.7718286193\n",
      "R^2 on train data is 1.0686444062990574e-08 and on test data is -4.5290331680991613e-05\n",
      "alhpa = 5857020.818056673\n",
      "R^2 on train data is 6.711398992109707e-09 and on test data is -4.529442628364855e-05\n",
      "alhpa = 9326033.46883218\n",
      "R^2 on train data is 4.214954607562049e-09 and on test data is -4.529699781441465e-05\n",
      "alhpa = 14849682.622544697\n",
      "R^2 on train data is 2.6471135283756553e-09 and on test data is -4.529861280944125e-05\n",
      "alhpa = 23644894.12645407\n",
      "R^2 on train data is 1.6624646104190788e-09 and on test data is -4.5299627076111904e-05\n",
      "alhpa = 37649358.06792456\n",
      "R^2 on train data is 1.0440769360187119e-09 and on test data is -4.5300264064795925e-05\n",
      "alhpa = 59948425.03189421\n",
      "R^2 on train data is 6.557111520422154e-10 and on test data is -4.5300664110348166e-05\n",
      "alhpa = 95454845.66618328\n",
      "R^2 on train data is 4.1180581167310493e-10 and on test data is -4.530091535048797e-05\n",
      "alhpa = 151991108.2952927\n",
      "R^2 on train data is 2.58625676430313e-10 and on test data is -4.530107313827081e-05\n",
      "alhpa = 242012826.47943833\n",
      "R^2 on train data is 1.6242607259187025e-10 and on test data is -4.530117223322527e-05\n",
      "alhpa = 385352859.37105197\n",
      "R^2 on train data is 1.0200618127953476e-10 and on test data is -4.530123446588874e-05\n",
      "alhpa = 613590727.3413188\n",
      "R^2 on train data is 6.406331021224787e-11 and on test data is -4.530127355351077e-05\n",
      "alhpa = 977009957.2992246\n",
      "R^2 on train data is 4.023448241241567e-11 and on test data is -4.53012981003198e-05\n",
      "alhpa = 1555676143.930466\n",
      "R^2 on train data is 2.5267787862048863e-11 and on test data is -4.530131351554445e-05\n",
      "alhpa = 2477076355.991714\n",
      "R^2 on train data is 1.5869305869387063e-11 and on test data is -4.5301323196689225e-05\n",
      "alhpa = 3944206059.437648\n",
      "R^2 on train data is 9.964806757523093e-12 and on test data is -4.530132927693664e-05\n",
      "alhpa = 6280291441.834272\n",
      "R^2 on train data is 6.259104345929245e-12 and on test data is -4.5301333094549534e-05\n",
      "alhpa = 10000000000.0\n",
      "R^2 on train data is 3.931077685592754e-12 and on test data is -4.530133549418558e-05\n"
     ]
    }
   ],
   "source": [
    "X_train, X_test , y_train, y_test = train_test_split(X, y, test_size=0.5, random_state=1)\n",
    "for alpha in alphas:\n",
    "    ridge = Ridge(normalize=True, alpha=alpha)\n",
    "    ridge.fit(X_train, y_train)\n",
    "    print(\"alhpa = {}\".format(alpha))\n",
    "    print(\"R^2 on train data is {} and on test data is {}\".format(ridge.score(X_train, y_train), \n",
    "                                                              ridge.score(X_test,y_test)))"
   ]
  },
  {
   "cell_type": "code",
   "execution_count": 84,
   "id": "4525d371-ecc0-4177-a06d-271323d10205",
   "metadata": {},
   "outputs": [
    {
     "data": {
      "text/plain": [
       "4.534878508128582e-05"
      ]
     },
     "execution_count": 84,
     "metadata": {},
     "output_type": "execute_result"
    }
   ],
   "source": [
    "ridgecv = RidgeCV(alphas = alphas, normalize = True)\n",
    "ridgecv.fit(X_train, y_train)\n",
    "#Best alpha\n",
    "ridgecv.alpha_"
   ]
  },
  {
   "cell_type": "code",
   "execution_count": 85,
   "id": "4e708111-7016-4f9b-9b47-e4f9501e8b9f",
   "metadata": {},
   "outputs": [
    {
     "data": {
      "text/plain": [
       "array([-5.03274060e-03,  5.58478891e-03, -2.04135303e-03, -1.17553711e-05,\n",
       "       -9.08061569e-04,  5.21508958e-02, -3.08871978e-03])"
      ]
     },
     "execution_count": 85,
     "metadata": {},
     "output_type": "execute_result"
    }
   ],
   "source": [
    "ridgecv.coef_"
   ]
  },
  {
   "cell_type": "code",
   "execution_count": 86,
   "id": "f35208a9-18c8-41a8-9d44-b0863878c42d",
   "metadata": {},
   "outputs": [
    {
     "name": "stdout",
     "output_type": "stream",
     "text": [
      "(100, 7)\n"
     ]
    }
   ],
   "source": [
    "#LASSO\n",
    "lasso = Lasso(max_iter = 10000, normalize = True,)\n",
    "coefs = []\n",
    "\n",
    "for a in alphas:\n",
    "    lasso.set_params(alpha = a)\n",
    "    lasso.fit(X_train, y_train)\n",
    "    coefs.append(lasso.coef_)\n",
    "    \n",
    "np.shape(coefs)\n",
    "temp_coefficients = [coef[0] for coef in coefs]\n",
    "dewp_coefficients = [coef[1] for coef in coefs]\n",
    "humid_coefficients = [coef[2] for coef in coefs]\n",
    "wind_dir_coefficients = [coef[3] for coef in coefs]\n",
    "wind_speed_coefficients = [coef[4] for coef in coefs]\n",
    "precip_coefficients = [coef[5] for coef in coefs]\n",
    "visib_coefficients = [coef[6] for coef in coefs]\n",
    "print(np.shape(coefs))"
   ]
  },
  {
   "cell_type": "code",
   "execution_count": 87,
   "id": "39e0e1bc-b8e2-4407-9ef8-2d1dc81ab0e6",
   "metadata": {},
   "outputs": [
    {
     "data": {
      "text/plain": [
       "Text(0, 0.5, 'weights')"
      ]
     },
     "execution_count": 87,
     "metadata": {},
     "output_type": "execute_result"
    },
    {
     "data": {
      "image/png": "[encoded data removed]",
      "text/plain": [
       "<Figure size 640x480 with 1 Axes>"
      ]
     },
     "metadata": {},
     "output_type": "display_data"
    }
   ],
   "source": [
    "ax = plt.gca()\n",
    "ax.set_xscale('log')\n",
    "ax.plot(alphas, temp_coefficients, label=\"Temo coefficient\")\n",
    "ax.plot(alphas, dewp_coefficients, label=\"dewp coefficient\")\n",
    "ax.plot(alphas, humid_coefficients, label=\"Humid coefficient\")\n",
    "ax.plot(alphas, wind_dir_coefficients, label=\"Wind direction coefficient\")\n",
    "ax.plot(alphas, wind_speed_coefficients, label=\"Wind Speed coefficient\")\n",
    "ax.plot(alphas, precip_coefficients, label=\"Precip coefficient\")\n",
    "ax.plot(alphas, visib_coefficients, label=\"Visib coefficient\")\n",
    "plt.legend()\n",
    "plt.axis('tight')\n",
    "plt.xlabel('alpha')\n",
    "plt.ylabel('weights')"
   ]
  },
  {
   "cell_type": "code",
   "execution_count": 88,
   "id": "5e30a161-d925-4930-bec8-a25ac0970a3c",
   "metadata": {},
   "outputs": [
    {
     "data": {
      "text/plain": [
       "Lasso(alpha=6.579332246575682e-09, max_iter=10000, normalize=True)"
      ]
     },
     "execution_count": 88,
     "metadata": {},
     "output_type": "execute_result"
    }
   ],
   "source": [
    "lassocv = LassoCV(alphas = alphas, cv = 10, max_iter = 100000, normalize = True,)\n",
    "lassocv.fit(X_train, y_train)\n",
    "\n",
    "lasso.set_params(alpha=lassocv.alpha_)\n",
    "lasso.fit(X_train, y_train)"
   ]
  },
  {
   "cell_type": "code",
   "execution_count": 89,
   "id": "bfc0c3c4-b4ac-481f-bec7-94ef501fd573",
   "metadata": {},
   "outputs": [
    {
     "name": "stdout",
     "output_type": "stream",
     "text": [
      "R^2 on train data is 0.03467389311712665 and on test data is 0.015418535492685015\n"
     ]
    }
   ],
   "source": [
    "print(\"R^2 on train data is {} and on test data is {}\".format(lassocv.score(X_train, y_train), \n",
    "                                                              lassocv.score(X_test,y_test)))"
   ]
  },
  {
   "cell_type": "code",
   "execution_count": 90,
   "id": "30de69ee-bcfe-4350-a091-04ad916a5752",
   "metadata": {},
   "outputs": [
    {
     "data": {
      "text/plain": [
       "temp         -0.005091\n",
       "dewp          0.005647\n",
       "humid        -0.002058\n",
       "wind_dir     -0.000012\n",
       "wind_speed   -0.000908\n",
       "precip        0.052194\n",
       "visib        -0.003102\n",
       "dtype: float64"
      ]
     },
     "execution_count": 90,
     "metadata": {},
     "output_type": "execute_result"
    }
   ],
   "source": [
    "pd.Series(lasso.coef_, index=['temp','dewp','humid','wind_dir','wind_speed','precip','visib'])\n",
    "#Three most important features are  precip,dewp and temp"
   ]
  },
  {
   "cell_type": "code",
   "execution_count": 91,
   "id": "248ab7e3-db1b-4077-9ac3-93b7927e5293",
   "metadata": {},
   "outputs": [
    {
     "name": "stdout",
     "output_type": "stream",
     "text": [
      "R^2 on train data is 0.014189994946971485 and on test data is 0.01742370669301363\n"
     ]
    }
   ],
   "source": [
    "#REDO ANALYSIS\n",
    "data = weather_df.merge(airports_df, left_on='origin',right_on='faa', how='left',)\n",
    "data = data.fillna(data.median())\n",
    "y = data.loc[:,['lat']].values\n",
    "X = data.loc[:,['temp','dewp','precip']].values\n",
    "#OLS\n",
    "X_train, X_test , y_train, y_test = train_test_split(X, y, test_size=0.2, random_state=69)\n",
    "ODS = LinearRegression()\n",
    "ODS.fit(X_train, y_train)\n",
    "print(\"R^2 on train data is {} and on test data is {}\".format(ODS.score(X_train, y_train), \n",
    "                                                              ODS.score(X_test,y_test)))\n",
    "#OLS IS HALF OF THE PREVIOUS DATA"
   ]
  },
  {
   "cell_type": "code",
   "execution_count": 92,
   "id": "a239575e-dda6-42a7-aba5-ad2746131b47",
   "metadata": {},
   "outputs": [
    {
     "name": "stdout",
     "output_type": "stream",
     "text": [
      "(100, 3)\n"
     ]
    }
   ],
   "source": [
    "#RIDGE \n",
    "alphas = 10**np.linspace(-10, 10, 100)\n",
    "ridge = Ridge(normalize = True)\n",
    "coefs = []\n",
    "y = y.flatten()\n",
    "for a in alphas:\n",
    "    ridge.set_params(alpha = a)\n",
    "    ridge.fit(X, y)\n",
    "    coefs.append(ridge.coef_)\n",
    "    \n",
    "np.shape(coefs)\n",
    "temp_coefficients = [coef[0] for coef in coefs]\n",
    "dewp_coefficients = [coef[1] for coef in coefs]\n",
    "precip_coefficients = [coef[2] for coef in coefs]\n",
    "\n",
    "print(np.shape(coefs))"
   ]
  },
  {
   "cell_type": "code",
   "execution_count": 93,
   "id": "08ccde48-2f3f-4ebc-b246-9037aa355354",
   "metadata": {},
   "outputs": [
    {
     "name": "stdout",
     "output_type": "stream",
     "text": [
      "alhpa = 1e-10\n",
      "R^2 on train data is 0.014000030781927575 and on test data is 0.015548637656933484\n",
      "alhpa = 1.592282793341094e-10\n",
      "R^2 on train data is 0.01400003078192602 and on test data is 0.015548637655907416\n",
      "alhpa = 2.5353644939701164e-10\n",
      "R^2 on train data is 0.014000030781925688 and on test data is 0.015548637654270725\n",
      "alhpa = 4.03701725859655e-10\n",
      "R^2 on train data is 0.01400003078192602 and on test data is 0.015548637651665587\n",
      "alhpa = 6.428073117284319e-10\n",
      "R^2 on train data is 0.014000030781927686 and on test data is 0.015548637647514907\n",
      "alhpa = 1.0235310218990269e-09\n",
      "R^2 on train data is 0.014000030781926687 and on test data is 0.015548637640909635\n",
      "alhpa = 1.6297508346206469e-09\n",
      "R^2 on train data is 0.014000030781925021 and on test data is 0.01554863763038794\n",
      "alhpa = 2.595024211399732e-09\n",
      "R^2 on train data is 0.014000030781927353 and on test data is 0.015548637613639671\n",
      "alhpa = 4.132012400115335e-09\n",
      "R^2 on train data is 0.01400003078192602 and on test data is 0.015548637586968783\n",
      "alhpa = 6.579332246575682e-09\n",
      "R^2 on train data is 0.014000030781925021 and on test data is 0.015548637544501753\n"
     ]
    }
   ],
   "source": [
    "X_train, X_test , y_train, y_test = train_test_split(X, y, test_size=0.5, random_state=1)\n",
    "for alpha in alphas[:10]:\n",
    "    ridge = Ridge(normalize=True, alpha=alpha)\n",
    "    ridge.fit(X_train, y_train)\n",
    "    print(\"alhpa = {}\".format(alpha))\n",
    "    print(\"R^2 on train data is {} and on test data is {}\".format(ridge.score(X_train, y_train), \n",
    "                                                              ridge.score(X_test,y_test)))"
   ]
  },
  {
   "cell_type": "code",
   "execution_count": 94,
   "id": "0f58f8db-4c5c-45d4-a326-3ca64f0f3ea6",
   "metadata": {},
   "outputs": [
    {
     "data": {
      "text/plain": [
       "(0.0011768119524349992, array([ 0.00145584, -0.00136964,  0.05244577]))"
      ]
     },
     "execution_count": 94,
     "metadata": {},
     "output_type": "execute_result"
    }
   ],
   "source": [
    "ridgecv = RidgeCV(alphas = alphas, normalize = True)\n",
    "ridgecv.fit(X_train, y_train)\n",
    "#Best alpha\n",
    "ridgecv.alpha_,ridgecv.coef_"
   ]
  },
  {
   "cell_type": "code",
   "execution_count": 95,
   "id": "482362ca-e9d6-4c85-bb98-bab511877586",
   "metadata": {},
   "outputs": [
    {
     "name": "stdout",
     "output_type": "stream",
     "text": [
      "(100, 3)\n"
     ]
    }
   ],
   "source": [
    "#LASSO\n",
    "lasso = Lasso(max_iter = 10000, normalize = True,)\n",
    "coefs = []\n",
    "\n",
    "for a in alphas:\n",
    "    lasso.set_params(alpha = a)\n",
    "    lasso.fit(X_train, y_train)\n",
    "    coefs.append(lasso.coef_)\n",
    "    \n",
    "np.shape(coefs)\n",
    "temp_coefficients = [coef[0] for coef in coefs]\n",
    "dewp_coefficients = [coef[1] for coef in coefs]\n",
    "precip_coefficients = [coef[2] for coef in coefs]\n",
    "print(np.shape(coefs))"
   ]
  },
  {
   "cell_type": "code",
   "execution_count": 96,
   "id": "d1af8df6-31b1-43df-a388-53fc7e46d1ce",
   "metadata": {},
   "outputs": [
    {
     "data": {
      "text/plain": [
       "Lasso(alpha=2.71858824273294e-07, max_iter=10000, normalize=True)"
      ]
     },
     "execution_count": 96,
     "metadata": {},
     "output_type": "execute_result"
    }
   ],
   "source": [
    "lassocv = LassoCV(alphas = alphas, cv = 10, max_iter = 100000, normalize = True,)\n",
    "lassocv.fit(X_train, y_train)\n",
    "\n",
    "lasso.set_params(alpha=lassocv.alpha_)\n",
    "lasso.fit(X_train, y_train)"
   ]
  },
  {
   "cell_type": "code",
   "execution_count": 97,
   "id": "fd36af27-7265-406e-b6b8-df955fa29da5",
   "metadata": {},
   "outputs": [
    {
     "name": "stdout",
     "output_type": "stream",
     "text": [
      "R^2 on train data is 0.013993398681209746 and on test data is 0.015516535057935155\n"
     ]
    }
   ],
   "source": [
    "print(\"R^2 on train data is {} and on test data is {}\".format(lassocv.score(X_train, y_train), \n",
    "                                                              lassocv.score(X_test,y_test)))"
   ]
  },
  {
   "cell_type": "code",
   "execution_count": 98,
   "id": "82f9efe2-d999-4392-ae68-7f9778d50896",
   "metadata": {},
   "outputs": [
    {
     "data": {
      "text/plain": [
       "temp      0.001441\n",
       "dewp     -0.001356\n",
       "precip    0.050352\n",
       "dtype: float64"
      ]
     },
     "execution_count": 98,
     "metadata": {},
     "output_type": "execute_result"
    }
   ],
   "source": [
    "pd.Series(lasso.coef_, index=['temp','dewp','precip'])"
   ]
  },
  {
   "cell_type": "markdown",
   "id": "3650a01d",
   "metadata": {},
   "source": [
    "**(i)** On a map, plot the airports that have flights to them where the points that represent\n",
    "   airports are relative in size to the average departure delay. You can see an example in \"airports.png\"."
   ]
  },
  {
   "cell_type": "markdown",
   "id": "ecbb7057",
   "metadata": {},
   "source": [
    " **(j)** These questions require no code.\n",
    " - Suppose you are using Ridge Regression and you notice that the training error and the validation error are almost equal and fairly high. Would you say that the model suffers from high bias or high variance? Should you increase the regularization hyperparameter or reduce it?\n",
    "\n",
    "- Why would you want to use:\n",
    "        > Ridge Regression instead of plain Linear Regression (i.e. without any regularization)?\n",
    "        > Lasso instead of Ridge Regression?\n",
    "        > Elastic Net instead of Lasso?"
   ]
  },
  {
   "cell_type": "markdown",
   "id": "5c2a30fe",
   "metadata": {},
   "source": [
    "## 3. Clustering of Handwritten Digits\n",
    "\n",
    "__You should be able to do this exercise after Lecture 5.__"
   ]
  },
  {
   "cell_type": "markdown",
   "id": "462f04ff",
   "metadata": {},
   "source": [
    "This exercise will depart from the famous MNIST dataset, and we are exploring several clustering techniques with it.. This is a \".mat\" file, in order to load this file in an ipynb you have to use loadmat() function from scipy.io. (replace my path)."
   ]
  },
  {
   "cell_type": "code",
   "execution_count": 11,
   "id": "dab5bedf",
   "metadata": {},
   "outputs": [
    {
     "ename": "FileNotFoundError",
     "evalue": "[Errno 2] No such file or directory: 'mnist-original.mat'",
     "output_type": "error",
     "traceback": [
      "\u001b[1;31m---------------------------------------------------------------------------\u001b[0m",
      "\u001b[1;31mFileNotFoundError\u001b[0m                         Traceback (most recent call last)",
      "\u001b[1;32m~\\anaconda3\\lib\\site-packages\\scipy\\io\\matlab\\_mio.py\u001b[0m in \u001b[0;36m_open_file\u001b[1;34m(file_like, appendmat, mode)\u001b[0m\n\u001b[0;32m     38\u001b[0m     \u001b[1;32mtry\u001b[0m\u001b[1;33m:\u001b[0m\u001b[1;33m\u001b[0m\u001b[1;33m\u001b[0m\u001b[0m\n\u001b[1;32m---> 39\u001b[1;33m         \u001b[1;32mreturn\u001b[0m \u001b[0mopen\u001b[0m\u001b[1;33m(\u001b[0m\u001b[0mfile_like\u001b[0m\u001b[1;33m,\u001b[0m \u001b[0mmode\u001b[0m\u001b[1;33m)\u001b[0m\u001b[1;33m,\u001b[0m \u001b[1;32mTrue\u001b[0m\u001b[1;33m\u001b[0m\u001b[1;33m\u001b[0m\u001b[0m\n\u001b[0m\u001b[0;32m     40\u001b[0m     \u001b[1;32mexcept\u001b[0m \u001b[0mOSError\u001b[0m \u001b[1;32mas\u001b[0m \u001b[0me\u001b[0m\u001b[1;33m:\u001b[0m\u001b[1;33m\u001b[0m\u001b[1;33m\u001b[0m\u001b[0m\n",
      "\u001b[1;31mFileNotFoundError\u001b[0m: [Errno 2] No such file or directory: 'mnist-original'",
      "\nDuring handling of the above exception, another exception occurred:\n",
      "\u001b[1;31mFileNotFoundError\u001b[0m                         Traceback (most recent call last)",
      "\u001b[1;32m~\\AppData\\Local\\Temp\\ipykernel_13196\\1388709579.py\u001b[0m in \u001b[0;36m<module>\u001b[1;34m\u001b[0m\n\u001b[0;32m      1\u001b[0m \u001b[1;32mfrom\u001b[0m \u001b[0mscipy\u001b[0m\u001b[1;33m.\u001b[0m\u001b[0mio\u001b[0m \u001b[1;32mimport\u001b[0m \u001b[0mloadmat\u001b[0m\u001b[1;33m\u001b[0m\u001b[1;33m\u001b[0m\u001b[0m\n\u001b[1;32m----> 2\u001b[1;33m \u001b[0mmnist\u001b[0m \u001b[1;33m=\u001b[0m \u001b[0mloadmat\u001b[0m\u001b[1;33m(\u001b[0m\u001b[1;34m'mnist-original'\u001b[0m\u001b[1;33m)\u001b[0m\u001b[1;33m\u001b[0m\u001b[1;33m\u001b[0m\u001b[0m\n\u001b[0m\u001b[0;32m      3\u001b[0m \u001b[0mmnist_data\u001b[0m \u001b[1;33m=\u001b[0m \u001b[0mmnist\u001b[0m\u001b[1;33m[\u001b[0m\u001b[1;34m\"data\"\u001b[0m\u001b[1;33m]\u001b[0m\u001b[1;33m.\u001b[0m\u001b[0mT\u001b[0m\u001b[1;33m\u001b[0m\u001b[1;33m\u001b[0m\u001b[0m\n\u001b[0;32m      4\u001b[0m \u001b[0mmnist_label\u001b[0m \u001b[1;33m=\u001b[0m \u001b[0mmnist\u001b[0m\u001b[1;33m[\u001b[0m\u001b[1;34m\"label\"\u001b[0m\u001b[1;33m]\u001b[0m\u001b[1;33m[\u001b[0m\u001b[1;36m0\u001b[0m\u001b[1;33m]\u001b[0m\u001b[1;33m\u001b[0m\u001b[1;33m\u001b[0m\u001b[0m\n\u001b[0;32m      5\u001b[0m \u001b[1;32mimport\u001b[0m \u001b[0mnumpy\u001b[0m \u001b[1;32mas\u001b[0m \u001b[0mnp\u001b[0m\u001b[1;33m\u001b[0m\u001b[1;33m\u001b[0m\u001b[0m\n",
      "\u001b[1;32m~\\anaconda3\\lib\\site-packages\\scipy\\io\\matlab\\_mio.py\u001b[0m in \u001b[0;36mloadmat\u001b[1;34m(file_name, mdict, appendmat, **kwargs)\u001b[0m\n\u001b[0;32m    222\u001b[0m     \"\"\"\n\u001b[0;32m    223\u001b[0m     \u001b[0mvariable_names\u001b[0m \u001b[1;33m=\u001b[0m \u001b[0mkwargs\u001b[0m\u001b[1;33m.\u001b[0m\u001b[0mpop\u001b[0m\u001b[1;33m(\u001b[0m\u001b[1;34m'variable_names'\u001b[0m\u001b[1;33m,\u001b[0m \u001b[1;32mNone\u001b[0m\u001b[1;33m)\u001b[0m\u001b[1;33m\u001b[0m\u001b[1;33m\u001b[0m\u001b[0m\n\u001b[1;32m--> 224\u001b[1;33m     \u001b[1;32mwith\u001b[0m \u001b[0m_open_file_context\u001b[0m\u001b[1;33m(\u001b[0m\u001b[0mfile_name\u001b[0m\u001b[1;33m,\u001b[0m \u001b[0mappendmat\u001b[0m\u001b[1;33m)\u001b[0m \u001b[1;32mas\u001b[0m \u001b[0mf\u001b[0m\u001b[1;33m:\u001b[0m\u001b[1;33m\u001b[0m\u001b[1;33m\u001b[0m\u001b[0m\n\u001b[0m\u001b[0;32m    225\u001b[0m         \u001b[0mMR\u001b[0m\u001b[1;33m,\u001b[0m \u001b[0m_\u001b[0m \u001b[1;33m=\u001b[0m \u001b[0mmat_reader_factory\u001b[0m\u001b[1;33m(\u001b[0m\u001b[0mf\u001b[0m\u001b[1;33m,\u001b[0m \u001b[1;33m**\u001b[0m\u001b[0mkwargs\u001b[0m\u001b[1;33m)\u001b[0m\u001b[1;33m\u001b[0m\u001b[1;33m\u001b[0m\u001b[0m\n\u001b[0;32m    226\u001b[0m         \u001b[0mmatfile_dict\u001b[0m \u001b[1;33m=\u001b[0m \u001b[0mMR\u001b[0m\u001b[1;33m.\u001b[0m\u001b[0mget_variables\u001b[0m\u001b[1;33m(\u001b[0m\u001b[0mvariable_names\u001b[0m\u001b[1;33m)\u001b[0m\u001b[1;33m\u001b[0m\u001b[1;33m\u001b[0m\u001b[0m\n",
      "\u001b[1;32m~\\anaconda3\\lib\\contextlib.py\u001b[0m in \u001b[0;36m__enter__\u001b[1;34m(self)\u001b[0m\n\u001b[0;32m    117\u001b[0m         \u001b[1;32mdel\u001b[0m \u001b[0mself\u001b[0m\u001b[1;33m.\u001b[0m\u001b[0margs\u001b[0m\u001b[1;33m,\u001b[0m \u001b[0mself\u001b[0m\u001b[1;33m.\u001b[0m\u001b[0mkwds\u001b[0m\u001b[1;33m,\u001b[0m \u001b[0mself\u001b[0m\u001b[1;33m.\u001b[0m\u001b[0mfunc\u001b[0m\u001b[1;33m\u001b[0m\u001b[1;33m\u001b[0m\u001b[0m\n\u001b[0;32m    118\u001b[0m         \u001b[1;32mtry\u001b[0m\u001b[1;33m:\u001b[0m\u001b[1;33m\u001b[0m\u001b[1;33m\u001b[0m\u001b[0m\n\u001b[1;32m--> 119\u001b[1;33m             \u001b[1;32mreturn\u001b[0m \u001b[0mnext\u001b[0m\u001b[1;33m(\u001b[0m\u001b[0mself\u001b[0m\u001b[1;33m.\u001b[0m\u001b[0mgen\u001b[0m\u001b[1;33m)\u001b[0m\u001b[1;33m\u001b[0m\u001b[1;33m\u001b[0m\u001b[0m\n\u001b[0m\u001b[0;32m    120\u001b[0m         \u001b[1;32mexcept\u001b[0m \u001b[0mStopIteration\u001b[0m\u001b[1;33m:\u001b[0m\u001b[1;33m\u001b[0m\u001b[1;33m\u001b[0m\u001b[0m\n\u001b[0;32m    121\u001b[0m             \u001b[1;32mraise\u001b[0m \u001b[0mRuntimeError\u001b[0m\u001b[1;33m(\u001b[0m\u001b[1;34m\"generator didn't yield\"\u001b[0m\u001b[1;33m)\u001b[0m \u001b[1;32mfrom\u001b[0m \u001b[1;32mNone\u001b[0m\u001b[1;33m\u001b[0m\u001b[1;33m\u001b[0m\u001b[0m\n",
      "\u001b[1;32m~\\anaconda3\\lib\\site-packages\\scipy\\io\\matlab\\_mio.py\u001b[0m in \u001b[0;36m_open_file_context\u001b[1;34m(file_like, appendmat, mode)\u001b[0m\n\u001b[0;32m     15\u001b[0m \u001b[1;33m@\u001b[0m\u001b[0mcontextmanager\u001b[0m\u001b[1;33m\u001b[0m\u001b[1;33m\u001b[0m\u001b[0m\n\u001b[0;32m     16\u001b[0m \u001b[1;32mdef\u001b[0m \u001b[0m_open_file_context\u001b[0m\u001b[1;33m(\u001b[0m\u001b[0mfile_like\u001b[0m\u001b[1;33m,\u001b[0m \u001b[0mappendmat\u001b[0m\u001b[1;33m,\u001b[0m \u001b[0mmode\u001b[0m\u001b[1;33m=\u001b[0m\u001b[1;34m'rb'\u001b[0m\u001b[1;33m)\u001b[0m\u001b[1;33m:\u001b[0m\u001b[1;33m\u001b[0m\u001b[1;33m\u001b[0m\u001b[0m\n\u001b[1;32m---> 17\u001b[1;33m     \u001b[0mf\u001b[0m\u001b[1;33m,\u001b[0m \u001b[0mopened\u001b[0m \u001b[1;33m=\u001b[0m \u001b[0m_open_file\u001b[0m\u001b[1;33m(\u001b[0m\u001b[0mfile_like\u001b[0m\u001b[1;33m,\u001b[0m \u001b[0mappendmat\u001b[0m\u001b[1;33m,\u001b[0m \u001b[0mmode\u001b[0m\u001b[1;33m)\u001b[0m\u001b[1;33m\u001b[0m\u001b[1;33m\u001b[0m\u001b[0m\n\u001b[0m\u001b[0;32m     18\u001b[0m     \u001b[1;32mtry\u001b[0m\u001b[1;33m:\u001b[0m\u001b[1;33m\u001b[0m\u001b[1;33m\u001b[0m\u001b[0m\n\u001b[0;32m     19\u001b[0m         \u001b[1;32myield\u001b[0m \u001b[0mf\u001b[0m\u001b[1;33m\u001b[0m\u001b[1;33m\u001b[0m\u001b[0m\n",
      "\u001b[1;32m~\\anaconda3\\lib\\site-packages\\scipy\\io\\matlab\\_mio.py\u001b[0m in \u001b[0;36m_open_file\u001b[1;34m(file_like, appendmat, mode)\u001b[0m\n\u001b[0;32m     43\u001b[0m             \u001b[1;32mif\u001b[0m \u001b[0mappendmat\u001b[0m \u001b[1;32mand\u001b[0m \u001b[1;32mnot\u001b[0m \u001b[0mfile_like\u001b[0m\u001b[1;33m.\u001b[0m\u001b[0mendswith\u001b[0m\u001b[1;33m(\u001b[0m\u001b[1;34m'.mat'\u001b[0m\u001b[1;33m)\u001b[0m\u001b[1;33m:\u001b[0m\u001b[1;33m\u001b[0m\u001b[1;33m\u001b[0m\u001b[0m\n\u001b[0;32m     44\u001b[0m                 \u001b[0mfile_like\u001b[0m \u001b[1;33m+=\u001b[0m \u001b[1;34m'.mat'\u001b[0m\u001b[1;33m\u001b[0m\u001b[1;33m\u001b[0m\u001b[0m\n\u001b[1;32m---> 45\u001b[1;33m             \u001b[1;32mreturn\u001b[0m \u001b[0mopen\u001b[0m\u001b[1;33m(\u001b[0m\u001b[0mfile_like\u001b[0m\u001b[1;33m,\u001b[0m \u001b[0mmode\u001b[0m\u001b[1;33m)\u001b[0m\u001b[1;33m,\u001b[0m \u001b[1;32mTrue\u001b[0m\u001b[1;33m\u001b[0m\u001b[1;33m\u001b[0m\u001b[0m\n\u001b[0m\u001b[0;32m     46\u001b[0m         \u001b[1;32melse\u001b[0m\u001b[1;33m:\u001b[0m\u001b[1;33m\u001b[0m\u001b[1;33m\u001b[0m\u001b[0m\n\u001b[0;32m     47\u001b[0m             raise OSError(\n",
      "\u001b[1;31mFileNotFoundError\u001b[0m: [Errno 2] No such file or directory: 'mnist-original.mat'"
     ]
    }
   ],
   "source": [
    "from scipy.io import loadmat\n",
    "mnist = loadmat('mnist-original')\n",
    "mnist_data = mnist[\"data\"].T\n",
    "mnist_label = mnist[\"label\"][0]\n",
    "import numpy as np\n",
    "print(\"Number of datapoints: {}\\n\".format(mnist_data.shape[0]))\n",
    "print(\"Number of features: {}\\n\".format(mnist_data.shape[1]))\n",
    "print(\"List of labels: {}\\n\".format(np.unique(mnist_label)))"
   ]
  },
  {
   "cell_type": "markdown",
   "id": "9725cef2",
   "metadata": {},
   "source": [
    "There are 70,000 images, and each image has 784 features. This is because each image is 28×28 pixels,\n",
    "and each feature simply represents one pixel’s intensity, from 0 (white) to 255 (black). Let’s take a peek at one digit from the dataset. All you need to do is grab an instance’s feature vector, reshape it to a 28×28 array, and display it using Matplotlib’s `imshow()` function:"
   ]
  },
  {
   "cell_type": "code",
   "execution_count": null,
   "id": "f1eb63e8",
   "metadata": {},
   "outputs": [],
   "source": [
    "%matplotlib inline\n",
    "import matplotlib.pyplot as plt\n",
    "index = 4\n",
    "print(\"Value of datapoint no. {}:\\n{}\\n\".format(index,mnist_data[index]))\n",
    "print(\"As image:\\n\")\n",
    "plt.imshow(mnist_data[index].reshape(28,28),cmap=plt.cm.gray_r)\n",
    "plt.show()"
   ]
  },
  {
   "cell_type": "markdown",
   "id": "a59f8903",
   "metadata": {},
   "source": [
    "**(a)** Perform k-means clustering with k=10 on this dataset."
   ]
  },
  {
   "cell_type": "markdown",
   "id": "4c15c0da",
   "metadata": {},
   "source": [
    "**(b)** Using visualization techniques analogous to what we have done in the Clustering notebook\n",
    "   for the faces data, can you determine the 'nature' of the 10 constructed clusters?\n",
    "   Do the clusters (roughly) coincide with the 10 different actual digits?"
   ]
  },
  {
   "cell_type": "markdown",
   "id": "c41c00cd",
   "metadata": {},
   "source": [
    "**(c)** Perform a supervised clustering evaluation using adjusted rand index.\n",
    "   Are the results stable, when you perform several random restarts of k-means?"
   ]
  },
  {
   "cell_type": "markdown",
   "id": "4ca26824",
   "metadata": {},
   "source": [
    "**(d)** Now perform hierarchical clustering on the data.\n",
    "   (in order to improve visibility in the constructed dendrograms, you can also use a\n",
    "   much reduced dataset as constructed using sklearn.utils.resample shown below).\n",
    "   Does the visual analysis of the dendrogram indicate a natural number of clusters?"
   ]
  },
  {
   "cell_type": "markdown",
   "id": "c9b94054",
   "metadata": {},
   "source": [
    "**(e)** Using different cluster distance metrics (ward,single,average, etc.),\n",
    "   what do the clusterings look like that are produced at the level of k=10 clusters?\n",
    "   See the Clustering notebook for the needed Python code, including the fcluster\n",
    "   method to retrieve 'plain' clusterings from the hierarchical clustering."
   ]
  },
  {
   "cell_type": "code",
   "execution_count": null,
   "id": "5f1526e7",
   "metadata": {},
   "outputs": [],
   "source": [
    "small_mnist_data,small_mnist_label = skl.utils.resample(mnist.data,mnist.target,n_samples=200,replace='false')"
   ]
  },
  {
   "cell_type": "markdown",
   "id": "2553cf91",
   "metadata": {},
   "source": [
    "**(f)** Do a DBSCAN clustering of the small dataset. Tweak the different parameters."
   ]
  },
  {
   "cell_type": "markdown",
   "id": "ba86c41f",
   "metadata": {},
   "source": [
    "**(g)** Try to compare the different clustering methods on the MNIST dataset in the same way\n",
    "   the book does on the faces dataset on pp. 195-206."
   ]
  },
  {
   "cell_type": "markdown",
   "id": "6e8c50bb",
   "metadata": {},
   "source": [
    "## 4. The Local Elections\n",
    "\n",
    "__You should be able to do this exercise after Lecture 6.__\n",
    "\n",
    "In the local elections of 2021, around 100 candidates stood for election for the city council of Horsens. 83 of them represented a national party, had more than one candidate and provided answers to the <a href=\"https://www.dr.dk/nyheder/politik/kandidattest\">DR Candidate Test</a>, a test designed to help voters find out who they should vote for. In this test, the candidates answered 18 questions, which we will use as features in the following. The politicians belong to 9 parties, which will be our classes.\n",
    "\n",
    "The numpy files `X_Horsens.npy` and `Y_Horsens.npy` contains the data. `Y_Horsens.npy` contains a letter representing the party to which each candidate belongs. The following parties are represented:\n",
    "\n",
    "| Party letter | Party name | Party name (English) | Political position | Party color |\n",
    "| :-: | :-: | :-: | :-: | :-: |\n",
    "| A | Socialdemokratiet | Social Democrats | Centre-left | Red |\n",
    "| B | Radikale Venstre | Social Liberal Party | Centre-left | Indigo |\n",
    "| C | Det Konservative Folkeparti | Conservative People's Party | Right-wing | Green |\n",
    "| D | Nye Borgerlige | New Right | Far-right | Black |\n",
    "| F | Socialistisk Folkeparti | Socialist People's Party | Left-wing | Fuchsia |\n",
    "| I | Liberal Alliance | Liberal Alliance | Right-wing | Cyan |\n",
    "| O | Dansk Folkeparti | Danish People's Party | Far-right | Yellow |\n",
    "| V | Venstre | Danish Liberal Party | Centre-right | Blue |\n",
    "| Z* | Enhedslisten | Red-Green Alliance | Far-left | Dark red |\n",
    "\n",
    "*_Note that, although the party letter of Enhedslisten is actually Ø, we will here use Z to avoid any complications with the wonderful Danish letters Æ, Ø and Å. Feel free to change the Z back to an Ø if you find that it does not cause any problems._\n",
    "\n",
    "Meanwhile, `X_Horsens.npy` contains the answers to the test as numbers between -1.5 and 1.5, such that -1.5 is \"Strongly disagree\", -0.5 is \"Disagree\", 0.5 is \"Agree\" and 1.5 is \"Strongly agree\". The 18 questions concern, in order, subdivision, schools, windmills, building permits, tall buildings, housing, child care, culture, nursing homes, taxes, sports, refugees, nursing homes (again), public transportation, meat-free days, welfare, privatization, and religious minorities.\n",
    "\n",
    "Both files can be imported using `numpy.load`."
   ]
  },
  {
   "cell_type": "markdown",
   "id": "3cef529e",
   "metadata": {},
   "source": [
    "__(a)__ How well do you (intuitively) expect that we can predict the partisan affiliation of a candidate based on their answers to the test?"
   ]
  },
  {
   "cell_type": "markdown",
   "id": "533598df",
   "metadata": {},
   "source": [
    "__(b)__ Based on the answers from all 83 candidates for the Horsens city council, perform a Principal Component Analysis with 2 principal components. Plot the results in a figure using these 2 components as the axes. Label the points with the party letter and the appropriate color."
   ]
  },
  {
   "cell_type": "markdown",
   "id": "da8e83f4",
   "metadata": {},
   "source": [
    "__(c)__ Comment on the results. You may consider the following questions for inspiration: Can the political parties be separated? Can the typical distinction of \"left-wing\" and \"right-wing\" be discerned? Which of the 18 questions (features) are most important?"
   ]
  },
  {
   "cell_type": "markdown",
   "id": "3423aab8",
   "metadata": {},
   "source": [
    "The number of candidates (83) is on the (very) low side when we want to do machine learning. Luckily, the neighbouring city of Databorg had no less than 8,300 candidates standing for election, with a political environment similar to that of Horsens. In the following, we will use the data from Databorg. These are stored in the numpy files `X_Databorg.npy` and `Y_Databorg.npy` in same format as the Horsens data.\n",
    "\n",
    "__(d)__ Once again, perform a Principal Component Analysis and visualize the results. Compare the results to those of the Horsens data."
   ]
  },
  {
   "cell_type": "markdown",
   "id": "782a6987",
   "metadata": {},
   "source": [
    "Confident that we can predict the partisan affiliation of a politician reasonably well based on their answers to the test, we want to build a model that will allow us to distinguish between the 9 political parties. For this purpose, we split the data into a training and a validation set.\n",
    "\n",
    "__(e)__ Split the data into a training and a validation set, with appropriate fractions."
   ]
  },
  {
   "cell_type": "markdown",
   "id": "f14cb87d",
   "metadata": {},
   "source": [
    "First, we assume that a Naive Bayes approach is sufficient for our purposes.\n",
    "\n",
    "__(f)__ Comment on the basic assumption of the Naive Bayes approach. Is this a reasonable assumption for the problem at hand?"
   ]
  },
  {
   "cell_type": "markdown",
   "id": "74b1c9a1",
   "metadata": {},
   "source": [
    "__(g)__ Classify the instances of the validation set using a Naive Bayes approach. Comment on the results."
   ]
  },
  {
   "cell_type": "markdown",
   "id": "8e9f1aea",
   "metadata": {},
   "source": [
    "Assume instead that a _k_-nearest neighbour approach is sufficient for our  needs.\n",
    "\n",
    "__(h)__ Using default settings of the _k_-NN classifier, classify the instances of the validation set. Comment on the performance."
   ]
  },
  {
   "cell_type": "markdown",
   "id": "a29f6e11",
   "metadata": {},
   "source": [
    "__(i)__ Play around with different values of _k_. Decide on a \"good\" value of _k_. Comment on the results."
   ]
  },
  {
   "cell_type": "markdown",
   "id": "cd3a4ae1",
   "metadata": {},
   "source": [
    "We now try to use a decision tree instead.\n",
    "\n",
    "__(j)__ What is the _minimum_ depth of an appropriate decision tree? Why?"
   ]
  },
  {
   "cell_type": "markdown",
   "id": "b6c20a9a",
   "metadata": {},
   "source": [
    "__(k)__ Build a decision tree with at least the depth from above. Play around with the tree depth. Include a figure that shows some relevant measure of the performance as a function of the tree depth. Comment on any issues of over-fitting. Decide on a tree which you will keep for later use. Can you do better than the _k_-NN classifier?"
   ]
  },
  {
   "cell_type": "markdown",
   "id": "502e8734",
   "metadata": {},
   "source": [
    "__(l)__ What are the most important features? Visualize this in an appropriate way. Does it match what you would expect? Compare to the results of the PCA analysis. Do we expect them to be the same? Why/why not?"
   ]
  },
  {
   "cell_type": "markdown",
   "id": "2abf8bcd",
   "metadata": {},
   "source": [
    "We know that decision trees suffer from certain problems that may be solved by using decision forests.\n",
    "\n",
    "__(m)__ Build a decision forest. Play around with the number of trees in the forest. Decide on a forest."
   ]
  },
  {
   "cell_type": "markdown",
   "id": "392aa241",
   "metadata": {},
   "source": [
    "__(n)__ Extract the most important features. Comment and compare with previously obtained results."
   ]
  },
  {
   "cell_type": "markdown",
   "id": "3b02c96c",
   "metadata": {},
   "source": [
    "Finally, we want to compare the models we have worked with so far (i.e., Naive Bayes, _k_-NN, decision tree and decision forest).\n",
    "\n",
    "__(o)__ Compare the results of the in terms of confusion matrices, accuracy, precision, recall, and f-score. How well can we predict the partisan affiliation of a candidate based on their answers to a test? How does this compare with your intuition? "
   ]
  },
  {
   "cell_type": "markdown",
   "id": "d71016df",
   "metadata": {},
   "source": [
    "## 5. Sentiment Analysis\n",
    "\n",
    "__You should be able to do this exercise after Lecture 8.__"
   ]
  },
  {
   "cell_type": "markdown",
   "id": "f98caa84",
   "metadata": {},
   "source": [
    "In this exercise we use the IMDb-dataset, which we will use to perform a sentiment analysis. The code below assumes that the data is placed in the same folder as this notebook. We see that the reviews are loaded as a pandas dataframe, and print the beginning of the first few reviews."
   ]
  },
  {
   "cell_type": "code",
   "execution_count": null,
   "id": "4e42ec38",
   "metadata": {},
   "outputs": [],
   "source": [
    "reviews = pd.read_csv('Sentiment Analysis/reviews.txt', header=None)\n",
    "labels = pd.read_csv('Sentiment Analysis/labels.txt', header=None)\n",
    "Y = (labels=='positive').astype(np.int_)\n",
    "\n",
    "print(reviews.head)\n",
    "print(labels.head)\n",
    "Y=to_categorical(Y, 2)"
   ]
  },
  {
   "cell_type": "markdown",
   "id": "23abdd2a",
   "metadata": {},
   "source": [
    "**(a)** Split the reviews and labels in test, train and validation sets. The train and validation sets will be used to train your model and tune hyperparameters, the test set will be saved for testing."
   ]
  },
  {
   "cell_type": "code",
   "execution_count": null,
   "id": "250e11ac",
   "metadata": {},
   "outputs": [],
   "source": [
    "X_train, X_test, y_train, y_test = train_test_split(reviews, Y, test_size=0.2, random_state=69, stratify = Y)"
   ]
  },
  {
   "cell_type": "markdown",
   "id": "a379f1db",
   "metadata": {},
   "source": [
    "**(b)** Use the `CountVectorizer` from `sklearn.feature_extraction.text` to create a Bag-of-Words representation of the reviews. (See an example of how to do this in chapter 7 of \"Muller and Guido\"). Only use the 10,000 most frequent words (use the `max_features`-parameter of `CountVectorizer`)."
   ]
  },
  {
   "cell_type": "code",
   "execution_count": null,
   "id": "c59dafe9",
   "metadata": {},
   "outputs": [],
   "source": [
    "y_train = np.array(y_train)\n",
    "y_test = np.array(y_test)\n",
    "\n",
    "stopwords = stopwords.words(\"english\")\n",
    "stopwords.extend(['br', 'p'])\n",
    "\n",
    "vect = CountVectorizer(max_features=10000, stop_words =stopwords).fit(X_train[0])\n",
    "X_train = vect.transform(X_train[0]).toarray()\n",
    "X_test = vect.transform(X_test[0]).toarray()"
   ]
  },
  {
   "cell_type": "markdown",
   "id": "7258dd35",
   "metadata": {},
   "source": [
    "**(c)** Explore the representation of the reviews. How is a single word represented? How about a whole review?"
   ]
  },
  {
   "cell_type": "markdown",
   "id": "ae0c3a38",
   "metadata": {},
   "source": [
    "##### Top 1000 words:"
   ]
  },
  {
   "cell_type": "code",
   "execution_count": null,
   "id": "910183cc",
   "metadata": {},
   "outputs": [],
   "source": [
    "print(vect.get_feature_names_out())"
   ]
  },
  {
   "cell_type": "markdown",
   "id": "7f8863d5",
   "metadata": {},
   "source": [
    "###### A word is represented as a number of appearances in a sentance, corresponding with its index from the bag of words"
   ]
  },
  {
   "cell_type": "markdown",
   "id": "92a87572",
   "metadata": {},
   "source": [
    "###### This is how a review is represented -> an array of 10000 elements (the entire bag of words)  - index corresponds to the bag of words and value repesents appearece in the sentance:"
   ]
  },
  {
   "cell_type": "code",
   "execution_count": null,
   "id": "b52ec422",
   "metadata": {},
   "outputs": [],
   "source": [
    "print(X_train[0])"
   ]
  },
  {
   "cell_type": "markdown",
   "id": "1c0d701a",
   "metadata": {},
   "source": [
    "###### The first word that's found in the sentance is:"
   ]
  },
  {
   "cell_type": "code",
   "execution_count": null,
   "id": "028244bb",
   "metadata": {},
   "outputs": [],
   "source": [
    "i = np.where(X_train[0] > 1)\n",
    "print(vect.get_feature_names_out()[i[0][0]])"
   ]
  },
  {
   "cell_type": "markdown",
   "id": "89caa757",
   "metadata": {},
   "source": [
    "**(d)** Train a neural network with a single hidden layer on the dataset, tuning the relevant hyperparameters to optimize accuracy. "
   ]
  },
  {
   "cell_type": "code",
   "execution_count": null,
   "id": "e72db1cb",
   "metadata": {},
   "outputs": [],
   "source": [
    "seed(69)\n",
    "tf.random.set_seed(69)\n",
    "input_size = X_train[0].shape[0]\n",
    "num_classes = 2 #positive or negative\n",
    "\n",
    "callback = tf.keras.callbacks.EarlyStopping(monitor = 'val_accuracy', patience = 10) #early stoppage when it tends to overfit\n",
    "model = Sequential() #initialize a neural network\n",
    "#add a hidden layer. L1 regularizer (Lasso - deletes the features if their importance is low)\n",
    "model.add(Dense(units = 10, activation = 'tanh', input_dim = input_size, kernel_regularizer = regularizers.l1(0.003)))\n",
    "model.add(Dense(units = num_classes, activation = 'softmax')) #add the output layer\n",
    "\n",
    "model.compile(loss = 'categorical_crossentropy', metrics = ['accuracy'])#sgd = optimizers.SGD(learning_rate = 0.1))\n",
    "history = model.fit(X_train, y_train, epochs = 200, batch_size = 100, verbose = 1, validation_split = 0.2, callbacks = [callback])"
   ]
  },
  {
   "cell_type": "code",
   "execution_count": null,
   "id": "43c15524",
   "metadata": {},
   "outputs": [],
   "source": [
    "plt.figure()\n",
    "plt.title(\"Learning curves\")\n",
    "plt.xlabel(\"Epoch\")\n",
    "plt.ylabel(\"Cross entropy loss\")\n",
    "plt.plot(history.history['loss'], label = 'train')\n",
    "plt.plot(history.history['val_loss'], label = 'valid')\n",
    "plt.legend()\n",
    "plt.show()"
   ]
  },
  {
   "cell_type": "code",
   "execution_count": null,
   "id": "e6de1653",
   "metadata": {},
   "outputs": [],
   "source": [
    "plt.figure()\n",
    "plt.title(\"Learning curves\")\n",
    "plt.xlabel(\"Epoch\")\n",
    "plt.ylabel(\"Accuracy\")\n",
    "plt.plot(history.history['accuracy'], label = 'train')\n",
    "plt.plot(history.history['val_accuracy'], label = 'valid')\n",
    "plt.legend()\n",
    "plt.show()"
   ]
  },
  {
   "cell_type": "markdown",
   "id": "925cf76f",
   "metadata": {},
   "source": [
    "**(e)** Test your sentiment-classifier on the test set."
   ]
  },
  {
   "cell_type": "code",
   "execution_count": null,
   "id": "bb5f6de7",
   "metadata": {},
   "outputs": [],
   "source": [
    "print(\"Loss + accuracy on train data: {}\".format(model.evaluate(X_train, y_train)))\n",
    "print(\"Loss + accuracy on test data: {}\".format(model.evaluate(X_test, y_test)))"
   ]
  },
  {
   "cell_type": "markdown",
   "id": "24d9f826",
   "metadata": {},
   "source": [
    "**(h)** Use the classifier to classify a few sentences you write yourselves. "
   ]
  },
  {
   "cell_type": "code",
   "execution_count": null,
   "id": "2291d696",
   "metadata": {},
   "outputs": [],
   "source": [
    "# first 3 reviews are taken from IMDB to see if the score matches the sentiment\n",
    "\n",
    "# ----- good reviews ------\n",
    "review1 = 'It is now past 1 PM and I just finished watching Francis Ford Coppola\\'s \"The Godfather\". I should probably go to bed. It\\'s late and tomorrow I have to wake up a bit early. But not early enough to postpone writing these lines. Now that I have seen it three times, the opportunity of sharing my thoughts and refreshed insights are too much of a good offer to sit on. So, bear with me. This film works so well because it takes place in an underworld in which we are so embedded that we do not even observe it. Coppola puts us straight in the smack-dab center of what is, admittedly, a society made by criminals for criminals. It is also the reason why it\\'s so welcoming. We are surrounded by its inhabitants--cold-blooded murderers, men who see crime like a 9 to 5 job masquerading as honorable men. And I do mean men. From the outside, we would only witness the horrifying, disturbing manifestations of their well-thought out actions. But it goes even deeper than that. It all revolves around the Corleone family led by Don Vito Corleone (Marlon Brando). He is the most honest of these men, sitting right on the edge. But for people like him, who do not fully embrace this world, it\\'s not easy. He avoids conflict until it is absolutely necessary. He is a man defined by moral principles. There is a scene at the beginning, in which, during his daughter\\'s wedding day, one of his associates, Luca Brasi (Lenny Montana) practices his speech that he is going to give to the Don when he meets him. The scene with these two is funny and almost adorable. I could not help but sympathize both of them only to realize that I am feeling warmth for two mobsters. Not to even mention that Lenny Montana was an actual mob hit-man and that he was actually nervous as he said that line. The more I watched the more I realized just how incredibly complex and ruthless this society is and how it has the power to corrupt anyone to come in contact with it. The best example is Corleone\\'s youngest son, Michael (Al Pacino). He returns home for his sister\\'s wedding as a war hero dressed the part with his long-time girlfriend, Kay Adams (Diane Keaton). At first, he avoids this underworld, but necessity, first-hand exposure and just its sheer devilish appealing nature draws him in. As we get further in the film, the change is shocking and every outsider who ever got close to him is tainted in one way or another. If they survive it, they are drawn in as well as we are as viewers. Inside, Coppola exposes the family to us fully, with a bold personal approach and we witness every discussion, every methodically calculated choice. Crime is done simply because it is the nature of their business, and we are put on a chair alongside them, so we easily relate. For us, they are the good guys, the rival families are the bad guys. This is the greatest feat this film managed to pull off--set apart good guys and bad guys in a world filled with bad guys. This is a film of unmatched subtlety. No other movie sustains itself as good. No other film is done with such precision, attention and completeness. There are many layers which I probably missed and maybe will never notice. But I felt them. What director Francis Ford Coppola and his partner in crime (poor choice of words, sorry) Mario Puzo did is nothing short of a timeless piece of reference cinema whose influence is not based on reinventing the wheel, but rather perfecting it to the absolute maximum. Most masterpieces are remembered for their historical contributions. \"Citizen Kane\" brought the biggest step-up to the art form, the same things did \"Gone With the Wind\" or \"2001: A Space Odyssey\". \"The Godfather\" is one of the few films that will be remembered simply because they are that good and I cannot possibly imagine a greater achievement.'\n",
    "review2 = 'Nice story, didn\\'t feel like a movie'\n",
    "review3 = 'This film was probably a fascinating piece of sci-fi writing, but as a movie it was a pretty weak effort. From the cinematography to the acting - this was a non-budget sci-fi channel original movie. Sub-career actors giving hammy performances - often skating the line of annoying. I have to admit that the basic story here is very interesting and thought provoking. I cant say it was perfectly written, but this is science fiction. I think this would work good as a play. Id also like to see this re-done with a better cast and director. In the end though - there was nothing here that gave me chills or touched me in some special way or gave me any sort of epiphany like it seems to have done for so many others... At best it held my attention until the end. Its very much average and mediocre - it will end up being the sort of thing people will reference in speculative conversations with their friends to help them feel smarter. It will end up being shown to high school and college students by that hip and cool teacher. Its very accessible and gently challenges religion, so its perfect for that. Ive definitely seen better science fiction movies - with or without action or special effects.'\n",
    "review4 = 'Such a fantastic movie'\n",
    "\n",
    "# ----- bad reviews ------\n",
    "review5 = 'This was a freaking disaster, nothing good came out of it'\n",
    "review6 = 'I didn\\'t like this movie, the could have done a better job'\n",
    "review7 = 'Can we even call this a movie?'\n",
    "review8 = 'How did anyone last enough in the cinema?'\n",
    "\n",
    "# ----- mixed feelings ------\n",
    "review9 = 'This gave me mixed feelings'\n",
    "\n",
    "test_data = []\n",
    "test_data.extend([review1.lower(), review2.lower(), review3.lower(),\n",
    "                  review4.lower(), review5.lower(), review6.lower(), \n",
    "                  review7.lower(), review8.lower(), review9.lower()])\n",
    "new_X_test = vect.transform(test_data)\n",
    "probabilities = np.array(model.predict(new_X_test))\n",
    "predictions = np.argmax(probabilities, axis = 1) #what does the model predict\n",
    "\n",
    "print(predictions)"
   ]
  },
  {
   "cell_type": "markdown",
   "id": "d8707808",
   "metadata": {},
   "source": [
    "##### All of our categorical reviews were categorised with the right label, the mixed feelings one returned a positive label which is quite an interesting thing"
   ]
  },
  {
   "cell_type": "code",
   "execution_count": null,
   "id": "abf13d97",
   "metadata": {},
   "outputs": [],
   "source": [
    "probabilities[8]"
   ]
  },
  {
   "cell_type": "markdown",
   "id": "0780e212",
   "metadata": {},
   "source": [
    "##### The probability of the \"mixed feelings\" review returns an almost identical prediction, although it tends to be more positive"
   ]
  },
  {
   "cell_type": "markdown",
   "id": "a57be2d7",
   "metadata": {},
   "source": [
    "## 6. Speech Recognition\n",
    "\n",
    "__You should be able to do this exercise after Lecture 9.__"
   ]
  },
  {
   "cell_type": "markdown",
   "id": "f1b6d770",
   "metadata": {},
   "source": [
    "In this exercise, we will work with the <a href=\"https://arxiv.org/pdf/1804.03209.pdf\">Google Speech Command Dataset</a>, which can be downloaded from <a href=\"http://download.tensorflow.org/data/speech_commands_v0.02.tar.gz\">here</a> (note: you do not need to download the full dataset, but it will allow you to play around with the raw audiofiles). This dataset contains 105,829 one-second long audio files with utterances of 35 common words.\n",
    "\n",
    "We will use a subset of this dataset as indicated in the table below.\n",
    "\n",
    "| Word | How many? | Class # |\n",
    "| :-: | :-: | :-: |\n",
    "| Yes | 4,044 | 3 |\n",
    "| No | 3,941 | 1 |\n",
    "| Stop | 3,872 | 2 |\n",
    "| Go | 3,880 | 0 |\n",
    "\n",
    "The data is given in the files `XSound.npy` and `YSound.npy`, both of which can be imported using `numpy.load`. `XSound.npy` contains spectrograms (_e.g._, matrices with a time-axis and a frequency-axis of size 62 (time) x 65 (frequency)). `YSound.npy` contains the class number, as indicated in the table above."
   ]
  },
  {
   "cell_type": "markdown",
   "id": "31986fe8",
   "metadata": {},
   "source": [
    "__(a)__ Explore and prepare the data, including splitting the data in training, validation and testing data, handling outliers, perhaps taking logarithms, etc. Data preparation is - as always - quite important. Document what you do."
   ]
  },
  {
   "cell_type": "markdown",
   "id": "08395b33",
   "metadata": {},
   "source": [
    "__(b)__ Visualize a few examples of yes's, no's, stop's and go's, so that you have a reasonable intuitive understanding of the difference between the words."
   ]
  },
  {
   "cell_type": "markdown",
   "id": "ace8f5f7",
   "metadata": {},
   "source": [
    "__(c)__ Train a neural network and at least one other algorithm on the data. Find a good set of hyperparameters for each model. Do you think a neural network is suitable for this kind of problem? Why/why not?"
   ]
  },
  {
   "cell_type": "markdown",
   "id": "1dfbfc17",
   "metadata": {},
   "source": [
    "__(d)__ Classify instances of the validation set using your models. Comment on the results in terms of metrics you have learned in the course."
   ]
  },
  {
   "cell_type": "markdown",
   "id": "149c8ead",
   "metadata": {},
   "source": [
    "__(e)__ Identify (a few) misclassified words, including what they are misclassified as. Visualize them as before, and compare with your intuitive understanding of how the words look. Do you find the misclassified examples surprising?"
   ]
  },
  {
   "cell_type": "markdown",
   "id": "89c67323",
   "metadata": {},
   "source": [
    "## 7. Group Assignment & Presentation"
   ]
  },
  {
   "cell_type": "markdown",
   "id": "14b00db2",
   "metadata": {},
   "source": [
    "\n",
    "\n",
    "__You should be able to start up on this exercise after Lecture 1.__\n",
    "\n",
    "*This exercise must be a group effort. That means everyone must participate in the assignment.*\n",
    "\n",
    "In this assignment you will solve a data science problem end-to-end, pretending to be recently hired data scientists in a company. To help you get started, we've prepared a checklist to guide you through the project. Here are the main steps that you will go through:\n",
    "\n",
    "1. Frame the problem and look at the big picture\n",
    "2. Get the data\n",
    "3. Explore and visualise the data to gain insights\n",
    "4. Prepare the data to better expose the underlying data patterns to machine learning algorithms\n",
    "5. Explore many different models and short-list the best ones\n",
    "6. Fine-tune your models\n",
    "7. Present your solution \n",
    "\n",
    "In each step we list a set of questions that one should have in mind when undertaking a data science project. The list is not meant to be exhaustive, but does contain a selection of the most important questions to ask. We will be available to provide assistance with each of the steps, and will allocate some part of each lesson towards working on the projects.\n",
    "\n",
    "Your group must submit a _**single**_ Jupyter notebook, structured in terms of the first 6 sections listed above (the seventh will be a video uploaded to some streaming platform, e.g. YouTube, Vimeo, etc.)."
   ]
  },
  {
   "cell_type": "markdown",
   "id": "fbf60c0b",
   "metadata": {},
   "source": [
    "### 1. Analysis: Frame the problem and look at the big picture\n",
    "1. Find a problem/task that everyone in the group finds interesting\n",
    "2. Define the objective in business terms\n",
    "3. How should you frame the problem (supervised/unsupervised etc.)?\n",
    "4. How should performance be measured?"
   ]
  },
  {
   "cell_type": "markdown",
   "id": "73d1e473",
   "metadata": {},
   "source": [
    "### 2. Get the data\n",
    "1. Find and document where you can get the data from\n",
    "2. Get the data\n",
    "3. Check the size and type of data (time series, geographical etc)"
   ]
  },
  {
   "cell_type": "markdown",
   "id": "a4f0cd68",
   "metadata": {},
   "source": [
    "### 3. Explore the data\n",
    "1. Create a copy of the data for explorations (sampling it down to a manageable size if necessary)\n",
    "2. Create a Jupyter notebook to keep a record of your data exploration\n",
    "3. Study each feature and its characteristics:\n",
    "    * Name\n",
    "    * Type (categorical, int/float, bounded/unbounded, text, structured, etc)\n",
    "    * Percentage of missing values\n",
    "    * Check for outliers, rounding errors etc\n",
    "4. For supervised learning tasks, identify the target(s)\n",
    "5. Visualise the data\n",
    "6. Study the correlations between features\n",
    "7. Identify the promising transformations you may want to apply (e.g. convert skewed targets to normal via a log transformation)\n",
    "8. Document what you have learned"
   ]
  },
  {
   "cell_type": "markdown",
   "id": "b9efdb64",
   "metadata": {},
   "source": [
    "### 4. Prepare the data\n",
    "Notes:\n",
    "* Work on copies of the data (keep the original dataset intact).\n",
    "* Write functions for all data transformations you apply, for three reasons:\n",
    "    * So you can easily prepare the data the next time you run your code\n",
    "    * So you can apply these transformations in future projects\n",
    "    * To clean and prepare the test set\n",
    "    \n",
    "    \n",
    "1. Data cleaning:\n",
    "    * Fix or remove outliers (or keep them)\n",
    "    * Fill in missing values (e.g. with zero, mean, median, regression ...) or drop their rows (or columns)\n",
    "2. Feature selection (optional):\n",
    "    * Drop the features that provide no useful information for the task (e.g. a customer ID is usually useless for modelling).\n",
    "3. Feature engineering, where appropriate:\n",
    "    * Discretize continuous features\n",
    "    * Use one-hot encoding if/when relevant\n",
    "    * Add promising transformations of features (e.g. $\\log(x)$, $\\sqrt{x}$, $x^2$, etc)\n",
    "    * Aggregate features into promising new features\n",
    "4. Feature scaling: standardise or normalise features"
   ]
  },
  {
   "cell_type": "markdown",
   "id": "bfa4ddcf",
   "metadata": {},
   "source": [
    "### 5. Short-list promising models\n",
    "We expect you to do some additional research and train at **least one model per team member**.\n",
    "\n",
    "1. Train mainly quick and dirty models from different categories (e.g. linear, SVM, Random Forests etc) using default parameters\n",
    "2. Measure and compare their performance\n",
    "3. Analyse the most significant variables for each algorithm\n",
    "4. Analyse the types of errors the models make\n",
    "5. Have a quick round of feature selection and engineering if necessary\n",
    "6. Have one or two more quick iterations of the five previous steps\n",
    "7. Short-list the top three to five most promising models, preferring models that make different types of errors"
   ]
  },
  {
   "cell_type": "markdown",
   "id": "9b039fb8",
   "metadata": {},
   "source": [
    "### 6. Fine-tune the system\n",
    "1. Fine-tune the hyperparameters\n",
    "2. Once you are confident about your final model, measure its performance on the test set to estimate the generalisation error"
   ]
  },
  {
   "cell_type": "markdown",
   "id": "aec49c9a",
   "metadata": {},
   "source": [
    "### 7. Present your solution\n",
    "1. Document what you have done\n",
    "2. Create a nice 15 minute video presentation with slides\n",
    "    * Make sure you highlight the big picture first\n",
    "3. Explain why your solution achieves the business objective\n",
    "4. Don't forget to present interesting points you noticed along the way:\n",
    "    * Describe what worked and what did not\n",
    "    * List your assumptions and you model's limitations\n",
    "5. Ensure your key findings are communicated through nice visualisations or easy-to-remember statements (e.g. \"the median income is the number-one predictor of housing prices\")\n",
    "6. Upload the presentation to some online platform, e.g. YouTube or Vimeo, and supply a link to the video in the notebook."
   ]
  },
  {
   "cell_type": "markdown",
   "id": "7f033c3e",
   "metadata": {},
   "source": [
    "## References"
   ]
  },
  {
   "cell_type": "markdown",
   "id": "6e8e3fdf",
   "metadata": {},
   "source": [
    "Géron, A. 2017, *Hands-On Machine Learning with Scikit-Learn and Tensorflow*, Appendix B, O'Reilly Media, Inc., Sebastopol."
   ]
  }
 ],
 "metadata": {
  "kernelspec": {
   "display_name": "Python 3 (ipykernel)",
   "language": "python",
   "name": "python3"
  },
  "language_info": {
   "codemirror_mode": {
    "name": "ipython",
    "version": 3
   },
   "file_extension": ".py",
   "mimetype": "text/x-python",
   "name": "python",
   "nbconvert_exporter": "python",
   "pygments_lexer": "ipython3",
   "version": "3.9.13"
  },
  "vscode": {
   "interpreter": {
    "hash": "b0fa6594d8f4cbf19f97940f81e996739fb7646882a419484c72d19e05852a7e"
   }
  }
 },
 "nbformat": 4,
 "nbformat_minor": 5
}
